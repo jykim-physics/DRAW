{
 "cells": [
  {
   "cell_type": "code",
   "execution_count": 1,
   "id": "497486a0",
   "metadata": {},
   "outputs": [
    {
     "name": "stdout",
     "output_type": "stream",
     "text": [
      "iminuit version: 2.15.2\n"
     ]
    }
   ],
   "source": [
    "from matplotlib import pyplot as plt\n",
    "# import b2plot as bp\n",
    "# plt.style.use('belle2_modern')\n",
    "# plt.style.use('belle2')\n",
    "\n",
    "\n",
    "# basic setup of the notebook\n",
    "\n",
    "import numpy as np\n",
    "\n",
    "# everything in iminuit is done through the Minuit object, so we import it\n",
    "from iminuit import Minuit,cost\n",
    "\n",
    "# we also need a cost function to fit and import the LeastSquares function\n",
    "from iminuit.cost import LeastSquares\n",
    "\n",
    "# display iminuit version\n",
    "import iminuit\n",
    "print(\"iminuit version:\", iminuit.__version__)"
   ]
  },
  {
   "cell_type": "code",
   "execution_count": 2,
   "id": "3207dffe",
   "metadata": {},
   "outputs": [],
   "source": [
    "# plt.style.available\n",
    "# plt.style.use('belle2_modern')\n",
    "px = 1/plt.rcParams['figure.dpi']\n",
    "# plt.figure(figsize=(576*px, 396*px))"
   ]
  },
  {
   "cell_type": "code",
   "execution_count": 23,
   "id": "a679831c",
   "metadata": {},
   "outputs": [
    {
     "name": "stdout",
     "output_type": "stream",
     "text": [
      "Welcome to JupyROOT 6.26/04\n"
     ]
    }
   ],
   "source": [
    "from hist.get_data import get_data"
   ]
  },
  {
   "cell_type": "code",
   "execution_count": 24,
   "id": "7a70f32c",
   "metadata": {},
   "outputs": [],
   "source": [
    "from iminuit import Minuit\n",
    "from iminuit.cost import UnbinnedNLL\n",
    "from iminuit.util import describe\n",
    "from matplotlib import pyplot as plt\n",
    "import numpy as np\n",
    "from numba_stats import norm, crystalball"
   ]
  },
  {
   "cell_type": "code",
   "execution_count": 25,
   "id": "3b340552",
   "metadata": {},
   "outputs": [],
   "source": [
    "def crystalball_pdf(x, beta, m, loc, scale):\n",
    "    \n",
    "    return crystalball.pdf(x, beta, m, loc, scale)"
   ]
  },
  {
   "cell_type": "code",
   "execution_count": 26,
   "id": "1a235bda",
   "metadata": {},
   "outputs": [],
   "source": [
    "def signal_crystalball(x, s, beta, m, loc, scale):\n",
    "    func = s * crystalball.pdf(x, beta, m, loc, scale)\n",
    "    return s, func"
   ]
  },
  {
   "cell_type": "code",
   "execution_count": 169,
   "id": "27468b6b",
   "metadata": {},
   "outputs": [],
   "source": [
    "def extended_bin_signal_crystalball(x, s, beta, m, loc, scale):\n",
    "    func = s * crystalball.pdf(x, beta, m, loc, scale)\n",
    "    return func"
   ]
  },
  {
   "cell_type": "code",
   "execution_count": 170,
   "id": "3a088fdb",
   "metadata": {},
   "outputs": [],
   "source": [
    "file='/media/jykim/ssd_T5/storage/01_recon/antiKstar/v2_all_signalMC_recon_mdst_antiKstar.root'"
   ]
  },
  {
   "cell_type": "code",
   "execution_count": 171,
   "id": "3b1b390d",
   "metadata": {},
   "outputs": [],
   "source": [
    "file='/media/jykim/ssd_T5/storage/01_recon/antiKstar/v2_all_signalMC_recon_mdst_antiKstar.root'\n",
    "file='/media/jykim/ssd_T5/storage/01_recon/phi/v2_all_signalMC_recon_mdst_phi.root'\n",
    "\n",
    "variables=['D0_M','Pi0_Prob']\n",
    "tree = 'antiKstar'\n",
    "tree = 'phi'"
   ]
  },
  {
   "cell_type": "code",
   "execution_count": 172,
   "id": "4276a8c6",
   "metadata": {},
   "outputs": [],
   "source": [
    "df_antiKstar= get_data(file=file, tree=tree,variables=variables)"
   ]
  },
  {
   "cell_type": "code",
   "execution_count": 173,
   "id": "7d9fb2e7",
   "metadata": {},
   "outputs": [
    {
     "data": {
      "text/html": [
       "<div>\n",
       "<style scoped>\n",
       "    .dataframe tbody tr th:only-of-type {\n",
       "        vertical-align: middle;\n",
       "    }\n",
       "\n",
       "    .dataframe tbody tr th {\n",
       "        vertical-align: top;\n",
       "    }\n",
       "\n",
       "    .dataframe thead th {\n",
       "        text-align: right;\n",
       "    }\n",
       "</style>\n",
       "<table border=\"1\" class=\"dataframe\">\n",
       "  <thead>\n",
       "    <tr style=\"text-align: right;\">\n",
       "      <th></th>\n",
       "      <th>D0_M</th>\n",
       "      <th>Pi0_Prob</th>\n",
       "    </tr>\n",
       "  </thead>\n",
       "  <tbody>\n",
       "    <tr>\n",
       "      <th>count</th>\n",
       "      <td>76541.000000</td>\n",
       "      <td>7.654100e+04</td>\n",
       "    </tr>\n",
       "    <tr>\n",
       "      <th>mean</th>\n",
       "      <td>1.858442</td>\n",
       "      <td>3.197872e-01</td>\n",
       "    </tr>\n",
       "    <tr>\n",
       "      <th>std</th>\n",
       "      <td>0.021454</td>\n",
       "      <td>2.877266e-01</td>\n",
       "    </tr>\n",
       "    <tr>\n",
       "      <th>min</th>\n",
       "      <td>1.665261</td>\n",
       "      <td>2.669249e-07</td>\n",
       "    </tr>\n",
       "    <tr>\n",
       "      <th>25%</th>\n",
       "      <td>1.849710</td>\n",
       "      <td>5.106067e-02</td>\n",
       "    </tr>\n",
       "    <tr>\n",
       "      <th>50%</th>\n",
       "      <td>1.861044</td>\n",
       "      <td>2.527811e-01</td>\n",
       "    </tr>\n",
       "    <tr>\n",
       "      <th>75%</th>\n",
       "      <td>1.870518</td>\n",
       "      <td>5.501136e-01</td>\n",
       "    </tr>\n",
       "    <tr>\n",
       "      <th>max</th>\n",
       "      <td>2.064014</td>\n",
       "      <td>8.999168e-01</td>\n",
       "    </tr>\n",
       "  </tbody>\n",
       "</table>\n",
       "</div>"
      ],
      "text/plain": [
       "               D0_M      Pi0_Prob\n",
       "count  76541.000000  7.654100e+04\n",
       "mean       1.858442  3.197872e-01\n",
       "std        0.021454  2.877266e-01\n",
       "min        1.665261  2.669249e-07\n",
       "25%        1.849710  5.106067e-02\n",
       "50%        1.861044  2.527811e-01\n",
       "75%        1.870518  5.501136e-01\n",
       "max        2.064014  8.999168e-01"
      ]
     },
     "execution_count": 173,
     "metadata": {},
     "output_type": "execute_result"
    }
   ],
   "source": [
    "df_antiKstar_Pi0veto= get_data(file=file, tree=tree,variables=variables,base_filter='Pi0_Prob<0.9')\n",
    "df_antiKstar_Pi0veto.describe()"
   ]
  },
  {
   "cell_type": "code",
   "execution_count": 174,
   "id": "720bb729",
   "metadata": {},
   "outputs": [],
   "source": [
    "# COST = cost.LeastSquares( )"
   ]
  },
  {
   "cell_type": "code",
   "execution_count": 175,
   "id": "a8101cfd",
   "metadata": {},
   "outputs": [],
   "source": [
    "# COST = cost.ExtendedUnbinnedNLL(df_antiKstar_Pi0veto['D0_M'], crystalball_pdf)"
   ]
  },
  {
   "cell_type": "code",
   "execution_count": 176,
   "id": "3d8b74ec",
   "metadata": {},
   "outputs": [],
   "source": [
    "# COST = cost.UnbinnedNLL(df_antiKstar_Pi0veto['D0_M'], crystalball_pdf)\n",
    "\n",
    "\n",
    "# COST = cost.ExtendedUnbinnedNLL(df_antiKstar_Pi0veto['D0_M'], signal_crystalball)\n",
    "COST = cost.ExtendedBinnedNLL(n,xe, extended_bin_signal_crystalball)"
   ]
  },
  {
   "cell_type": "code",
   "execution_count": 177,
   "id": "c6ee8f4f",
   "metadata": {},
   "outputs": [],
   "source": [
    "# m = Minuit(COST, beta=1, m=1.86, loc=1, scale=1)\n",
    "m = Minuit(COST, s=70000,beta=1, m=1.86, loc=1, scale=1)\n"
   ]
  },
  {
   "cell_type": "code",
   "execution_count": 178,
   "id": "ca05da1e",
   "metadata": {},
   "outputs": [
    {
     "data": {
      "text/html": [
       "<table>\n",
       "    <tr>\n",
       "        <th colspan=\"5\" style=\"text-align:center\" title=\"Minimizer\"> Migrad </th>\n",
       "    </tr>\n",
       "    <tr>\n",
       "        <td colspan=\"2\" style=\"text-align:left\" title=\"Minimum value of function\"> FCN = 1.151e+08 (chi2/ndof = 2557324.7) </td>\n",
       "        <td colspan=\"3\" style=\"text-align:center\" title=\"Total number of function and (optional) gradient evaluations\"> Nfcn = 120 </td>\n",
       "    </tr>\n",
       "    <tr>\n",
       "        <td colspan=\"2\" style=\"text-align:left\" title=\"Estimated distance to minimum and goal\"> EDM = 0 (Goal: 0.0002) </td>\n",
       "        <td colspan=\"3\" style=\"text-align:center\" title=\"Total run time of algorithms\"> time = 0.4 sec </td>\n",
       "    </tr>\n",
       "    <tr>\n",
       "        <td colspan=\"2\" style=\"text-align:center;background-color:#c15ef7;color:black\"> INVALID Minimum </td>\n",
       "        <td colspan=\"3\" style=\"text-align:center;background-color:#92CCA6;color:black\"> No Parameters at limit </td>\n",
       "    </tr>\n",
       "    <tr>\n",
       "        <td colspan=\"2\" style=\"text-align:center;background-color:#92CCA6;color:black\"> Below EDM threshold (goal x 10) </td>\n",
       "        <td colspan=\"3\" style=\"text-align:center;background-color:#92CCA6;color:black\"> Below call limit </td>\n",
       "    </tr>\n",
       "    <tr>\n",
       "        <td style=\"text-align:center;background-color:#92CCA6;color:black\"> Covariance </td>\n",
       "        <td style=\"text-align:center;background-color:#c15ef7;color:black\"> Hesse FAILED </td>\n",
       "        <td style=\"text-align:center;background-color:#FFF79A;color:black\" title=\"Is covariance matrix accurate?\"> APPROXIMATE </td>\n",
       "        <td style=\"text-align:center;background-color:#c15ef7;color:black\" title=\"Is covariance matrix positive definite?\"> NOT pos. def. </td>\n",
       "        <td style=\"text-align:center;background-color:#92CCA6;color:black\" title=\"Was positive definiteness enforced by Minuit?\"> Not forced </td>\n",
       "    </tr>\n",
       "</table><table>\n",
       "    <tr>\n",
       "        <td></td>\n",
       "        <th title=\"Variable name\"> Name </th>\n",
       "        <th title=\"Value of parameter\"> Value </th>\n",
       "        <th title=\"Hesse error\"> Hesse Error </th>\n",
       "        <th title=\"Minos lower error\"> Minos Error- </th>\n",
       "        <th title=\"Minos upper error\"> Minos Error+ </th>\n",
       "        <th title=\"Lower limit of the parameter\"> Limit- </th>\n",
       "        <th title=\"Upper limit of the parameter\"> Limit+ </th>\n",
       "        <th title=\"Is the parameter fixed in the fit\"> Fixed </th>\n",
       "    </tr>\n",
       "    <tr>\n",
       "        <th> 0 </th>\n",
       "        <td> s </td>\n",
       "        <td> 7e4 </td>\n",
       "        <td> 0e4 </td>\n",
       "        <td>  </td>\n",
       "        <td>  </td>\n",
       "        <td> 0 </td>\n",
       "        <td>  </td>\n",
       "        <td>  </td>\n",
       "    </tr>\n",
       "    <tr>\n",
       "        <th> 1 </th>\n",
       "        <td> beta </td>\n",
       "        <td> 10e-1 </td>\n",
       "        <td> 0e-1 </td>\n",
       "        <td>  </td>\n",
       "        <td>  </td>\n",
       "        <td> 0 </td>\n",
       "        <td>  </td>\n",
       "        <td>  </td>\n",
       "    </tr>\n",
       "    <tr>\n",
       "        <th> 2 </th>\n",
       "        <td> m </td>\n",
       "        <td> 1.86 </td>\n",
       "        <td> 0.00 </td>\n",
       "        <td>  </td>\n",
       "        <td>  </td>\n",
       "        <td> 0 </td>\n",
       "        <td>  </td>\n",
       "        <td>  </td>\n",
       "    </tr>\n",
       "    <tr>\n",
       "        <th> 3 </th>\n",
       "        <td> loc </td>\n",
       "        <td> 10e-1 </td>\n",
       "        <td> 0e-1 </td>\n",
       "        <td>  </td>\n",
       "        <td>  </td>\n",
       "        <td> 0 </td>\n",
       "        <td>  </td>\n",
       "        <td>  </td>\n",
       "    </tr>\n",
       "    <tr>\n",
       "        <th> 4 </th>\n",
       "        <td> scale </td>\n",
       "        <td> 10e-1 </td>\n",
       "        <td> 0e-1 </td>\n",
       "        <td>  </td>\n",
       "        <td>  </td>\n",
       "        <td> 0 </td>\n",
       "        <td>  </td>\n",
       "        <td>  </td>\n",
       "    </tr>\n",
       "</table>"
      ],
      "text/plain": [
       "┌─────────────────────────────────────────────────────────────────────────┐\n",
       "│                                Migrad                                   │\n",
       "├──────────────────────────────────┬──────────────────────────────────────┤\n",
       "│ FCN = 1.151e+08 (chi2/ndof = 2557324.7)│              Nfcn = 120              │\n",
       "│ EDM = 0 (Goal: 0.0002)           │            time = 0.4 sec            │\n",
       "├──────────────────────────────────┼──────────────────────────────────────┤\n",
       "│         INVALID Minimum          │        No Parameters at limit        │\n",
       "├──────────────────────────────────┼──────────────────────────────────────┤\n",
       "│ Below EDM threshold (goal x 10)  │           Below call limit           │\n",
       "├───────────────┬──────────────────┼───────────┬─────────────┬────────────┤\n",
       "│  Covariance   │   Hesse FAILED   │APPROXIMATE│NOT pos. def.│ Not forced │\n",
       "└───────────────┴──────────────────┴───────────┴─────────────┴────────────┘\n",
       "┌───┬───────┬───────────┬───────────┬────────────┬────────────┬─────────┬─────────┬───────┐\n",
       "│   │ Name  │   Value   │ Hesse Err │ Minos Err- │ Minos Err+ │ Limit-  │ Limit+  │ Fixed │\n",
       "├───┼───────┼───────────┼───────────┼────────────┼────────────┼─────────┼─────────┼───────┤\n",
       "│ 0 │ s     │    7e4    │    0e4    │            │            │    0    │         │       │\n",
       "│ 1 │ beta  │   10e-1   │   0e-1    │            │            │    0    │         │       │\n",
       "│ 2 │ m     │   1.86    │   0.00    │            │            │    0    │         │       │\n",
       "│ 3 │ loc   │   10e-1   │   0e-1    │            │            │    0    │         │       │\n",
       "│ 4 │ scale │   10e-1   │   0e-1    │            │            │    0    │         │       │\n",
       "└───┴───────┴───────────┴───────────┴────────────┴────────────┴─────────┴─────────┴───────┘"
      ]
     },
     "execution_count": 178,
     "metadata": {},
     "output_type": "execute_result"
    }
   ],
   "source": [
    "m.limits[\"s\",\"beta\", \"m\", \"loc\",\"scale\"] = (0, None)\n",
    "m.migrad()\n",
    "#m.interactive()"
   ]
  },
  {
   "cell_type": "code",
   "execution_count": 179,
   "id": "fd316ff7",
   "metadata": {},
   "outputs": [
    {
     "ename": "RuntimeError",
     "evalue": "Function minimum is not valid: <FMin algorithm='Migrad' edm=0.0 edm_goal=0.0002 errordef=1.0 fval=115079611.51233216 has_accurate_covar=False has_covariance=True has_made_posdef_covar=False has_parameters_at_limit=False has_posdef_covar=False has_reached_call_limit=False has_valid_parameters=False hesse_failed=True is_above_max_edm=False is_valid=False nfcn=120 ngrad=0 reduced_chi2=2557324.700274048 time=0.3514376179991814>",
     "output_type": "error",
     "traceback": [
      "\u001b[0;31m---------------------------------------------------------------------------\u001b[0m",
      "\u001b[0;31mRuntimeError\u001b[0m                              Traceback (most recent call last)",
      "Input \u001b[0;32mIn [179]\u001b[0m, in \u001b[0;36m<cell line: 3>\u001b[0;34m()\u001b[0m\n\u001b[1;32m      1\u001b[0m \u001b[38;5;66;03m# plt.plot(data.x, model(data.x, *m.values[:]), label=\"model\")\u001b[39;00m\n\u001b[0;32m----> 3\u001b[0m \u001b[43mm\u001b[49m\u001b[38;5;241;43m.\u001b[39;49m\u001b[43mminos\u001b[49m\u001b[43m(\u001b[49m\u001b[43m)\u001b[49m\n",
      "File \u001b[0;32m~/anaconda3/envs/draw/lib/python3.10/site-packages/iminuit/minuit.py:1385\u001b[0m, in \u001b[0;36mMinuit.minos\u001b[0;34m(self, cl, ncall, *parameters)\u001b[0m\n\u001b[1;32m   1382\u001b[0m fm \u001b[38;5;241m=\u001b[39m \u001b[38;5;28mself\u001b[39m\u001b[38;5;241m.\u001b[39m_fmin\u001b[38;5;241m.\u001b[39m_src\n\u001b[1;32m   1384\u001b[0m \u001b[38;5;28;01mif\u001b[39;00m \u001b[38;5;129;01mnot\u001b[39;00m \u001b[38;5;28mself\u001b[39m\u001b[38;5;241m.\u001b[39mvalid:\n\u001b[0;32m-> 1385\u001b[0m     \u001b[38;5;28;01mraise\u001b[39;00m \u001b[38;5;167;01mRuntimeError\u001b[39;00m(\u001b[38;5;124mf\u001b[39m\u001b[38;5;124m\"\u001b[39m\u001b[38;5;124mFunction minimum is not valid: \u001b[39m\u001b[38;5;132;01m{\u001b[39;00m\u001b[38;5;28mrepr\u001b[39m(\u001b[38;5;28mself\u001b[39m\u001b[38;5;241m.\u001b[39m_fmin)\u001b[38;5;132;01m}\u001b[39;00m\u001b[38;5;124m\"\u001b[39m)\n\u001b[1;32m   1387\u001b[0m \u001b[38;5;28;01mif\u001b[39;00m \u001b[38;5;28mlen\u001b[39m(parameters) \u001b[38;5;241m==\u001b[39m \u001b[38;5;241m0\u001b[39m:\n\u001b[1;32m   1388\u001b[0m     pars \u001b[38;5;241m=\u001b[39m [par \u001b[38;5;28;01mfor\u001b[39;00m par \u001b[38;5;129;01min\u001b[39;00m \u001b[38;5;28mself\u001b[39m\u001b[38;5;241m.\u001b[39mparameters \u001b[38;5;28;01mif\u001b[39;00m \u001b[38;5;129;01mnot\u001b[39;00m \u001b[38;5;28mself\u001b[39m\u001b[38;5;241m.\u001b[39mfixed[par]]\n",
      "\u001b[0;31mRuntimeError\u001b[0m: Function minimum is not valid: <FMin algorithm='Migrad' edm=0.0 edm_goal=0.0002 errordef=1.0 fval=115079611.51233216 has_accurate_covar=False has_covariance=True has_made_posdef_covar=False has_parameters_at_limit=False has_posdef_covar=False has_reached_call_limit=False has_valid_parameters=False hesse_failed=True is_above_max_edm=False is_valid=False nfcn=120 ngrad=0 reduced_chi2=2557324.700274048 time=0.3514376179991814>"
     ]
    }
   ],
   "source": [
    "# plt.plot(data.x, model(data.x, *m.values[:]), label=\"model\")\n",
    "\n",
    "m.minos()"
   ]
  },
  {
   "cell_type": "code",
   "execution_count": 180,
   "id": "77b5e3df",
   "metadata": {},
   "outputs": [
    {
     "data": {
      "application/vnd.jupyter.widget-view+json": {
       "model_id": "d3f9c14ae61e463bad91b684c294d67e",
       "version_major": 2,
       "version_minor": 0
      },
      "text/plain": [
       "HBox(children=(Output(), VBox(children=(HBox(children=(Button(description='Fit', style=ButtonStyle()), ToggleB…"
      ]
     },
     "metadata": {},
     "output_type": "display_data"
    }
   ],
   "source": [
    "m.interactive()"
   ]
  },
  {
   "cell_type": "code",
   "execution_count": 181,
   "id": "da4889e4",
   "metadata": {},
   "outputs": [
    {
     "ename": "TypeError",
     "evalue": "crystalball_pdf() takes 5 positional arguments but 6 were given",
     "output_type": "error",
     "traceback": [
      "\u001b[0;31m---------------------------------------------------------------------------\u001b[0m",
      "\u001b[0;31mTypeError\u001b[0m                                 Traceback (most recent call last)",
      "Input \u001b[0;32mIn [181]\u001b[0m, in \u001b[0;36m<cell line: 1>\u001b[0;34m()\u001b[0m\n\u001b[0;32m----> 1\u001b[0m plt\u001b[38;5;241m.\u001b[39mplot(xm, \u001b[43mcrystalball_pdf\u001b[49m\u001b[43m(\u001b[49m\u001b[43mxm\u001b[49m\u001b[43m,\u001b[49m\u001b[38;5;241;43m*\u001b[39;49m\u001b[43mm\u001b[49m\u001b[38;5;241;43m.\u001b[39;49m\u001b[43mvalues\u001b[49m\u001b[43m)\u001b[49m)\n",
      "\u001b[0;31mTypeError\u001b[0m: crystalball_pdf() takes 5 positional arguments but 6 were given"
     ]
    }
   ],
   "source": [
    "plt.plot(xm, crystalball_pdf(xm,*m.values))"
   ]
  },
  {
   "cell_type": "code",
   "execution_count": 182,
   "id": "7d978694",
   "metadata": {},
   "outputs": [],
   "source": [
    "px = 1/plt.rcParams['figure.dpi']"
   ]
  },
  {
   "cell_type": "code",
   "execution_count": 183,
   "id": "51fc1107",
   "metadata": {},
   "outputs": [],
   "source": [
    "n, xe = np.histogram(df_antiKstar_Pi0veto['D0_M'], bins=50, range=(1.665,2.065))"
   ]
  },
  {
   "cell_type": "code",
   "execution_count": 184,
   "id": "07ec9b7e",
   "metadata": {},
   "outputs": [],
   "source": [
    "cx = 0.5 * (xe[1:] + xe[:-1])"
   ]
  },
  {
   "cell_type": "code",
   "execution_count": 188,
   "id": "2ecb661d",
   "metadata": {},
   "outputs": [
    {
     "data": {
      "image/png": "[encoded data removed]",
      "text/plain": [
       "<Figure size 576x396 with 1 Axes>"
      ]
     },
     "metadata": {},
     "output_type": "display_data"
    }
   ],
   "source": [
    "\n",
    "\n",
    "fig = plt.figure(figsize=(576*px, 396*px))\n",
    "# import b2plot as bp\n",
    "# plt.style.use('belle2_modern')\n",
    "xrange = (1.665,2.065, 400)\n",
    "xm = np.linspace(*xrange)\n",
    "dx = 0.4/50\n",
    "\n",
    "plt.errorbar(cx, n, n ** 0.5, fmt=\"ok\")\n",
    "plt.plot(xm, signal_crystalball(xm, *m.values)[1] * dx,label=\"fit\")\n",
    "plt.hist( df_antiKstar_Pi0veto['D0_M'],bins=50, range=(1.665,2.065), label=\"data\", density=False,histtype='step',)\n",
    "\n",
    "# m.fval is only chi2 if cost function supports that\n",
    "# telltale sign: m.ndof returns something finite and not None\n",
    "chi2 = m.fval\n",
    "ndof = m.ndof\n",
    "\n",
    "title = [\n",
    "    f\"χ²/ndof = {chi2:.1f}/{ndof} = {chi2/ndof:.1f}\",\n",
    "]\n",
    "for par in m.parameters:\n",
    "    title.append(\n",
    "        f\"{par} = {m.values[par]:.2f} +/- {m.errors[par]:.2f}\"\n",
    "    )\n",
    "\n",
    "plt.rcParams['legend.title_fontsize'] = 'small'\n",
    "plt.legend(title=\"\\n\".join(title) , frameon=True, shadow=False, fontsize='small')\n",
    "\n",
    "plt.xlabel(\"$\\mathrm{M(D^0)} \\; [\\mathrm{GeV/c^2}]$\")\n",
    "plt.ylabel(\"Entries\");\n",
    "\n"
   ]
  },
  {
   "cell_type": "code",
   "execution_count": 86,
   "id": "f3fe9623",
   "metadata": {},
   "outputs": [
    {
     "data": {
      "text/plain": [
       "array([   12,    20,    13,    18,    15,    35,    33,    16,    36,\n",
       "          37,    64,    71,    81,   119,   159,   230,   346,   502,\n",
       "         812,  1388,  2455,  4375,  7409, 12142, 16109, 15236,  9097,\n",
       "        3617,  1187,   417,   175,    80,    41,    46,    33,    15,\n",
       "          11,    17,     8,    11,    11,     5,     5,     6,     4,\n",
       "           8,     1,     4,     4,     5])"
      ]
     },
     "execution_count": 86,
     "metadata": {},
     "output_type": "execute_result"
    }
   ],
   "source": [
    "n"
   ]
  },
  {
   "cell_type": "code",
   "execution_count": 129,
   "id": "bcd7cfa6",
   "metadata": {},
   "outputs": [
    {
     "data": {
      "text/plain": [
       "array([1.665, 1.673, 1.681, 1.689, 1.697, 1.705, 1.713, 1.721, 1.729,\n",
       "       1.737, 1.745, 1.753, 1.761, 1.769, 1.777, 1.785, 1.793, 1.801,\n",
       "       1.809, 1.817, 1.825, 1.833, 1.841, 1.849, 1.857, 1.865, 1.873,\n",
       "       1.881, 1.889, 1.897, 1.905, 1.913, 1.921, 1.929, 1.937, 1.945,\n",
       "       1.953, 1.961, 1.969, 1.977, 1.985, 1.993, 2.001, 2.009, 2.017,\n",
       "       2.025, 2.033, 2.041, 2.049, 2.057, 2.065])"
      ]
     },
     "execution_count": 129,
     "metadata": {},
     "output_type": "execute_result"
    }
   ],
   "source": [
    "xe"
   ]
  },
  {
   "cell_type": "code",
   "execution_count": 19,
   "id": "b27b9624",
   "metadata": {},
   "outputs": [],
   "source": [
    "xrange = (1.665,2.065, 4899)\n",
    "xm = np.linspace(*xrange)\n",
    "#plt.plot(xm, crystalball_pdf(xm, *[p.value for p in m.init_params]) * len(xmix) * dx[0],\n",
    "#          ls=\":\", label=\"init\")"
   ]
  },
  {
   "cell_type": "code",
   "execution_count": 51,
   "id": "d7aa72bc",
   "metadata": {},
   "outputs": [
    {
     "data": {
      "text/plain": [
       "[<matplotlib.lines.Line2D at 0x7f13b9363eb0>]"
      ]
     },
     "execution_count": 51,
     "metadata": {},
     "output_type": "execute_result"
    },
    {
     "data": {
      "image/png": "[encoded data removed]",
      "text/plain": [
       "<Figure size 432x288 with 1 Axes>"
      ]
     },
     "metadata": {
      "needs_background": "light"
     },
     "output_type": "display_data"
    }
   ],
   "source": [
    "plt.plot(df_antiKstar['D0_M'], crystalball_pdf(df_antiKstar['D0_M'],*m.values))"
   ]
  },
  {
   "cell_type": "code",
   "execution_count": 48,
   "id": "af44e17f",
   "metadata": {},
   "outputs": [
    {
     "ename": "NameError",
     "evalue": "name 'xr' is not defined",
     "output_type": "error",
     "traceback": [
      "\u001b[0;31m---------------------------------------------------------------------------\u001b[0m",
      "\u001b[0;31mNameError\u001b[0m                                 Traceback (most recent call last)",
      "Input \u001b[0;32mIn [48]\u001b[0m, in \u001b[0;36m<cell line: 2>\u001b[0;34m()\u001b[0m\n\u001b[1;32m      1\u001b[0m \u001b[38;5;66;03m#plt.errorbar(cx, n, n ** 0.5, fmt=\"ok\")\u001b[39;00m\n\u001b[0;32m----> 2\u001b[0m xm \u001b[38;5;241m=\u001b[39m np\u001b[38;5;241m.\u001b[39mlinspace(\u001b[38;5;241m*\u001b[39m\u001b[43mxr\u001b[49m)\n\u001b[1;32m      3\u001b[0m plt\u001b[38;5;241m.\u001b[39mplot(xm, pdf(xm, \u001b[38;5;241m*\u001b[39m[p\u001b[38;5;241m.\u001b[39mvalue \u001b[38;5;28;01mfor\u001b[39;00m p \u001b[38;5;129;01min\u001b[39;00m m\u001b[38;5;241m.\u001b[39minit_params]) \u001b[38;5;241m*\u001b[39m \u001b[38;5;28mlen\u001b[39m(xmix) \u001b[38;5;241m*\u001b[39m dx[\u001b[38;5;241m0\u001b[39m],\n\u001b[1;32m      4\u001b[0m          ls\u001b[38;5;241m=\u001b[39m\u001b[38;5;124m\"\u001b[39m\u001b[38;5;124m:\u001b[39m\u001b[38;5;124m\"\u001b[39m, label\u001b[38;5;241m=\u001b[39m\u001b[38;5;124m\"\u001b[39m\u001b[38;5;124minit\u001b[39m\u001b[38;5;124m\"\u001b[39m)\n\u001b[1;32m      5\u001b[0m plt\u001b[38;5;241m.\u001b[39mplot(xm, pdf(xm, \u001b[38;5;241m*\u001b[39mm\u001b[38;5;241m.\u001b[39mvalues) \u001b[38;5;241m*\u001b[39m \u001b[38;5;28mlen\u001b[39m(xmix) \u001b[38;5;241m*\u001b[39m dx[\u001b[38;5;241m0\u001b[39m], label\u001b[38;5;241m=\u001b[39m\u001b[38;5;124m\"\u001b[39m\u001b[38;5;124mfit\u001b[39m\u001b[38;5;124m\"\u001b[39m)\n",
      "\u001b[0;31mNameError\u001b[0m: name 'xr' is not defined"
     ]
    }
   ],
   "source": [
    "#plt.errorbar(cx, n, n ** 0.5, fmt=\"ok\")\n",
    "xm = np.linspace(*xr)\n",
    "plt.plot(xm, pdf(xm, *[p.value for p in m.init_params]) * len(xmix) * dx[0],\n",
    "         ls=\":\", label=\"init\")\n",
    "plt.plot(xm, pdf(xm, *m.values) * len(xmix) * dx[0], label=\"fit\")\n",
    "plt.legend();"
   ]
  },
  {
   "cell_type": "code",
   "execution_count": 31,
   "id": "900f36b5",
   "metadata": {},
   "outputs": [
    {
     "name": "stdout",
     "output_type": "stream",
     "text": [
      "[1.665      1.67316327 1.68132653 1.6894898  1.69765306 1.70581633\n",
      " 1.71397959 1.72214286 1.73030612 1.73846939 1.74663265 1.75479592\n",
      " 1.76295918 1.77112245 1.77928571 1.78744898 1.79561224 1.80377551\n",
      " 1.81193878 1.82010204 1.82826531 1.83642857 1.84459184 1.8527551\n",
      " 1.86091837 1.86908163 1.8772449  1.88540816 1.89357143 1.90173469\n",
      " 1.90989796 1.91806122 1.92622449 1.93438776 1.94255102 1.95071429\n",
      " 1.95887755 1.96704082 1.97520408 1.98336735 1.99153061 1.99969388\n",
      " 2.00785714 2.01602041 2.02418367 2.03234694 2.0405102  2.04867347\n",
      " 2.05683673 2.065     ]\n"
     ]
    }
   ],
   "source": [
    "print(np.linspace(1.665,2.065))"
   ]
  },
  {
   "cell_type": "code",
   "execution_count": null,
   "id": "7479f1b4",
   "metadata": {},
   "outputs": [],
   "source": []
  },
  {
   "cell_type": "code",
   "execution_count": 9,
   "id": "6feda997",
   "metadata": {},
   "outputs": [
    {
     "data": {
      "image/png": "[encoded data removed]",
      "text/plain": [
       "<Figure size 432x288 with 1 Axes>"
      ]
     },
     "metadata": {
      "needs_background": "light"
     },
     "output_type": "display_data"
    }
   ],
   "source": [
    "# our line model, unicode parameter names are supported :)\n",
    "def line(x, α, β):\n",
    "    return α + x * β\n",
    "\n",
    "\n",
    "\n",
    "\n",
    "# generate random toy data with random offsets in y\n",
    "np.random.seed(1)\n",
    "data_x = np.linspace(0, 1, 10)\n",
    "data_yerr = 0.1  # could also be an array\n",
    "data_y = line(data_x, 1, 2) + data_yerr * np.random.randn(len(data_x))\n",
    "\n",
    "# draw toy data\n",
    "plt.errorbar(data_x, data_y, data_yerr, fmt=\"o\");"
   ]
  },
  {
   "cell_type": "code",
   "execution_count": 4,
   "id": "33fdc8cc",
   "metadata": {},
   "outputs": [
    {
     "data": {
      "image/png": "[encoded data removed]",
      "text/plain": [
       "<Figure size 432x288 with 1 Axes>"
      ]
     },
     "metadata": {
      "needs_background": "light"
     },
     "output_type": "display_data"
    }
   ],
   "source": [
    "# iminuit contains a LeastSquares class to conveniently generate a least-squares cost function.\n",
    "# We will revisit how to write this by hand in a later section.\n",
    "least_squares = LeastSquares(data_x, data_y, data_yerr, line)\n",
    "\n",
    "m = Minuit(least_squares, α=0, β=0)  # starting values for α and β\n",
    "\n",
    "m.migrad()  # finds minimum of least_squares function\n",
    "m.hesse()   # accurately computes uncertainties\n",
    "\n",
    "# draw data and fitted line\n",
    "plt.errorbar(data_x, data_y, data_yerr, fmt=\"o\", label=\"data\")\n",
    "plt.plot(data_x, line(data_x, *m.values), label=\"fit\")\n",
    "\n",
    "# display legend with some fit info\n",
    "fit_info = [\n",
    "    f\"$\\\\chi^2$ / $n_\\\\mathrm{{dof}}$ = {m.fval:.1f} / {len(data_x) - m.nfit}\",\n",
    "]\n",
    "for p, v, e in zip(m.parameters, m.values, m.errors):\n",
    "    fit_info.append(f\"{p} = ${v:.3f} \\\\pm {e:.3f}$\")\n",
    "\n",
    "plt.legend(title=\"\\n\".join(fit_info));"
   ]
  },
  {
   "cell_type": "code",
   "execution_count": null,
   "id": "254b3791",
   "metadata": {},
   "outputs": [],
   "source": []
  },
  {
   "cell_type": "code",
   "execution_count": null,
   "id": "75a67282",
   "metadata": {},
   "outputs": [],
   "source": []
  }
 ],
 "metadata": {
  "kernelspec": {
   "display_name": "Python 3 (ipykernel)",
   "language": "python",
   "name": "python3"
  },
  "language_info": {
   "codemirror_mode": {
    "name": "ipython",
    "version": 3
   },
   "file_extension": ".py",
   "mimetype": "text/x-python",
   "name": "python",
   "nbconvert_exporter": "python",
   "pygments_lexer": "ipython3",
   "version": "3.10.5"
  }
 },
 "nbformat": 4,
 "nbformat_minor": 5
}
