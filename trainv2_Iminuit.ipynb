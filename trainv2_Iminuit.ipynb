{
 "cells": [
  {
   "cell_type": "code",
   "execution_count": 12,
   "id": "497486a0",
   "metadata": {},
   "outputs": [
    {
     "name": "stdout",
     "output_type": "stream",
     "text": [
      "iminuit version: 2.15.2\n"
     ]
    }
   ],
   "source": [
    "from matplotlib import pyplot as plt\n",
    "import b2plot as bp\n",
    "#plt.style.use('belle2_modern')\n",
    "\n",
    "# basic setup of the notebook\n",
    "\n",
    "import numpy as np\n",
    "\n",
    "# everything in iminuit is done through the Minuit object, so we import it\n",
    "from iminuit import Minuit,cost\n",
    "\n",
    "# we also need a cost function to fit and import the LeastSquares function\n",
    "from iminuit.cost import LeastSquares\n",
    "\n",
    "# display iminuit version\n",
    "import iminuit\n",
    "print(\"iminuit version:\", iminuit.__version__)"
   ]
  },
  {
   "cell_type": "code",
   "execution_count": 14,
   "id": "a679831c",
   "metadata": {},
   "outputs": [
    {
     "name": "stdout",
     "output_type": "stream",
     "text": [
      "Welcome to JupyROOT 6.26/04\n"
     ]
    }
   ],
   "source": [
    "from hist.get_data import get_data"
   ]
  },
  {
   "cell_type": "code",
   "execution_count": 7,
   "id": "7a70f32c",
   "metadata": {},
   "outputs": [],
   "source": [
    "from iminuit import Minuit\n",
    "from iminuit.cost import UnbinnedNLL\n",
    "from iminuit.util import describe\n",
    "from matplotlib import pyplot as plt\n",
    "import numpy as np\n",
    "from numba_stats import norm, crystalball"
   ]
  },
  {
   "cell_type": "code",
   "execution_count": 11,
   "id": "3b340552",
   "metadata": {},
   "outputs": [],
   "source": [
    "def crystalball_pdf(x, beta, m, loc, scale):\n",
    "    \n",
    "    return crystalball.pdf(x, beta, m, loc, scale)"
   ]
  },
  {
   "cell_type": "code",
   "execution_count": null,
   "id": "3a088fdb",
   "metadata": {},
   "outputs": [],
   "source": [
    "file='/media/jykim/ssd_T5/storage/01_recon/antiKstar/v2_all_signalMC_recon_mdst_antiKstar.root'"
   ]
  },
  {
   "cell_type": "code",
   "execution_count": 16,
   "id": "3b1b390d",
   "metadata": {},
   "outputs": [],
   "source": [
    "file='/media/jykim/ssd_T5/storage/01_recon/antiKstar/v2_all_signalMC_recon_mdst_antiKstar.root'\n",
    "variables=['D0_M','Pi0_Prob']\n",
    "tree = 'antiKstar'"
   ]
  },
  {
   "cell_type": "code",
   "execution_count": 17,
   "id": "4276a8c6",
   "metadata": {},
   "outputs": [],
   "source": [
    "df_antiKstar= get_data(file=file, tree=tree,variables=variables)"
   ]
  },
  {
   "cell_type": "code",
   "execution_count": 20,
   "id": "7d9fb2e7",
   "metadata": {},
   "outputs": [],
   "source": [
    "df_antiKstar_Pi0veto= get_data(file=file, tree=tree,variables=variables,base_filter='Pi0_Prob<0.9')"
   ]
  },
  {
   "cell_type": "code",
   "execution_count": null,
   "id": "720bb729",
   "metadata": {},
   "outputs": [],
   "source": [
    "# COST = cost.LeastSquares( )"
   ]
  },
  {
   "cell_type": "code",
   "execution_count": 53,
   "id": "3d8b74ec",
   "metadata": {},
   "outputs": [],
   "source": [
    "COST = cost.UnbinnedNLL(df_antiKstar_Pi0veto['D0_M'], crystalball_pdf)"
   ]
  },
  {
   "cell_type": "code",
   "execution_count": 54,
   "id": "c6ee8f4f",
   "metadata": {},
   "outputs": [],
   "source": [
    "m = Minuit(COST, beta=1, m=1.86, loc=1, scale=1)"
   ]
  },
  {
   "cell_type": "code",
   "execution_count": 55,
   "id": "ca05da1e",
   "metadata": {},
   "outputs": [
    {
     "data": {
      "application/vnd.jupyter.widget-view+json": {
       "model_id": "8127d84e295d4570b65c3266cbf08b31",
       "version_major": 2,
       "version_minor": 0
      },
      "text/plain": [
       "HBox(children=(Output(), VBox(children=(HBox(children=(Button(description='Fit', style=ButtonStyle()), ToggleB…"
      ]
     },
     "metadata": {},
     "output_type": "display_data"
    }
   ],
   "source": [
    "m.limits[\"beta\", \"m\", \"loc\",\"scale\"] = (0, None)\n",
    "m.migrad()\n",
    "m.interactive()"
   ]
  },
  {
   "cell_type": "code",
   "execution_count": 46,
   "id": "b27b9624",
   "metadata": {},
   "outputs": [],
   "source": [
    "xrange = (1.665,2.065, 4899)\n",
    "xm = np.linspace(*xrange)\n",
    "#plt.plot(xm, crystalball_pdf(xm, *[p.value for p in m.init_params]) * len(xmix) * dx[0],\n",
    "#          ls=\":\", label=\"init\")"
   ]
  },
  {
   "cell_type": "code",
   "execution_count": 51,
   "id": "d7aa72bc",
   "metadata": {},
   "outputs": [
    {
     "data": {
      "text/plain": [
       "[<matplotlib.lines.Line2D at 0x7f13b9363eb0>]"
      ]
     },
     "execution_count": 51,
     "metadata": {},
     "output_type": "execute_result"
    },
    {
     "data": {
      "image/png": "[encoded data removed]",
      "text/plain": [
       "<Figure size 432x288 with 1 Axes>"
      ]
     },
     "metadata": {
      "needs_background": "light"
     },
     "output_type": "display_data"
    }
   ],
   "source": [
    "plt.plot(df_antiKstar['D0_M'], crystalball_pdf(df_antiKstar['D0_M'],*m.values))"
   ]
  },
  {
   "cell_type": "code",
   "execution_count": 48,
   "id": "af44e17f",
   "metadata": {},
   "outputs": [
    {
     "ename": "NameError",
     "evalue": "name 'xr' is not defined",
     "output_type": "error",
     "traceback": [
      "\u001b[0;31m---------------------------------------------------------------------------\u001b[0m",
      "\u001b[0;31mNameError\u001b[0m                                 Traceback (most recent call last)",
      "Input \u001b[0;32mIn [48]\u001b[0m, in \u001b[0;36m<cell line: 2>\u001b[0;34m()\u001b[0m\n\u001b[1;32m      1\u001b[0m \u001b[38;5;66;03m#plt.errorbar(cx, n, n ** 0.5, fmt=\"ok\")\u001b[39;00m\n\u001b[0;32m----> 2\u001b[0m xm \u001b[38;5;241m=\u001b[39m np\u001b[38;5;241m.\u001b[39mlinspace(\u001b[38;5;241m*\u001b[39m\u001b[43mxr\u001b[49m)\n\u001b[1;32m      3\u001b[0m plt\u001b[38;5;241m.\u001b[39mplot(xm, pdf(xm, \u001b[38;5;241m*\u001b[39m[p\u001b[38;5;241m.\u001b[39mvalue \u001b[38;5;28;01mfor\u001b[39;00m p \u001b[38;5;129;01min\u001b[39;00m m\u001b[38;5;241m.\u001b[39minit_params]) \u001b[38;5;241m*\u001b[39m \u001b[38;5;28mlen\u001b[39m(xmix) \u001b[38;5;241m*\u001b[39m dx[\u001b[38;5;241m0\u001b[39m],\n\u001b[1;32m      4\u001b[0m          ls\u001b[38;5;241m=\u001b[39m\u001b[38;5;124m\"\u001b[39m\u001b[38;5;124m:\u001b[39m\u001b[38;5;124m\"\u001b[39m, label\u001b[38;5;241m=\u001b[39m\u001b[38;5;124m\"\u001b[39m\u001b[38;5;124minit\u001b[39m\u001b[38;5;124m\"\u001b[39m)\n\u001b[1;32m      5\u001b[0m plt\u001b[38;5;241m.\u001b[39mplot(xm, pdf(xm, \u001b[38;5;241m*\u001b[39mm\u001b[38;5;241m.\u001b[39mvalues) \u001b[38;5;241m*\u001b[39m \u001b[38;5;28mlen\u001b[39m(xmix) \u001b[38;5;241m*\u001b[39m dx[\u001b[38;5;241m0\u001b[39m], label\u001b[38;5;241m=\u001b[39m\u001b[38;5;124m\"\u001b[39m\u001b[38;5;124mfit\u001b[39m\u001b[38;5;124m\"\u001b[39m)\n",
      "\u001b[0;31mNameError\u001b[0m: name 'xr' is not defined"
     ]
    }
   ],
   "source": [
    "#plt.errorbar(cx, n, n ** 0.5, fmt=\"ok\")\n",
    "xm = np.linspace(*xr)\n",
    "plt.plot(xm, pdf(xm, *[p.value for p in m.init_params]) * len(xmix) * dx[0],\n",
    "         ls=\":\", label=\"init\")\n",
    "plt.plot(xm, pdf(xm, *m.values) * len(xmix) * dx[0], label=\"fit\")\n",
    "plt.legend();"
   ]
  },
  {
   "cell_type": "code",
   "execution_count": 31,
   "id": "900f36b5",
   "metadata": {},
   "outputs": [
    {
     "name": "stdout",
     "output_type": "stream",
     "text": [
      "[1.665      1.67316327 1.68132653 1.6894898  1.69765306 1.70581633\n",
      " 1.71397959 1.72214286 1.73030612 1.73846939 1.74663265 1.75479592\n",
      " 1.76295918 1.77112245 1.77928571 1.78744898 1.79561224 1.80377551\n",
      " 1.81193878 1.82010204 1.82826531 1.83642857 1.84459184 1.8527551\n",
      " 1.86091837 1.86908163 1.8772449  1.88540816 1.89357143 1.90173469\n",
      " 1.90989796 1.91806122 1.92622449 1.93438776 1.94255102 1.95071429\n",
      " 1.95887755 1.96704082 1.97520408 1.98336735 1.99153061 1.99969388\n",
      " 2.00785714 2.01602041 2.02418367 2.03234694 2.0405102  2.04867347\n",
      " 2.05683673 2.065     ]\n"
     ]
    }
   ],
   "source": [
    "print(np.linspace(1.665,2.065))"
   ]
  },
  {
   "cell_type": "code",
   "execution_count": null,
   "id": "7479f1b4",
   "metadata": {},
   "outputs": [],
   "source": []
  },
  {
   "cell_type": "code",
   "execution_count": 9,
   "id": "6feda997",
   "metadata": {},
   "outputs": [
    {
     "data": {
      "image/png": "[encoded data removed]",
      "text/plain": [
       "<Figure size 432x288 with 1 Axes>"
      ]
     },
     "metadata": {
      "needs_background": "light"
     },
     "output_type": "display_data"
    }
   ],
   "source": [
    "# our line model, unicode parameter names are supported :)\n",
    "def line(x, α, β):\n",
    "    return α + x * β\n",
    "\n",
    "\n",
    "\n",
    "\n",
    "# generate random toy data with random offsets in y\n",
    "np.random.seed(1)\n",
    "data_x = np.linspace(0, 1, 10)\n",
    "data_yerr = 0.1  # could also be an array\n",
    "data_y = line(data_x, 1, 2) + data_yerr * np.random.randn(len(data_x))\n",
    "\n",
    "# draw toy data\n",
    "plt.errorbar(data_x, data_y, data_yerr, fmt=\"o\");"
   ]
  },
  {
   "cell_type": "code",
   "execution_count": 4,
   "id": "33fdc8cc",
   "metadata": {},
   "outputs": [
    {
     "data": {
      "image/png": "[encoded data removed]",
      "text/plain": [
       "<Figure size 432x288 with 1 Axes>"
      ]
     },
     "metadata": {
      "needs_background": "light"
     },
     "output_type": "display_data"
    }
   ],
   "source": [
    "# iminuit contains a LeastSquares class to conveniently generate a least-squares cost function.\n",
    "# We will revisit how to write this by hand in a later section.\n",
    "least_squares = LeastSquares(data_x, data_y, data_yerr, line)\n",
    "\n",
    "m = Minuit(least_squares, α=0, β=0)  # starting values for α and β\n",
    "\n",
    "m.migrad()  # finds minimum of least_squares function\n",
    "m.hesse()   # accurately computes uncertainties\n",
    "\n",
    "# draw data and fitted line\n",
    "plt.errorbar(data_x, data_y, data_yerr, fmt=\"o\", label=\"data\")\n",
    "plt.plot(data_x, line(data_x, *m.values), label=\"fit\")\n",
    "\n",
    "# display legend with some fit info\n",
    "fit_info = [\n",
    "    f\"$\\\\chi^2$ / $n_\\\\mathrm{{dof}}$ = {m.fval:.1f} / {len(data_x) - m.nfit}\",\n",
    "]\n",
    "for p, v, e in zip(m.parameters, m.values, m.errors):\n",
    "    fit_info.append(f\"{p} = ${v:.3f} \\\\pm {e:.3f}$\")\n",
    "\n",
    "plt.legend(title=\"\\n\".join(fit_info));"
   ]
  },
  {
   "cell_type": "code",
   "execution_count": null,
   "id": "254b3791",
   "metadata": {},
   "outputs": [],
   "source": []
  },
  {
   "cell_type": "code",
   "execution_count": null,
   "id": "75a67282",
   "metadata": {},
   "outputs": [],
   "source": []
  }
 ],
 "metadata": {
  "kernelspec": {
   "display_name": "Python 3 (ipykernel)",
   "language": "python",
   "name": "python3"
  },
  "language_info": {
   "codemirror_mode": {
    "name": "ipython",
    "version": 3
   },
   "file_extension": ".py",
   "mimetype": "text/x-python",
   "name": "python",
   "nbconvert_exporter": "python",
   "pygments_lexer": "ipython3",
   "version": "3.10.5"
  }
 },
 "nbformat": 4,
 "nbformat_minor": 5
}
