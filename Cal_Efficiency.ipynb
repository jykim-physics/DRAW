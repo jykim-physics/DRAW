{
 "cells": [
  {
   "cell_type": "code",
   "execution_count": 1,
   "id": "bf100af6",
   "metadata": {},
   "outputs": [
    {
     "name": "stdout",
     "output_type": "stream",
     "text": [
      "Welcome to JupyROOT 6.26/04\n"
     ]
    }
   ],
   "source": [
    "%matplotlib inline\n",
    "%load_ext autoreload\n",
    "%autoreload 2\n",
    "import seaborn as sns\n",
    "import matplotlib.pyplot as plt\n",
    "import ROOT\n",
    "try:\n",
    "    #plt.style.use('belle2')\n",
    "    #plt.style.use('belle2_serif')\n",
    "    plt.style.use('belle2_modern')\n",
    "except OSError:\n",
    "    print(\"Please install belle2 matplotlib style\")   \n",
    "\n",
    "px = 1/plt.rcParams['figure.dpi']"
   ]
  },
  {
   "cell_type": "code",
   "execution_count": 2,
   "id": "29fe8c14",
   "metadata": {},
   "outputs": [
    {
     "name": "stdout",
     "output_type": "stream",
     "text": [
      "For optimal usage set `plt.style.use('belle2')`\n",
      "['Solarize_Light2', '_classic_test_patch', '_mpl-gallery', '_mpl-gallery-nogrid', 'belle2', 'belle2_modern', 'belle2_serif', 'belle2_wg1', 'bmh', 'classic', 'dark_background', 'fast', 'fivethirtyeight', 'ggplot', 'grayscale', 'seaborn', 'seaborn-bright', 'seaborn-colorblind', 'seaborn-dark', 'seaborn-dark-palette', 'seaborn-darkgrid', 'seaborn-deep', 'seaborn-muted', 'seaborn-notebook', 'seaborn-paper', 'seaborn-pastel', 'seaborn-poster', 'seaborn-talk', 'seaborn-ticks', 'seaborn-white', 'seaborn-whitegrid', 'tableau-colorblind10']\n",
      "/home/jykim/workspace/DRAW/read_yaml_to_dict.py\n",
      "/home/jykim/workspace/DRAW\n",
      "{'Vegetables': ['Pepper', 'Tomato', 'Garlic']}\n",
      "/home/jykim/workspace/DRAW\n"
     ]
    }
   ],
   "source": [
    "import os\n",
    "import pandas as pd\n",
    "import numpy as np\n",
    "from pandas import HDFStore\n",
    "from os import path\n",
    "from yaml import safe_load\n",
    "\n",
    "from hist.get_data import get_data\n",
    "from hist.bkg_stack import generic_ntuple, get_data_in_module\n",
    "from read_yaml_to_dict import read_yaml_to_dict\n",
    "from src.sample_name import sample_name\n",
    "from src.combine_cuts import combine_cuts\n",
    "print(os.getcwd())"
   ]
  },
  {
   "cell_type": "code",
   "execution_count": 3,
   "id": "3194e4cd",
   "metadata": {},
   "outputs": [],
   "source": [
    "def get_data(file='file', figname='name', tree='tree', base_filter=None,variables=None):\n",
    "    \n",
    "    tree=tree\n",
    "    f = file\n",
    "    base_filter  = base_filter    \n",
    "    \n",
    "    ROOT_df_start = ROOT.RDataFrame(tree, f)  \n",
    "    \n",
    "    col_dict  = ROOT_df_start.AsNumpy(variables)\n",
    "    \n",
    "    if base_filter !=None:\n",
    "        ROOT_df_filtered  = ROOT_df_start.Filter(base_filter)                            \n",
    "        col_dict  = ROOT_df_filtered.AsNumpy(variables)\n",
    "    \n",
    "    pd_df  = pd.DataFrame(col_dict)\n",
    "    \n",
    "    return pd_df"
   ]
  },
  {
   "cell_type": "code",
   "execution_count": 19,
   "id": "7bca9fbd",
   "metadata": {},
   "outputs": [],
   "source": [
    "file='/media/jykim/ssd_T5/storage/01_recon/antiKstar/massveto_signalMC_recon_mdst_antiKstar.root'\n",
    "bkg_file = '/media/jykim/ssd_T5/storage/hdf_files/massveto_antiKstar.h5'"
   ]
  },
  {
   "cell_type": "code",
   "execution_count": 20,
   "id": "7600fb6d",
   "metadata": {},
   "outputs": [],
   "source": [
    "base_filter = 'Dstarp_isSignal==1'\n",
    "\n",
    "tree = 'antiKstar'\n",
    "\n",
    "variables=['ROE_Pi0_InvM','ROE_Pi0_InvM_50MeV','ROE_Pi0_InvM_75MeV','ROE_Pi0_InvM_100MeV','ROE_Pi0_InvM_125MeV','ROE_Pi0_InvM_150MeV']\n",
    "variables+= ['ROE_Eta_InvM','ROE_Eta_InvM_50MeV','ROE_Eta_InvM_75MeV','ROE_Eta_InvM_100MeV','ROE_Eta_InvM_125MeV','ROE_Eta_InvM_150MeV','ROE_Eta_InvM_175MeV','ROE_Eta_InvM_200MeV']\n",
    "\n",
    "#pd_df = get_data(file=file, tree=tree,variables=variables ,base_filter=base_filter)"
   ]
  },
  {
   "cell_type": "code",
   "execution_count": 21,
   "id": "d2600837",
   "metadata": {},
   "outputs": [],
   "source": [
    "pd_df_signal = get_data(file=file, tree=tree,variables=variables ,base_filter=base_filter)\n",
    "\n",
    "pd_df_bkg = pd.read_hdf(bkg_file, key='jykim')\n",
    "cols = ['Pi0_soft_genMotherPDG_50MeV','Pi0_soft_genMotherPDG_75MeV','gamma_genMotherPDG','Pi0_soft_genMotherID_50MeV','gamma_genMotherID','Eta_soft_genMotherPDG_50MeV','Eta_soft_genMotherPDG_75MeV','Eta_soft_genMotherPDG_125MeV']\n",
    "pd_df_bkg[cols]=pd_df_bkg[cols].fillna(0.0).astype(int)\n",
    "# Pi0_bkg_cuts = 'gamma_genMotherPDG==111'\n",
    "Pi0_bkg_cuts = 'gamma_E>0.1'\n",
    "Pi0_selected_pd_df_bkg = pd_df_bkg.query(Pi0_bkg_cuts)\n"
   ]
  },
  {
   "cell_type": "code",
   "execution_count": 22,
   "id": "0f7f869d",
   "metadata": {},
   "outputs": [],
   "source": [
    "def eff(Total_row_num=None, Reduced_row_num=None):\n",
    "    eff = Reduced_row_num/Total_row_num\n",
    "    return eff\n",
    "\n",
    "def Bkg_rej(Total_row_num=None, Reduced_row_num=None):\n",
    "    rejection = (Total_row_num - Reduced_row_num)/Total_row_num\n",
    "\n",
    "    return rejection"
   ]
  },
  {
   "cell_type": "code",
   "execution_count": 23,
   "id": "65ff5b6c",
   "metadata": {},
   "outputs": [],
   "source": [
    "nominal_pi0_mass = 0.1325\n",
    "nominal_eta_mass = 0.54786\n",
    "#nominal_pi0_mass = 0.13498"
   ]
  },
  {
   "cell_type": "code",
   "execution_count": 24,
   "id": "f85468d3",
   "metadata": {},
   "outputs": [
    {
     "name": "stdout",
     "output_type": "stream",
     "text": [
      "{'sig_eff': [], 'bkg_rej': []}\n"
     ]
    }
   ],
   "source": [
    "step = 0.0005\n",
    "sig_Total_row_num = pd_df_signal.shape[0]\n",
    "Pi0_bkg_Total_row_num = Pi0_selected_pd_df_bkg.shape[0]\n",
    "width_mass = 0.0\n",
    "\n",
    "data_dict = dict.fromkeys(['sig_eff', 'bkg_rej'])\n",
    "data_dict['sig_eff']=list()\n",
    "data_dict['bkg_rej']=list()\n",
    "print(data_dict)\n",
    "# sig_eff_list = list()\n",
    "# bkg_rej_list = list()\n",
    "sig_Reduced_row_num = pd_df_signal.shape[0]\n",
    "data_dict['sig_eff'].append(eff(sig_Total_row_num, sig_Reduced_row_num ))\n",
    "Pi0_bkg_Reduced_row_num = Pi0_selected_pd_df_bkg.shape[0]\n",
    "data_dict['bkg_rej'].append(Bkg_rej(Pi0_bkg_Total_row_num, Pi0_bkg_Reduced_row_num)) \n",
    "for i in range(1,100):     \n",
    "    if width_mass < 0.025:\n",
    "        width_mass     = 0 + i * step\n",
    "        min_mass_bound = nominal_pi0_mass - width_mass  \n",
    "        max_mass_bound = nominal_pi0_mass + width_mass\n",
    "        #print(width_mass)\n",
    "        sig_Reduced_row_num = pd_df_signal[(pd_df_signal['ROE_Pi0_InvM_50MeV']<min_mass_bound) | (pd_df_signal['ROE_Pi0_InvM_50MeV']>max_mass_bound)].shape[0]\n",
    "        data_dict['sig_eff'].append(eff(sig_Total_row_num, sig_Reduced_row_num ))\n",
    "        #sig_eff_list.append(eff(sig_Total_row_num, sig_Reduced_row_num ))\n",
    "        \n",
    "        Pi0_bkg_Reduced_row_num = Pi0_selected_pd_df_bkg[(Pi0_selected_pd_df_bkg['ROE_Pi0_InvM_50MeV']<min_mass_bound) | (Pi0_selected_pd_df_bkg['ROE_Pi0_InvM_50MeV']>max_mass_bound)].shape[0]\n",
    "        data_dict['bkg_rej'].append(Bkg_rej(Pi0_bkg_Total_row_num, Pi0_bkg_Reduced_row_num))\n",
    "        \n",
    "        #bkg_rej_list.append(Bkg_rej(Pi0_bkg_Total_row_num, Pi0_bkg_Reduced_row_num))        \n",
    "        \n",
    "        \n"
   ]
  },
  {
   "cell_type": "code",
   "execution_count": 25,
   "id": "d917ec67",
   "metadata": {},
   "outputs": [],
   "source": [
    "df_50MeV = pd.DataFrame(data_dict)"
   ]
  },
  {
   "cell_type": "code",
   "execution_count": 26,
   "id": "b2342f3b",
   "metadata": {},
   "outputs": [],
   "source": [
    "step = 0.0005\n",
    "sig_Total_row_num = pd_df_signal.shape[0]\n",
    "Pi0_bkg_Total_row_num = Pi0_selected_pd_df_bkg.shape[0]\n",
    "width_mass = 0.0\n",
    "\n",
    "data_dict = dict.fromkeys(['sig_eff', 'bkg_rej'])\n",
    "data_dict['sig_eff']=list()\n",
    "data_dict['bkg_rej']=list()\n",
    "sig_Reduced_row_num = pd_df_signal.shape[0]\n",
    "data_dict['sig_eff'].append(eff(sig_Total_row_num, sig_Reduced_row_num ))\n",
    "Pi0_bkg_Reduced_row_num = Pi0_selected_pd_df_bkg.shape[0]\n",
    "data_dict['bkg_rej'].append(Bkg_rej(Pi0_bkg_Total_row_num, Pi0_bkg_Reduced_row_num)) \n",
    "for i in range(1,100):\n",
    "    if width_mass < 0.025:\n",
    "        width_mass     = 0 + i * step\n",
    "        min_mass_bound = nominal_pi0_mass - width_mass  \n",
    "        max_mass_bound = nominal_pi0_mass + width_mass\n",
    "        #print(width_mass)\n",
    "        sig_Reduced_row_num = pd_df_signal[(pd_df_signal['ROE_Pi0_InvM_75MeV']<min_mass_bound) | (pd_df_signal['ROE_Pi0_InvM_75MeV']>max_mass_bound)].shape[0]\n",
    "        data_dict['sig_eff'].append(eff(sig_Total_row_num, sig_Reduced_row_num ))\n",
    "        #sig_eff_list.append(eff(sig_Total_row_num, sig_Reduced_row_num ))\n",
    "        \n",
    "        Pi0_bkg_Reduced_row_num = Pi0_selected_pd_df_bkg[(Pi0_selected_pd_df_bkg['ROE_Pi0_InvM_75MeV']<min_mass_bound) | (Pi0_selected_pd_df_bkg['ROE_Pi0_InvM_75MeV']>max_mass_bound)].shape[0]\n",
    "        data_dict['bkg_rej'].append(Bkg_rej(Pi0_bkg_Total_row_num, Pi0_bkg_Reduced_row_num))\n",
    "        \n",
    "        #bkg_rej_list.append(Bkg_rej(Pi0_bkg_Total_row_num, Pi0_bkg_Reduced_row_num))   "
   ]
  },
  {
   "cell_type": "code",
   "execution_count": 27,
   "id": "2ed3145d",
   "metadata": {},
   "outputs": [],
   "source": [
    "df_75MeV = pd.DataFrame(data_dict)\n",
    "#Y = pd.DataFrame(bkg_rej_list)\n",
    "\n"
   ]
  },
  {
   "cell_type": "code",
   "execution_count": 28,
   "id": "d3a3ae84",
   "metadata": {},
   "outputs": [],
   "source": [
    "step = 0.0005\n",
    "sig_Total_row_num = pd_df_signal.shape[0]\n",
    "Pi0_bkg_Total_row_num = Pi0_selected_pd_df_bkg.shape[0]\n",
    "width_mass = 0.0\n",
    "\n",
    "data_dict = dict.fromkeys(['sig_eff', 'bkg_rej'])\n",
    "data_dict['sig_eff']=list()\n",
    "data_dict['bkg_rej']=list()\n",
    "sig_Reduced_row_num = pd_df_signal.shape[0]\n",
    "data_dict['sig_eff'].append(eff(sig_Total_row_num, sig_Reduced_row_num ))\n",
    "Pi0_bkg_Reduced_row_num = Pi0_selected_pd_df_bkg.shape[0]\n",
    "data_dict['bkg_rej'].append(Bkg_rej(Pi0_bkg_Total_row_num, Pi0_bkg_Reduced_row_num)) \n",
    "for i in range(1,100):\n",
    "    if width_mass < 0.025:\n",
    "        width_mass     = 0 + i * step\n",
    "        min_mass_bound = nominal_pi0_mass - width_mass  \n",
    "        max_mass_bound = nominal_pi0_mass + width_mass\n",
    "        #print(width_mass)\n",
    "        sig_Reduced_row_num = pd_df_signal[(pd_df_signal['ROE_Pi0_InvM_100MeV']<min_mass_bound) | (pd_df_signal['ROE_Pi0_InvM_100MeV']>max_mass_bound)].shape[0]\n",
    "        data_dict['sig_eff'].append(eff(sig_Total_row_num, sig_Reduced_row_num ))\n",
    "        #sig_eff_list.append(eff(sig_Total_row_num, sig_Reduced_row_num ))\n",
    "        \n",
    "        Pi0_bkg_Reduced_row_num = Pi0_selected_pd_df_bkg[(Pi0_selected_pd_df_bkg['ROE_Pi0_InvM_100MeV']<min_mass_bound) | (Pi0_selected_pd_df_bkg['ROE_Pi0_InvM_100MeV']>max_mass_bound)].shape[0]\n",
    "        data_dict['bkg_rej'].append(Bkg_rej(Pi0_bkg_Total_row_num, Pi0_bkg_Reduced_row_num))\n",
    "        \n",
    "        #bkg_rej_list.append(Bkg_rej(Pi0_bkg_Total_row_num, Pi0_bkg_Reduced_row_num))   "
   ]
  },
  {
   "cell_type": "code",
   "execution_count": 29,
   "id": "c052c338",
   "metadata": {},
   "outputs": [],
   "source": [
    "df_100MeV = pd.DataFrame(data_dict)\n",
    "#Y = pd.DataFrame(bkg_rej_list)\n",
    "\n"
   ]
  },
  {
   "cell_type": "code",
   "execution_count": 30,
   "id": "0a488509",
   "metadata": {},
   "outputs": [],
   "source": [
    "step = 0.0010\n",
    "sig_Total_row_num = pd_df_signal.shape[0]\n",
    "Pi0_bkg_Total_row_num = Pi0_selected_pd_df_bkg.shape[0]\n",
    "width_mass = 0.0\n",
    "\n",
    "data_dict = dict.fromkeys(['sig_eff', 'bkg_rej'])\n",
    "data_dict['sig_eff']=list()\n",
    "data_dict['bkg_rej']=list()\n",
    "sig_Reduced_row_num = pd_df_signal.shape[0]\n",
    "data_dict['sig_eff'].append(eff(sig_Total_row_num, sig_Reduced_row_num ))\n",
    "Pi0_bkg_Reduced_row_num = Pi0_selected_pd_df_bkg.shape[0]\n",
    "data_dict['bkg_rej'].append(Bkg_rej(Pi0_bkg_Total_row_num, Pi0_bkg_Reduced_row_num)) \n",
    "for i in range(1,100):\n",
    "    if width_mass < 0.025:\n",
    "        width_mass     = 0 + i * step\n",
    "        min_mass_bound = nominal_pi0_mass - width_mass  \n",
    "        max_mass_bound = nominal_pi0_mass + width_mass\n",
    "        #print(width_mass)\n",
    "        sig_Reduced_row_num = pd_df_signal[(pd_df_signal['ROE_Pi0_InvM_125MeV']<min_mass_bound) | (pd_df_signal['ROE_Pi0_InvM_125MeV']>max_mass_bound)].shape[0]\n",
    "        data_dict['sig_eff'].append(eff(sig_Total_row_num, sig_Reduced_row_num ))\n",
    "        #sig_eff_list.append(eff(sig_Total_row_num, sig_Reduced_row_num ))\n",
    "        \n",
    "        Pi0_bkg_Reduced_row_num = Pi0_selected_pd_df_bkg[(Pi0_selected_pd_df_bkg['ROE_Pi0_InvM_125MeV']<min_mass_bound) | (Pi0_selected_pd_df_bkg['ROE_Pi0_InvM_125MeV']>max_mass_bound)].shape[0]\n",
    "        data_dict['bkg_rej'].append(Bkg_rej(Pi0_bkg_Total_row_num, Pi0_bkg_Reduced_row_num))\n",
    "        \n",
    "        #bkg_rej_list.append(Bkg_rej(Pi0_bkg_Total_row_num, Pi0_bkg_Reduced_row_num))   "
   ]
  },
  {
   "cell_type": "code",
   "execution_count": 31,
   "id": "51c402c7",
   "metadata": {},
   "outputs": [],
   "source": [
    "df_125MeV = pd.DataFrame(data_dict)"
   ]
  },
  {
   "cell_type": "code",
   "execution_count": 32,
   "id": "5170e83d",
   "metadata": {},
   "outputs": [
    {
     "data": {
      "text/plain": [
       "(0.0, 1.0)"
      ]
     },
     "execution_count": 32,
     "metadata": {},
     "output_type": "execute_result"
    },
    {
     "data": {
      "image/png": "[encoded data removed]",
      "text/plain": [
       "<Figure size 576x396 with 1 Axes>"
      ]
     },
     "metadata": {},
     "output_type": "display_data"
    }
   ],
   "source": [
    "plt.scatter(df_50MeV.sig_eff, df_50MeV.bkg_rej , alpha=0.8, marker='.',c='red',label=r'$E_{\\gamma_2}>50\\mathrm{MeV}$')\n",
    "plt.scatter(df_75MeV.sig_eff, df_75MeV.bkg_rej, alpha=0.8, marker='.',c='green',label=r'$E_{\\gamma_2}>75\\mathrm{MeV}$')\n",
    "plt.scatter(df_125MeV.sig_eff, df_125MeV.bkg_rej, alpha=0.8, marker='.',c='blue',label=r'$E_{\\gamma_2}>125\\mathrm{MeV}$')\n",
    "# plt.scatter(df.sig_eff, df.bkg_rej, alpha=0.8, marker='*',c='black',label=r'FBDT')\n",
    "\n",
    "plt.plot(df_50MeV.sig_eff, df_50MeV.bkg_rej,c='red')\n",
    "plt.plot(df_75MeV.sig_eff, df_75MeV.bkg_rej,c='green')\n",
    "plt.plot(df_125MeV.sig_eff, df_125MeV.bkg_rej,c='blue')\n",
    "# plt.plot(df.sig_eff, df.bkg_rej,c='black')\n",
    "\n",
    "plt.legend()\n",
    "ax = plt.gca()\n",
    "ax.set_xlim(0.88,1) \n",
    "# ax.set_xlim(0,1)   \n",
    "\n",
    "ax.set_ylim(0,1)"
   ]
  },
  {
   "cell_type": "code",
   "execution_count": 165,
   "id": "50c99809",
   "metadata": {
    "scrolled": true
   },
   "outputs": [
    {
     "data": {
      "text/html": [
       "<div>\n",
       "<style scoped>\n",
       "    .dataframe tbody tr th:only-of-type {\n",
       "        vertical-align: middle;\n",
       "    }\n",
       "\n",
       "    .dataframe tbody tr th {\n",
       "        vertical-align: top;\n",
       "    }\n",
       "\n",
       "    .dataframe thead th {\n",
       "        text-align: right;\n",
       "    }\n",
       "</style>\n",
       "<table border=\"1\" class=\"dataframe\">\n",
       "  <thead>\n",
       "    <tr style=\"text-align: right;\">\n",
       "      <th></th>\n",
       "      <th>sig_eff</th>\n",
       "      <th>bkg_rej</th>\n",
       "    </tr>\n",
       "  </thead>\n",
       "  <tbody>\n",
       "    <tr>\n",
       "      <th>0</th>\n",
       "      <td>1.000000</td>\n",
       "      <td>0.000000</td>\n",
       "    </tr>\n",
       "    <tr>\n",
       "      <th>1</th>\n",
       "      <td>0.995960</td>\n",
       "      <td>0.039546</td>\n",
       "    </tr>\n",
       "    <tr>\n",
       "      <th>2</th>\n",
       "      <td>0.992744</td>\n",
       "      <td>0.078591</td>\n",
       "    </tr>\n",
       "    <tr>\n",
       "      <th>3</th>\n",
       "      <td>0.989557</td>\n",
       "      <td>0.117451</td>\n",
       "    </tr>\n",
       "    <tr>\n",
       "      <th>4</th>\n",
       "      <td>0.986387</td>\n",
       "      <td>0.155803</td>\n",
       "    </tr>\n",
       "    <tr>\n",
       "      <th>5</th>\n",
       "      <td>0.983357</td>\n",
       "      <td>0.193365</td>\n",
       "    </tr>\n",
       "    <tr>\n",
       "      <th>6</th>\n",
       "      <td>0.979983</td>\n",
       "      <td>0.229768</td>\n",
       "    </tr>\n",
       "    <tr>\n",
       "      <th>7</th>\n",
       "      <td>0.977070</td>\n",
       "      <td>0.264416</td>\n",
       "    </tr>\n",
       "    <tr>\n",
       "      <th>8</th>\n",
       "      <td>0.974099</td>\n",
       "      <td>0.297447</td>\n",
       "    </tr>\n",
       "    <tr>\n",
       "      <th>9</th>\n",
       "      <td>0.971349</td>\n",
       "      <td>0.328891</td>\n",
       "    </tr>\n",
       "    <tr>\n",
       "      <th>10</th>\n",
       "      <td>0.968465</td>\n",
       "      <td>0.358138</td>\n",
       "    </tr>\n",
       "    <tr>\n",
       "      <th>11</th>\n",
       "      <td>0.965535</td>\n",
       "      <td>0.385308</td>\n",
       "    </tr>\n",
       "    <tr>\n",
       "      <th>12</th>\n",
       "      <td>0.962511</td>\n",
       "      <td>0.410807</td>\n",
       "    </tr>\n",
       "    <tr>\n",
       "      <th>13</th>\n",
       "      <td>0.959721</td>\n",
       "      <td>0.434409</td>\n",
       "    </tr>\n",
       "    <tr>\n",
       "      <th>14</th>\n",
       "      <td>0.956802</td>\n",
       "      <td>0.456205</td>\n",
       "    </tr>\n",
       "    <tr>\n",
       "      <th>15</th>\n",
       "      <td>0.953924</td>\n",
       "      <td>0.476198</td>\n",
       "    </tr>\n",
       "    <tr>\n",
       "      <th>16</th>\n",
       "      <td>0.951116</td>\n",
       "      <td>0.494757</td>\n",
       "    </tr>\n",
       "    <tr>\n",
       "      <th>17</th>\n",
       "      <td>0.948396</td>\n",
       "      <td>0.511666</td>\n",
       "    </tr>\n",
       "    <tr>\n",
       "      <th>18</th>\n",
       "      <td>0.945705</td>\n",
       "      <td>0.527575</td>\n",
       "    </tr>\n",
       "    <tr>\n",
       "      <th>19</th>\n",
       "      <td>0.942984</td>\n",
       "      <td>0.542021</td>\n",
       "    </tr>\n",
       "    <tr>\n",
       "      <th>20</th>\n",
       "      <td>0.940165</td>\n",
       "      <td>0.555098</td>\n",
       "    </tr>\n",
       "    <tr>\n",
       "      <th>21</th>\n",
       "      <td>0.937351</td>\n",
       "      <td>0.567176</td>\n",
       "    </tr>\n",
       "    <tr>\n",
       "      <th>22</th>\n",
       "      <td>0.934567</td>\n",
       "      <td>0.578453</td>\n",
       "    </tr>\n",
       "    <tr>\n",
       "      <th>23</th>\n",
       "      <td>0.932056</td>\n",
       "      <td>0.588811</td>\n",
       "    </tr>\n",
       "    <tr>\n",
       "      <th>24</th>\n",
       "      <td>0.929360</td>\n",
       "      <td>0.598272</td>\n",
       "    </tr>\n",
       "    <tr>\n",
       "      <th>25</th>\n",
       "      <td>0.926628</td>\n",
       "      <td>0.607091</td>\n",
       "    </tr>\n",
       "    <tr>\n",
       "      <th>26</th>\n",
       "      <td>0.923855</td>\n",
       "      <td>0.615228</td>\n",
       "    </tr>\n",
       "    <tr>\n",
       "      <th>27</th>\n",
       "      <td>0.921234</td>\n",
       "      <td>0.622760</td>\n",
       "    </tr>\n",
       "    <tr>\n",
       "      <th>28</th>\n",
       "      <td>0.918455</td>\n",
       "      <td>0.629948</td>\n",
       "    </tr>\n",
       "    <tr>\n",
       "      <th>29</th>\n",
       "      <td>0.915810</td>\n",
       "      <td>0.636542</td>\n",
       "    </tr>\n",
       "    <tr>\n",
       "      <th>30</th>\n",
       "      <td>0.913184</td>\n",
       "      <td>0.642764</td>\n",
       "    </tr>\n",
       "    <tr>\n",
       "      <th>31</th>\n",
       "      <td>0.910603</td>\n",
       "      <td>0.648560</td>\n",
       "    </tr>\n",
       "    <tr>\n",
       "      <th>32</th>\n",
       "      <td>0.907795</td>\n",
       "      <td>0.654127</td>\n",
       "    </tr>\n",
       "    <tr>\n",
       "      <th>33</th>\n",
       "      <td>0.905256</td>\n",
       "      <td>0.659276</td>\n",
       "    </tr>\n",
       "    <tr>\n",
       "      <th>34</th>\n",
       "      <td>0.902641</td>\n",
       "      <td>0.664314</td>\n",
       "    </tr>\n",
       "    <tr>\n",
       "      <th>35</th>\n",
       "      <td>0.900072</td>\n",
       "      <td>0.668974</td>\n",
       "    </tr>\n",
       "    <tr>\n",
       "      <th>36</th>\n",
       "      <td>0.897393</td>\n",
       "      <td>0.673500</td>\n",
       "    </tr>\n",
       "    <tr>\n",
       "      <th>37</th>\n",
       "      <td>0.895035</td>\n",
       "      <td>0.677834</td>\n",
       "    </tr>\n",
       "    <tr>\n",
       "      <th>38</th>\n",
       "      <td>0.892390</td>\n",
       "      <td>0.681825</td>\n",
       "    </tr>\n",
       "    <tr>\n",
       "      <th>39</th>\n",
       "      <td>0.889746</td>\n",
       "      <td>0.685667</td>\n",
       "    </tr>\n",
       "    <tr>\n",
       "      <th>40</th>\n",
       "      <td>0.887037</td>\n",
       "      <td>0.689491</td>\n",
       "    </tr>\n",
       "    <tr>\n",
       "      <th>41</th>\n",
       "      <td>0.884445</td>\n",
       "      <td>0.693102</td>\n",
       "    </tr>\n",
       "    <tr>\n",
       "      <th>42</th>\n",
       "      <td>0.881853</td>\n",
       "      <td>0.696454</td>\n",
       "    </tr>\n",
       "    <tr>\n",
       "      <th>43</th>\n",
       "      <td>0.879326</td>\n",
       "      <td>0.699760</td>\n",
       "    </tr>\n",
       "    <tr>\n",
       "      <th>44</th>\n",
       "      <td>0.876874</td>\n",
       "      <td>0.703019</td>\n",
       "    </tr>\n",
       "    <tr>\n",
       "      <th>45</th>\n",
       "      <td>0.874405</td>\n",
       "      <td>0.706130</td>\n",
       "    </tr>\n",
       "    <tr>\n",
       "      <th>46</th>\n",
       "      <td>0.872081</td>\n",
       "      <td>0.709179</td>\n",
       "    </tr>\n",
       "    <tr>\n",
       "      <th>47</th>\n",
       "      <td>0.869694</td>\n",
       "      <td>0.712219</td>\n",
       "    </tr>\n",
       "    <tr>\n",
       "      <th>48</th>\n",
       "      <td>0.867312</td>\n",
       "      <td>0.715110</td>\n",
       "    </tr>\n",
       "    <tr>\n",
       "      <th>49</th>\n",
       "      <td>0.864872</td>\n",
       "      <td>0.717938</td>\n",
       "    </tr>\n",
       "    <tr>\n",
       "      <th>50</th>\n",
       "      <td>0.862624</td>\n",
       "      <td>0.720653</td>\n",
       "    </tr>\n",
       "  </tbody>\n",
       "</table>\n",
       "</div>"
      ],
      "text/plain": [
       "     sig_eff   bkg_rej\n",
       "0   1.000000  0.000000\n",
       "1   0.995960  0.039546\n",
       "2   0.992744  0.078591\n",
       "3   0.989557  0.117451\n",
       "4   0.986387  0.155803\n",
       "5   0.983357  0.193365\n",
       "6   0.979983  0.229768\n",
       "7   0.977070  0.264416\n",
       "8   0.974099  0.297447\n",
       "9   0.971349  0.328891\n",
       "10  0.968465  0.358138\n",
       "11  0.965535  0.385308\n",
       "12  0.962511  0.410807\n",
       "13  0.959721  0.434409\n",
       "14  0.956802  0.456205\n",
       "15  0.953924  0.476198\n",
       "16  0.951116  0.494757\n",
       "17  0.948396  0.511666\n",
       "18  0.945705  0.527575\n",
       "19  0.942984  0.542021\n",
       "20  0.940165  0.555098\n",
       "21  0.937351  0.567176\n",
       "22  0.934567  0.578453\n",
       "23  0.932056  0.588811\n",
       "24  0.929360  0.598272\n",
       "25  0.926628  0.607091\n",
       "26  0.923855  0.615228\n",
       "27  0.921234  0.622760\n",
       "28  0.918455  0.629948\n",
       "29  0.915810  0.636542\n",
       "30  0.913184  0.642764\n",
       "31  0.910603  0.648560\n",
       "32  0.907795  0.654127\n",
       "33  0.905256  0.659276\n",
       "34  0.902641  0.664314\n",
       "35  0.900072  0.668974\n",
       "36  0.897393  0.673500\n",
       "37  0.895035  0.677834\n",
       "38  0.892390  0.681825\n",
       "39  0.889746  0.685667\n",
       "40  0.887037  0.689491\n",
       "41  0.884445  0.693102\n",
       "42  0.881853  0.696454\n",
       "43  0.879326  0.699760\n",
       "44  0.876874  0.703019\n",
       "45  0.874405  0.706130\n",
       "46  0.872081  0.709179\n",
       "47  0.869694  0.712219\n",
       "48  0.867312  0.715110\n",
       "49  0.864872  0.717938\n",
       "50  0.862624  0.720653"
      ]
     },
     "execution_count": 165,
     "metadata": {},
     "output_type": "execute_result"
    }
   ],
   "source": [
    "df_50MeV"
   ]
  },
  {
   "cell_type": "code",
   "execution_count": 166,
   "id": "ce93435a",
   "metadata": {},
   "outputs": [
    {
     "data": {
      "text/plain": [
       "(0.0, 1.0)"
      ]
     },
     "execution_count": 166,
     "metadata": {},
     "output_type": "execute_result"
    },
    {
     "data": {
      "image/png": "[encoded data removed]",
      "text/plain": [
       "<Figure size 576x396 with 1 Axes>"
      ]
     },
     "metadata": {},
     "output_type": "display_data"
    }
   ],
   "source": [
    "plt.scatter(df_50MeV.sig_eff, df_50MeV.bkg_rej, alpha=0.8, marker='.')\n",
    "plt.scatter(df_75MeV.sig_eff, df_75MeV.bkg_rej, alpha=0.8, marker='.')\n",
    "plt.scatter(df_125MeV.sig_eff, df_125MeV.bkg_rej, alpha=0.8, marker='.')\n",
    "\n",
    "\n",
    "plt.plot(df_50MeV.sig_eff, df_50MeV.bkg_rej)\n",
    "plt.plot(df_75MeV.sig_eff, df_75MeV.bkg_rej)\n",
    "plt.plot(df_125MeV.sig_eff, df_125MeV.bkg_rej)\n",
    "\n",
    "ax = plt.gca()\n",
    "ax.set_xlim(0.88,1)   \n",
    "ax.set_ylim(0,1)"
   ]
  },
  {
   "cell_type": "code",
   "execution_count": 155,
   "id": "a2541def",
   "metadata": {},
   "outputs": [],
   "source": [
    "# plt.scatter(df_50MeV.sig_eff, df_50MeV.bkg_rej)\n",
    "# plt.scatter(df_75MeV.sig_eff, df_75MeV.bkg_rej)\n",
    "# plt.scatter(df_125MeV.sig_eff, df_125MeV.bkg_rej)\n",
    "\n",
    "# ax = plt.gca()\n",
    "# ax.set_xlim(0.88,1)   \n",
    "# ax.set_ylim(0,1)"
   ]
  },
  {
   "cell_type": "code",
   "execution_count": 17,
   "id": "fc369680",
   "metadata": {},
   "outputs": [],
   "source": []
  },
  {
   "cell_type": "code",
   "execution_count": 56,
   "id": "f35f7171",
   "metadata": {},
   "outputs": [],
   "source": [
    "file = '/media/jykim/ssd_T5/storage/01_recon/merge_generic_bkg/ccbar/train_v1_1_no_signal_ccbar_recon_output_0*.root'\n",
    "tree = 'antiKstar'\n",
    "variables=['Pi0_Prob','D0_M','Eta_Prob']\n",
    "\n",
    "base_filter = 'gamma_genMotherPDG==111'\n",
    "base_filter = 'gamma_E>0.1'\n",
    "\n",
    "ccbar_df = get_data(file=file, tree=tree,variables=variables ,base_filter=base_filter)\n",
    "\n",
    "file = file.replace('ccbar','mixed')\n",
    "mixed_df = get_data(file=file, tree=tree,variables=variables ,base_filter=base_filter)\n",
    "\n",
    "file = file.replace('mixed','ddbar')\n",
    "ddbar_df = get_data(file=file, tree=tree,variables=variables ,base_filter=base_filter)\n",
    "\n",
    "file = file.replace('ddbar','ssbar')\n",
    "ssbar_df = get_data(file=file, tree=tree,variables=variables ,base_filter=base_filter)\n",
    "\n",
    "file = file.replace('ssbar','taupair')\n",
    "taupair_df = get_data(file=file, tree=tree,variables=variables ,base_filter=base_filter)\n",
    "\n",
    "file = file.replace('taupair','uubar')\n",
    "uubar_df = get_data(file=file, tree=tree,variables=variables ,base_filter=base_filter)\n",
    "\n",
    "file = file.replace('uubar','charged')\n",
    "charged_df = get_data(file=file, tree=tree,variables=variables, base_filter=base_filter)\n"
   ]
  },
  {
   "cell_type": "code",
   "execution_count": 57,
   "id": "0e152e27",
   "metadata": {},
   "outputs": [],
   "source": [
    "merged_pd_df = pd.concat([ccbar_df, mixed_df, ddbar_df, ssbar_df, taupair_df, uubar_df, charged_df], ignore_index=True)\n",
    "#base_filter = '(D0_M>1.665 && D0_M<2.065) && (gamma_E>0.55)  && ( abs(Rho_M- 0.77526) < 0.150 ) &&  Dstarp_CMS_p>2.72 && abs(Dstarp_Q-0.00593)<0.0006'\n",
    "\n",
    "\n"
   ]
  },
  {
   "cell_type": "code",
   "execution_count": 58,
   "id": "ba70bf65",
   "metadata": {},
   "outputs": [
    {
     "data": {
      "text/html": [
       "<div>\n",
       "<style scoped>\n",
       "    .dataframe tbody tr th:only-of-type {\n",
       "        vertical-align: middle;\n",
       "    }\n",
       "\n",
       "    .dataframe tbody tr th {\n",
       "        vertical-align: top;\n",
       "    }\n",
       "\n",
       "    .dataframe thead th {\n",
       "        text-align: right;\n",
       "    }\n",
       "</style>\n",
       "<table border=\"1\" class=\"dataframe\">\n",
       "  <thead>\n",
       "    <tr style=\"text-align: right;\">\n",
       "      <th></th>\n",
       "      <th>Pi0_Prob</th>\n",
       "      <th>D0_M</th>\n",
       "      <th>Eta_Prob</th>\n",
       "    </tr>\n",
       "  </thead>\n",
       "  <tbody>\n",
       "    <tr>\n",
       "      <th>count</th>\n",
       "      <td>4.638653e+06</td>\n",
       "      <td>4.638661e+06</td>\n",
       "      <td>4.638480e+06</td>\n",
       "    </tr>\n",
       "    <tr>\n",
       "      <th>mean</th>\n",
       "      <td>8.540547e-01</td>\n",
       "      <td>1.823277e+00</td>\n",
       "      <td>6.274067e-01</td>\n",
       "    </tr>\n",
       "    <tr>\n",
       "      <th>std</th>\n",
       "      <td>2.607176e-01</td>\n",
       "      <td>1.085576e-01</td>\n",
       "      <td>3.056782e-01</td>\n",
       "    </tr>\n",
       "    <tr>\n",
       "      <th>min</th>\n",
       "      <td>7.430211e-05</td>\n",
       "      <td>8.333485e-01</td>\n",
       "      <td>8.004790e-05</td>\n",
       "    </tr>\n",
       "    <tr>\n",
       "      <th>25%</th>\n",
       "      <td>8.812863e-01</td>\n",
       "      <td>1.734168e+00</td>\n",
       "      <td>3.729646e-01</td>\n",
       "    </tr>\n",
       "    <tr>\n",
       "      <th>50%</th>\n",
       "      <td>9.763084e-01</td>\n",
       "      <td>1.804145e+00</td>\n",
       "      <td>6.977651e-01</td>\n",
       "    </tr>\n",
       "    <tr>\n",
       "      <th>75%</th>\n",
       "      <td>9.923617e-01</td>\n",
       "      <td>1.899617e+00</td>\n",
       "      <td>9.133362e-01</td>\n",
       "    </tr>\n",
       "    <tr>\n",
       "      <th>max</th>\n",
       "      <td>9.993101e-01</td>\n",
       "      <td>3.812553e+00</td>\n",
       "      <td>9.998906e-01</td>\n",
       "    </tr>\n",
       "  </tbody>\n",
       "</table>\n",
       "</div>"
      ],
      "text/plain": [
       "           Pi0_Prob          D0_M      Eta_Prob\n",
       "count  4.638653e+06  4.638661e+06  4.638480e+06\n",
       "mean   8.540547e-01  1.823277e+00  6.274067e-01\n",
       "std    2.607176e-01  1.085576e-01  3.056782e-01\n",
       "min    7.430211e-05  8.333485e-01  8.004790e-05\n",
       "25%    8.812863e-01  1.734168e+00  3.729646e-01\n",
       "50%    9.763084e-01  1.804145e+00  6.977651e-01\n",
       "75%    9.923617e-01  1.899617e+00  9.133362e-01\n",
       "max    9.993101e-01  3.812553e+00  9.998906e-01"
      ]
     },
     "execution_count": 58,
     "metadata": {},
     "output_type": "execute_result"
    }
   ],
   "source": [
    "merged_pd_df.describe()"
   ]
  },
  {
   "cell_type": "code",
   "execution_count": null,
   "id": "d1b88523",
   "metadata": {},
   "outputs": [],
   "source": []
  },
  {
   "cell_type": "code",
   "execution_count": 59,
   "id": "2aa58fdf",
   "metadata": {},
   "outputs": [],
   "source": [
    "file='/media/jykim/ssd_T5/storage/01_recon/antiKstar/expert_E_0_3_signalMC_recon_mdst_antiKstar.root'"
   ]
  },
  {
   "cell_type": "code",
   "execution_count": 60,
   "id": "d289426a",
   "metadata": {},
   "outputs": [],
   "source": [
    "base_filter = 'Dstarp_isSignal==1'\n",
    "\n",
    "tree = 'antiKstar'\n",
    "\n",
    "#variables=['ROE_Pi0_InvM','ROE_Pi0_InvM_50MeV','ROE_Pi0_InvM_75MeV','ROE_Pi0_InvM_100MeV','ROE_Pi0_InvM_125MeV','ROE_Pi0_InvM_150MeV']\n",
    "#variables+= ['ROE_Eta_InvM','ROE_Eta_InvM_50MeV','ROE_Eta_InvM_75MeV','ROE_Eta_InvM_100MeV','ROE_Eta_InvM_125MeV','ROE_Eta_InvM_150MeV','ROE_Eta_InvM_175MeV','ROE_Eta_InvM_200MeV']\n",
    "variables = ['Pi0_Prob', 'Eta_Prob']\n",
    "#pd_df = get_data(file=file, tree=tree,variables=variables ,base_filter=base_filter)"
   ]
  },
  {
   "cell_type": "code",
   "execution_count": 61,
   "id": "25ceefa0",
   "metadata": {},
   "outputs": [],
   "source": [
    "pd_df_signal = get_data(file=file, tree=tree,variables=variables ,base_filter=base_filter)\n"
   ]
  },
  {
   "cell_type": "code",
   "execution_count": 62,
   "id": "887c0c87",
   "metadata": {},
   "outputs": [],
   "source": [
    "step = 0.01\n",
    "sig_Total_row_num = pd_df_signal.shape[0]\n",
    "Pi0_bkg_Total_row_num = merged_pd_df.shape[0]\n",
    "\n",
    "\n",
    "# data_dict = dict.fromkeys(['sig_eff', 'bkg_rej','Pi0_Prob_cut'])\n",
    "# data_dict['sig_eff']=list()\n",
    "\n",
    "\n",
    "data_dict = dict.fromkeys(['sig_eff','bkg_rej','Pi0_Prob_cut'])\n",
    "data_dict['sig_eff']=list()\n",
    "data_dict['bkg_rej']=list()\n",
    "data_dict['Pi0_Prob_cut']=list()\n",
    "\n",
    "sig_Reduced_row_num = pd_df_signal.shape[0]\n",
    "data_dict['sig_eff'].append(eff(sig_Total_row_num, sig_Reduced_row_num ))\n",
    "\n",
    "Pi0_bkg_Reduced_row_num = merged_pd_df.shape[0]\n",
    "data_dict['bkg_rej'].append(Bkg_rej(Pi0_bkg_Total_row_num, Pi0_bkg_Reduced_row_num))\n",
    "data_dict['Pi0_Prob_cut'].append(1)\n",
    "\n",
    "for i in range(1,50):\n",
    "    Pi0_prob_cut     = 1 - i * step\n",
    "\n",
    "#     sig_Reduced_row_num = pd_df_signal[(pd_df_signal['ROE_Pi0_InvM_75MeV']<min_mass_bound) | (pd_df_signal['ROE_Pi0_InvM_75MeV']>max_mass_bound)].shape[0]\n",
    "#     data_dict['sig_eff'].append(eff(sig_Total_row_num, sig_Reduced_row_num ))\n",
    "\n",
    "    sig_Reduced_row_num = pd_df_signal[pd_df_signal['Pi0_Prob']<Pi0_prob_cut].shape[0]\n",
    "    data_dict['sig_eff'].append(eff(sig_Total_row_num, sig_Reduced_row_num ))\n",
    "\n",
    "    Pi0_bkg_Reduced_row_num = merged_pd_df[merged_pd_df['Pi0_Prob']<Pi0_prob_cut].shape[0]\n",
    "    data_dict['bkg_rej'].append(Bkg_rej(Pi0_bkg_Total_row_num, Pi0_bkg_Reduced_row_num))\n",
    "    data_dict['Pi0_Prob_cut'].append(Pi0_prob_cut)"
   ]
  },
  {
   "cell_type": "code",
   "execution_count": 63,
   "id": "a349b16a",
   "metadata": {},
   "outputs": [
    {
     "name": "stdout",
     "output_type": "stream",
     "text": [
      "{'sig_eff': [1.0, 0.9902028220334257, 0.9770035879608113, 0.9630793255377293, 0.9495640534661932, 0.9376475618597907, 0.9269022698964511, 0.9170679109888271, 0.9082560279600677, 0.9003550779870239, 0.8927143946013274, 0.8850737112156308, 0.8773586659478352, 0.870647506088379, 0.8630254131732075, 0.8564815675484746, 0.850606978862635, 0.8443605807662992, 0.8392853823130263, 0.8335966983324348, 0.8281496904686657, 0.8224424160175494, 0.817422988975851, 0.8114740384079121, 0.806027030544143, 0.8005986131508989, 0.7949657005818818, 0.7903366734212043, 0.7846108084995631, 0.7793311148705174, 0.7737911546541243, 0.768474280084029, 0.7627484151623878, 0.7570411407112714, 0.7514639995538287, 0.7464817534531799, 0.7407001171199643, 0.7360153185477124, 0.7308285772712907, 0.7248052648212526, 0.719414028369058, 0.7142458775631612, 0.7083898793478463, 0.701808852782064, 0.6963432544477701, 0.6910077894071499, 0.6849844769571117, 0.6792028406238962, 0.6736814708780279, 0.6676767488985146], 'bkg_rej': [0.0, 0.30468383009665934, 0.45532751800573484, 0.5504400946738724, 0.609729618094532, 0.6463132356514089, 0.6723338911810973, 0.6924976841377285, 0.7081416382874282, 0.721159619122846, 0.732334180057564, 0.7421408893644093, 0.7512713259278917, 0.7593531840330647, 0.766582425402503, 0.7736622702111665, 0.7797101361793846, 0.7855583755743306, 0.7908264906618526, 0.7957753325798113, 0.8000882151120765, 0.804513198959786, 0.8086516777147543, 0.8126631801720368, 0.8160863663026895, 0.8198355085659418, 0.8232899537172473, 0.8266126798229058, 0.8300852336482446, 0.8331052862022036, 0.8363407026294872, 0.8393124653860241, 0.8422148115587667, 0.8451660942672896, 0.8477903429459492, 0.8504488687576005, 0.8531630140680684, 0.8557195707985559, 0.8581187545285158, 0.8606860902316423, 0.8630462540806496, 0.865354894440443, 0.8676975963537754, 0.8703123595365128, 0.872444009165576, 0.8744775701436255, 0.8767568916978412, 0.8789864143984654, 0.880927922950179, 0.8831104493300976], 'Pi0_Prob_cut': [1, 0.99, 0.98, 0.97, 0.96, 0.95, 0.94, 0.9299999999999999, 0.92, 0.91, 0.9, 0.89, 0.88, 0.87, 0.86, 0.85, 0.84, 0.83, 0.8200000000000001, 0.81, 0.8, 0.79, 0.78, 0.77, 0.76, 0.75, 0.74, 0.73, 0.72, 0.71, 0.7, 0.69, 0.6799999999999999, 0.6699999999999999, 0.6599999999999999, 0.6499999999999999, 0.64, 0.63, 0.62, 0.61, 0.6, 0.59, 0.5800000000000001, 0.5700000000000001, 0.56, 0.55, 0.54, 0.53, 0.52, 0.51]}\n"
     ]
    }
   ],
   "source": [
    "print(data_dict)"
   ]
  },
  {
   "cell_type": "code",
   "execution_count": 64,
   "id": "480ea8ce",
   "metadata": {},
   "outputs": [
    {
     "data": {
      "text/plain": [
       "(0.0, 1.0)"
      ]
     },
     "execution_count": 64,
     "metadata": {},
     "output_type": "execute_result"
    },
    {
     "data": {
      "image/png": "[encoded data removed]",
      "text/plain": [
       "<Figure size 576x396 with 1 Axes>"
      ]
     },
     "metadata": {},
     "output_type": "display_data"
    }
   ],
   "source": [
    "df = pd.DataFrame(data_dict)\n",
    "plt.scatter(df.sig_eff, df.bkg_rej)\n",
    "\n",
    "ax = plt.gca()\n",
    "#ax.set_xlim(0,1)   \n",
    "#ax.set_ylim(0,1)\n",
    "\n",
    "#ax.set_xlim(0.88,1)   \n",
    "ax.set_ylim(0,1)"
   ]
  },
  {
   "cell_type": "code",
   "execution_count": 65,
   "id": "dccfc814",
   "metadata": {
    "scrolled": true
   },
   "outputs": [
    {
     "data": {
      "text/plain": [
       "(0.0, 1.0)"
      ]
     },
     "execution_count": 65,
     "metadata": {},
     "output_type": "execute_result"
    },
    {
     "data": {
      "image/png": "[encoded data removed]",
      "text/plain": [
       "<Figure size 576x396 with 1 Axes>"
      ]
     },
     "metadata": {},
     "output_type": "display_data"
    }
   ],
   "source": [
    "df = pd.DataFrame(data_dict)\n",
    "plt.scatter(df.sig_eff, df.bkg_rej)\n",
    "\n",
    "ax = plt.gca()\n",
    "#ax.set_xlim(0,1)   \n",
    "#ax.set_ylim(0,1)\n",
    "\n",
    "#ax.set_xlim(0.88,1)   \n",
    "ax.set_ylim(0,1)"
   ]
  },
  {
   "cell_type": "code",
   "execution_count": 70,
   "id": "83a80b9b",
   "metadata": {},
   "outputs": [
    {
     "data": {
      "text/plain": [
       "Text(0, 0.5, 'Background retention')"
      ]
     },
     "execution_count": 70,
     "metadata": {},
     "output_type": "execute_result"
    },
    {
     "data": {
      "image/png": "[encoded data removed]",
      "text/plain": [
       "<Figure size 576x396 with 1 Axes>"
      ]
     },
     "metadata": {},
     "output_type": "display_data"
    }
   ],
   "source": [
    "plt.scatter(df_50MeV.sig_eff, df_50MeV.bkg_rej , alpha=0.8, marker='.',c='red',label=r'mass veto, $E_{\\gamma_2}>50\\mathrm{MeV}$')\n",
    "plt.scatter(df_75MeV.sig_eff, df_75MeV.bkg_rej, alpha=0.8, marker='.',c='green',label=r'mass veto, $E_{\\gamma_2}>75\\mathrm{MeV}$')\n",
    "plt.scatter(df_125MeV.sig_eff, df_125MeV.bkg_rej, alpha=0.8, marker='.',c='blue',label=r'mass veto, $E_{\\gamma_2}>125\\mathrm{MeV}$')\n",
    "plt.scatter(df.sig_eff, df.bkg_rej, alpha=0.8, marker='*',c='black',label=r'FBDT')\n",
    "\n",
    "plt.plot(df_50MeV.sig_eff, df_50MeV.bkg_rej,c='red')\n",
    "plt.plot(df_75MeV.sig_eff, df_75MeV.bkg_rej,c='green')\n",
    "plt.plot(df_125MeV.sig_eff, df_125MeV.bkg_rej,c='blue')\n",
    "plt.plot(df.sig_eff, df.bkg_rej,c='black')\n",
    "\n",
    "plt.legend()\n",
    "ax = plt.gca()\n",
    "ax.set_xlim(0.85,1)   \n",
    "ax.set_ylim(0,1)\n",
    "ax.set_xlabel('Signal efficiency')\n",
    "ax.set_ylabel('Background retention')"
   ]
  },
  {
   "cell_type": "code",
   "execution_count": 197,
   "id": "b12146b6",
   "metadata": {},
   "outputs": [
    {
     "data": {
      "text/plain": [
       "Text(0, 0.5, 'Background retention')"
      ]
     },
     "execution_count": 197,
     "metadata": {},
     "output_type": "execute_result"
    },
    {
     "data": {
      "image/png": "[encoded data removed]",
      "text/plain": [
       "<Figure size 576x396 with 1 Axes>"
      ]
     },
     "metadata": {},
     "output_type": "display_data"
    }
   ],
   "source": [
    "# plt.scatter(df_50MeV.sig_eff, df_50MeV.bkg_rej , alpha=0.8, marker='.',c='red',label=r'mass veto, $E_{\\gamma_2}>50\\mathrm{MeV}$')\n",
    "# plt.scatter(df_75MeV.sig_eff, df_75MeV.bkg_rej, alpha=0.8, marker='.',c='green',label=r'mass veto, $E_{\\gamma_2}>75\\mathrm{MeV}$')\n",
    "# plt.scatter(df_100MeV.sig_eff, df_100MeV.bkg_rej, alpha=0.8, marker='.',c='orange',label=r'mass veto, $E_{\\gamma_2}>100\\mathrm{MeV}$')\n",
    "\n",
    "# plt.scatter(df_125MeV.sig_eff, df_125MeV.bkg_rej, alpha=0.8, marker='.',c='blue',label=r'mass veto, $E_{\\gamma_2}>125\\mathrm{MeV}$')\n",
    "# plt.scatter(df.sig_eff, df.bkg_rej, alpha=0.8, marker='*',c='black',label=r'FBDT')\n",
    "\n",
    "# plt.plot(df_50MeV.sig_eff, df_50MeV.bkg_rej,c='red')\n",
    "# plt.plot(df_75MeV.sig_eff, df_75MeV.bkg_rej,c='green')\n",
    "# plt.plot(df_125MeV.sig_eff, df_125MeV.bkg_rej,c='blue')\n",
    "# plt.plot(df.sig_eff, df.bkg_rej,c='black')\n",
    "\n",
    "# plt.legend()\n",
    "# ax = plt.gca()\n",
    "# ax.set_xlim(0.88,1)   \n",
    "# ax.set_ylim(0,1)\n",
    "# ax.set_xlabel('Signal efficiency')\n",
    "# ax.set_ylabel('Background retention')"
   ]
  },
  {
   "cell_type": "code",
   "execution_count": null,
   "id": "ccd97164",
   "metadata": {},
   "outputs": [],
   "source": []
  },
  {
   "cell_type": "markdown",
   "id": "6be173fb",
   "metadata": {},
   "source": [
    "# eta"
   ]
  },
  {
   "cell_type": "code",
   "execution_count": null,
   "id": "6a284f85",
   "metadata": {},
   "outputs": [],
   "source": []
  },
  {
   "cell_type": "code",
   "execution_count": 43,
   "id": "7738b98c",
   "metadata": {},
   "outputs": [
    {
     "name": "stdout",
     "output_type": "stream",
     "text": [
      "{'sig_eff': [], 'bkg_rej': []}\n"
     ]
    }
   ],
   "source": [
    "step = 0.005\n",
    "sig_Total_row_num = pd_df_signal.shape[0]\n",
    "Pi0_bkg_Total_row_num = Pi0_selected_pd_df_bkg.shape[0]\n",
    "width_mass = 0.0\n",
    "\n",
    "data_dict = dict.fromkeys(['sig_eff', 'bkg_rej'])\n",
    "data_dict['sig_eff']=list()\n",
    "data_dict['bkg_rej']=list()\n",
    "print(data_dict)\n",
    "# sig_eff_list = list()\n",
    "# bkg_rej_list = list()\n",
    "sig_Reduced_row_num = pd_df_signal.shape[0]\n",
    "data_dict['sig_eff'].append(eff(sig_Total_row_num, sig_Reduced_row_num ))\n",
    "Pi0_bkg_Reduced_row_num = Pi0_selected_pd_df_bkg.shape[0]\n",
    "data_dict['bkg_rej'].append(Bkg_rej(Pi0_bkg_Total_row_num, Pi0_bkg_Reduced_row_num)) \n",
    "for i in range(1,100):     \n",
    "    if width_mass < 0.100:\n",
    "        width_mass     = 0 + i * step\n",
    "        min_mass_bound = nominal_eta_mass - width_mass  \n",
    "        max_mass_bound = nominal_eta_mass + width_mass\n",
    "        #print(width_mass)\n",
    "        sig_Reduced_row_num = pd_df_signal[(pd_df_signal['ROE_Eta_InvM_50MeV']<min_mass_bound) | (pd_df_signal['ROE_Eta_InvM_50MeV']>max_mass_bound)].shape[0]\n",
    "        data_dict['sig_eff'].append(eff(sig_Total_row_num, sig_Reduced_row_num ))\n",
    "        #sig_eff_list.append(eff(sig_Total_row_num, sig_Reduced_row_num ))\n",
    "        \n",
    "        Pi0_bkg_Reduced_row_num = Pi0_selected_pd_df_bkg[(Pi0_selected_pd_df_bkg['ROE_Eta_InvM_50MeV']<min_mass_bound) | (Pi0_selected_pd_df_bkg['ROE_Eta_InvM_50MeV']>max_mass_bound)].shape[0]\n",
    "        data_dict['bkg_rej'].append(Bkg_rej(Pi0_bkg_Total_row_num, Pi0_bkg_Reduced_row_num))\n",
    "        \n",
    "        #bkg_rej_list.append(Bkg_rej(Pi0_bkg_Total_row_num, Pi0_bkg_Reduced_row_num))        \n",
    "        \n",
    "        \n"
   ]
  },
  {
   "cell_type": "code",
   "execution_count": 44,
   "id": "cc137a4e",
   "metadata": {},
   "outputs": [],
   "source": [
    "df_50MeV_eta = pd.DataFrame(data_dict)"
   ]
  },
  {
   "cell_type": "code",
   "execution_count": 45,
   "id": "3423e471",
   "metadata": {},
   "outputs": [],
   "source": [
    "step = 0.005\n",
    "sig_Total_row_num = pd_df_signal.shape[0]\n",
    "Pi0_bkg_Total_row_num = Pi0_selected_pd_df_bkg.shape[0]\n",
    "width_mass = 0.0\n",
    "\n",
    "data_dict = dict.fromkeys(['sig_eff', 'bkg_rej'])\n",
    "data_dict['sig_eff']=list()\n",
    "data_dict['bkg_rej']=list()\n",
    "sig_Reduced_row_num = pd_df_signal.shape[0]\n",
    "data_dict['sig_eff'].append(eff(sig_Total_row_num, sig_Reduced_row_num ))\n",
    "Pi0_bkg_Reduced_row_num = Pi0_selected_pd_df_bkg.shape[0]\n",
    "data_dict['bkg_rej'].append(Bkg_rej(Pi0_bkg_Total_row_num, Pi0_bkg_Reduced_row_num)) \n",
    "for i in range(1,100):\n",
    "    if width_mass < 0.100:\n",
    "        width_mass     = 0 + i * step\n",
    "        min_mass_bound = nominal_eta_mass - width_mass  \n",
    "        max_mass_bound = nominal_eta_mass + width_mass\n",
    "        #print(width_mass)\n",
    "        sig_Reduced_row_num = pd_df_signal[(pd_df_signal['ROE_Eta_InvM_75MeV']<min_mass_bound) | (pd_df_signal['ROE_Eta_InvM_75MeV']>max_mass_bound)].shape[0]\n",
    "        data_dict['sig_eff'].append(eff(sig_Total_row_num, sig_Reduced_row_num ))\n",
    "        #sig_eff_list.append(eff(sig_Total_row_num, sig_Reduced_row_num ))\n",
    "        \n",
    "        Pi0_bkg_Reduced_row_num = Pi0_selected_pd_df_bkg[(Pi0_selected_pd_df_bkg['ROE_Eta_InvM_75MeV']<min_mass_bound) | (Pi0_selected_pd_df_bkg['ROE_Eta_InvM_75MeV']>max_mass_bound)].shape[0]\n",
    "        data_dict['bkg_rej'].append(Bkg_rej(Pi0_bkg_Total_row_num, Pi0_bkg_Reduced_row_num))\n",
    "        \n",
    "        #bkg_rej_list.append(Bkg_rej(Pi0_bkg_Total_row_num, Pi0_bkg_Reduced_row_num))   "
   ]
  },
  {
   "cell_type": "code",
   "execution_count": 46,
   "id": "093ca52d",
   "metadata": {},
   "outputs": [],
   "source": [
    "df_75MeV_eta = pd.DataFrame(data_dict)\n",
    "#Y = pd.DataFrame(bkg_rej_list)\n",
    "\n"
   ]
  },
  {
   "cell_type": "code",
   "execution_count": 47,
   "id": "66396077",
   "metadata": {},
   "outputs": [],
   "source": [
    "step = 0.005\n",
    "sig_Total_row_num = pd_df_signal.shape[0]\n",
    "Pi0_bkg_Total_row_num = Pi0_selected_pd_df_bkg.shape[0]\n",
    "width_mass = 0.0\n",
    "\n",
    "data_dict = dict.fromkeys(['sig_eff', 'bkg_rej'])\n",
    "data_dict['sig_eff']=list()\n",
    "data_dict['bkg_rej']=list()\n",
    "sig_Reduced_row_num = pd_df_signal.shape[0]\n",
    "data_dict['sig_eff'].append(eff(sig_Total_row_num, sig_Reduced_row_num ))\n",
    "Pi0_bkg_Reduced_row_num = Pi0_selected_pd_df_bkg.shape[0]\n",
    "data_dict['bkg_rej'].append(Bkg_rej(Pi0_bkg_Total_row_num, Pi0_bkg_Reduced_row_num)) \n",
    "for i in range(1,100):\n",
    "    if width_mass < 0.100:\n",
    "        width_mass     = 0 + i * step\n",
    "        min_mass_bound = nominal_eta_mass - width_mass  \n",
    "        max_mass_bound = nominal_eta_mass + width_mass\n",
    "        #print(width_mass)\n",
    "        sig_Reduced_row_num = pd_df_signal[(pd_df_signal['ROE_Eta_InvM_100MeV']<min_mass_bound) | (pd_df_signal['ROE_Eta_InvM_100MeV']>max_mass_bound)].shape[0]\n",
    "        data_dict['sig_eff'].append(eff(sig_Total_row_num, sig_Reduced_row_num ))\n",
    "        #sig_eff_list.append(eff(sig_Total_row_num, sig_Reduced_row_num ))\n",
    "        \n",
    "        Pi0_bkg_Reduced_row_num = Pi0_selected_pd_df_bkg[(Pi0_selected_pd_df_bkg['ROE_Eta_InvM_100MeV']<min_mass_bound) | (Pi0_selected_pd_df_bkg['ROE_Eta_InvM_100MeV']>max_mass_bound)].shape[0]\n",
    "        data_dict['bkg_rej'].append(Bkg_rej(Pi0_bkg_Total_row_num, Pi0_bkg_Reduced_row_num))\n",
    "        \n",
    "        #bkg_rej_list.append(Bkg_rej(Pi0_bkg_Total_row_num, Pi0_bkg_Reduced_row_num))   "
   ]
  },
  {
   "cell_type": "code",
   "execution_count": 48,
   "id": "510e5649",
   "metadata": {},
   "outputs": [],
   "source": [
    "df_100MeV_eta = pd.DataFrame(data_dict)\n",
    "#Y = pd.DataFrame(bkg_rej_list)\n",
    "\n"
   ]
  },
  {
   "cell_type": "code",
   "execution_count": 49,
   "id": "9d91ab8d",
   "metadata": {},
   "outputs": [],
   "source": [
    "step = 0.005\n",
    "sig_Total_row_num = pd_df_signal.shape[0]\n",
    "Pi0_bkg_Total_row_num = Pi0_selected_pd_df_bkg.shape[0]\n",
    "width_mass = 0.0\n",
    "\n",
    "data_dict = dict.fromkeys(['sig_eff', 'bkg_rej'])\n",
    "data_dict['sig_eff']=list()\n",
    "data_dict['bkg_rej']=list()\n",
    "sig_Reduced_row_num = pd_df_signal.shape[0]\n",
    "data_dict['sig_eff'].append(eff(sig_Total_row_num, sig_Reduced_row_num ))\n",
    "Pi0_bkg_Reduced_row_num = Pi0_selected_pd_df_bkg.shape[0]\n",
    "data_dict['bkg_rej'].append(Bkg_rej(Pi0_bkg_Total_row_num, Pi0_bkg_Reduced_row_num)) \n",
    "for i in range(1,100):\n",
    "    if width_mass < 0.100:\n",
    "        width_mass     = 0 + i * step\n",
    "        min_mass_bound = nominal_pi0_mass - width_mass  \n",
    "        max_mass_bound = nominal_pi0_mass + width_mass\n",
    "        #print(width_mass)\n",
    "        sig_Reduced_row_num = pd_df_signal[(pd_df_signal['ROE_Eta_InvM_125MeV']<min_mass_bound) | (pd_df_signal['ROE_Eta_InvM_125MeV']>max_mass_bound)].shape[0]\n",
    "        data_dict['sig_eff'].append(eff(sig_Total_row_num, sig_Reduced_row_num ))\n",
    "        #sig_eff_list.append(eff(sig_Total_row_num, sig_Reduced_row_num ))\n",
    "        \n",
    "        Pi0_bkg_Reduced_row_num = Pi0_selected_pd_df_bkg[(Pi0_selected_pd_df_bkg['ROE_Eta_InvM_125MeV']<min_mass_bound) | (Pi0_selected_pd_df_bkg['ROE_Eta_InvM_125MeV']>max_mass_bound)].shape[0]\n",
    "        data_dict['bkg_rej'].append(Bkg_rej(Pi0_bkg_Total_row_num, Pi0_bkg_Reduced_row_num))\n",
    "        \n",
    "        #bkg_rej_list.append(Bkg_rej(Pi0_bkg_Total_row_num, Pi0_bkg_Reduced_row_num))   "
   ]
  },
  {
   "cell_type": "code",
   "execution_count": 50,
   "id": "e9b6db05",
   "metadata": {},
   "outputs": [],
   "source": [
    "df_125MeV_eta = pd.DataFrame(data_dict)"
   ]
  },
  {
   "cell_type": "code",
   "execution_count": 51,
   "id": "1ea3c9b9",
   "metadata": {},
   "outputs": [
    {
     "data": {
      "text/plain": [
       "<matplotlib.collections.PathCollection at 0x7f7001e457b0>"
      ]
     },
     "execution_count": 51,
     "metadata": {},
     "output_type": "execute_result"
    },
    {
     "data": {
      "image/png": "[encoded data removed]",
      "text/plain": [
       "<Figure size 576x396 with 1 Axes>"
      ]
     },
     "metadata": {},
     "output_type": "display_data"
    }
   ],
   "source": [
    "plt.scatter(df_125MeV_eta.sig_eff, df_125MeV_eta.bkg_rej, alpha=0.8, marker='.',c='blue',label=r'$E_{\\gamma_2}>125\\mathrm{MeV}$')\n"
   ]
  },
  {
   "cell_type": "code",
   "execution_count": 55,
   "id": "46d09b4a",
   "metadata": {},
   "outputs": [
    {
     "data": {
      "image/png": "[encoded data removed]",
      "text/plain": [
       "<Figure size 576x396 with 1 Axes>"
      ]
     },
     "metadata": {},
     "output_type": "display_data"
    }
   ],
   "source": [
    "#plt.scatter(df_50MeV_eta.sig_eff, df_50MeV_eta.bkg_rej , alpha=0.8, marker='.',c='red',label=r'$E_{\\gamma_2}>50\\mathrm{MeV}$')\n",
    "#plt.scatter(df_75MeV_eta.sig_eff, df_75MeV_eta.bkg_rej, alpha=0.8, marker='.',c='green',label=r'$E_{\\gamma_2}>75\\mathrm{MeV}$')\n",
    "plt.scatter(df_125MeV_eta.sig_eff, df_125MeV_eta.bkg_rej, alpha=0.8, marker='.',c='blue',label=r'$E_{\\gamma_2}>125\\mathrm{MeV}$')\n",
    "# plt.scatter(df.sig_eff, df.bkg_rej, alpha=0.8, marker='*',c='black',label=r'FBDT')\n",
    "\n",
    "#plt.plot(df_50MeV_eta.sig_eff, df_50MeV_eta.bkg_rej,c='red')\n",
    "#plt.plot(df_75MeV_eta.sig_eff, df_75MeV_eta.bkg_rej,c='green')\n",
    "plt.plot(df_125MeV_eta.sig_eff, df_125MeV_eta.bkg_rej,c='blue')\n",
    "# plt.plot(df.sig_eff, df.bkg_rej,c='black')\n",
    "\n",
    "plt.legend()\n",
    "ax = plt.gca()\n",
    "# ax.set_xlim(0.88,1) \n",
    "# ax.set_xlim(0,1)   \n",
    "\n",
    "# ax.set_ylim(0,1)"
   ]
  },
  {
   "cell_type": "code",
   "execution_count": null,
   "id": "c9f3e383",
   "metadata": {},
   "outputs": [],
   "source": []
  },
  {
   "cell_type": "code",
   "execution_count": 8,
   "id": "ac3f82e5",
   "metadata": {},
   "outputs": [],
   "source": [
    "Total_row_num = pd_df.shape[0]\n",
    "Reduced_row_num = pd_df[(pd_df['ROE_Pi0_InvM_50MeV']<0.12) | (pd_df['ROE_Pi0_InvM_50MeV']>0.145)].shape[0]\n",
    "\n"
   ]
  },
  {
   "cell_type": "code",
   "execution_count": 9,
   "id": "24d182b1",
   "metadata": {},
   "outputs": [
    {
     "name": "stdout",
     "output_type": "stream",
     "text": [
      "171304\n",
      "158735\n"
     ]
    }
   ],
   "source": [
    "print(Total_row_num)\n",
    "print(Reduced_row_num)"
   ]
  },
  {
   "cell_type": "code",
   "execution_count": 10,
   "id": "486e02b5",
   "metadata": {},
   "outputs": [
    {
     "name": "stdout",
     "output_type": "stream",
     "text": [
      "0.9266275159949563\n"
     ]
    }
   ],
   "source": [
    "Signal_eff = Reduced_row_num/Total_row_num\n",
    "print(Signal_eff)"
   ]
  },
  {
   "cell_type": "code",
   "execution_count": 11,
   "id": "78e1f718",
   "metadata": {},
   "outputs": [],
   "source": []
  },
  {
   "cell_type": "code",
   "execution_count": 19,
   "id": "b170b3ca",
   "metadata": {},
   "outputs": [],
   "source": []
  },
  {
   "cell_type": "code",
   "execution_count": 29,
   "id": "d915eee6",
   "metadata": {},
   "outputs": [
    {
     "name": "stdout",
     "output_type": "stream",
     "text": [
      "0.9988733479661888\n",
      "0.9959603978891328\n",
      "0.9927438938962313\n",
      "0.9895565777798534\n",
      "0.9863867743893896\n",
      "0.9833570728062392\n",
      "0.9799829542801102\n",
      "0.9770700042030542\n",
      "0.974098678372951\n",
      "0.9713491804044272\n",
      "0.9684654182038949\n",
      "0.9655349554009247\n",
      "0.962511091393079\n",
      "0.9597207303974221\n",
      "0.9568019427450614\n",
      "0.9539240181198337\n",
      "0.9511161443982628\n",
      "0.9483958343062625\n",
      "0.945704712090786\n",
      "0.9429844019987857\n",
      "0.9401648531266054\n",
      "0.9373511418297296\n",
      "0.9345666184093775\n",
      "0.9320564610283473\n",
      "0.9293595012375659\n",
      "0.9266275159949563\n",
      "0.9238546677252136\n",
      "0.9212335964133938\n",
      "0.9184549105683464\n",
      "0.9158104889553075\n",
      "0.9131835800681829\n",
      "0.910603371783496\n",
      "0.9077954980619249\n",
      "0.9052561528043712\n",
      "0.9026409190678559\n",
      "0.9000723859337786\n",
      "0.8973929388689114\n",
      "0.8950345584458039\n",
      "0.8923901368327651\n",
      "0.8897457152197263\n",
      "0.8870370802783356\n",
      "0.8844451968430392\n",
      "0.881853313407743\n"
     ]
    },
    {
     "data": {
      "text/html": [
       "<div>\n",
       "<style scoped>\n",
       "    .dataframe tbody tr th:only-of-type {\n",
       "        vertical-align: middle;\n",
       "    }\n",
       "\n",
       "    .dataframe tbody tr th {\n",
       "        vertical-align: top;\n",
       "    }\n",
       "\n",
       "    .dataframe thead th {\n",
       "        text-align: right;\n",
       "    }\n",
       "</style>\n",
       "<table border=\"1\" class=\"dataframe\">\n",
       "  <thead>\n",
       "    <tr style=\"text-align: right;\">\n",
       "      <th></th>\n",
       "      <th>0</th>\n",
       "    </tr>\n",
       "  </thead>\n",
       "  <tbody>\n",
       "    <tr>\n",
       "      <th>0</th>\n",
       "      <td>0.998873</td>\n",
       "    </tr>\n",
       "    <tr>\n",
       "      <th>1</th>\n",
       "      <td>0.995960</td>\n",
       "    </tr>\n",
       "    <tr>\n",
       "      <th>2</th>\n",
       "      <td>0.992744</td>\n",
       "    </tr>\n",
       "    <tr>\n",
       "      <th>3</th>\n",
       "      <td>0.989557</td>\n",
       "    </tr>\n",
       "    <tr>\n",
       "      <th>4</th>\n",
       "      <td>0.986387</td>\n",
       "    </tr>\n",
       "    <tr>\n",
       "      <th>5</th>\n",
       "      <td>0.983357</td>\n",
       "    </tr>\n",
       "    <tr>\n",
       "      <th>6</th>\n",
       "      <td>0.979983</td>\n",
       "    </tr>\n",
       "    <tr>\n",
       "      <th>7</th>\n",
       "      <td>0.977070</td>\n",
       "    </tr>\n",
       "    <tr>\n",
       "      <th>8</th>\n",
       "      <td>0.974099</td>\n",
       "    </tr>\n",
       "    <tr>\n",
       "      <th>9</th>\n",
       "      <td>0.971349</td>\n",
       "    </tr>\n",
       "    <tr>\n",
       "      <th>10</th>\n",
       "      <td>0.968465</td>\n",
       "    </tr>\n",
       "    <tr>\n",
       "      <th>11</th>\n",
       "      <td>0.965535</td>\n",
       "    </tr>\n",
       "    <tr>\n",
       "      <th>12</th>\n",
       "      <td>0.962511</td>\n",
       "    </tr>\n",
       "    <tr>\n",
       "      <th>13</th>\n",
       "      <td>0.959721</td>\n",
       "    </tr>\n",
       "    <tr>\n",
       "      <th>14</th>\n",
       "      <td>0.956802</td>\n",
       "    </tr>\n",
       "    <tr>\n",
       "      <th>15</th>\n",
       "      <td>0.953924</td>\n",
       "    </tr>\n",
       "    <tr>\n",
       "      <th>16</th>\n",
       "      <td>0.951116</td>\n",
       "    </tr>\n",
       "    <tr>\n",
       "      <th>17</th>\n",
       "      <td>0.948396</td>\n",
       "    </tr>\n",
       "    <tr>\n",
       "      <th>18</th>\n",
       "      <td>0.945705</td>\n",
       "    </tr>\n",
       "    <tr>\n",
       "      <th>19</th>\n",
       "      <td>0.942984</td>\n",
       "    </tr>\n",
       "    <tr>\n",
       "      <th>20</th>\n",
       "      <td>0.940165</td>\n",
       "    </tr>\n",
       "    <tr>\n",
       "      <th>21</th>\n",
       "      <td>0.937351</td>\n",
       "    </tr>\n",
       "    <tr>\n",
       "      <th>22</th>\n",
       "      <td>0.934567</td>\n",
       "    </tr>\n",
       "    <tr>\n",
       "      <th>23</th>\n",
       "      <td>0.932056</td>\n",
       "    </tr>\n",
       "    <tr>\n",
       "      <th>24</th>\n",
       "      <td>0.929360</td>\n",
       "    </tr>\n",
       "    <tr>\n",
       "      <th>25</th>\n",
       "      <td>0.926628</td>\n",
       "    </tr>\n",
       "    <tr>\n",
       "      <th>26</th>\n",
       "      <td>0.923855</td>\n",
       "    </tr>\n",
       "    <tr>\n",
       "      <th>27</th>\n",
       "      <td>0.921234</td>\n",
       "    </tr>\n",
       "    <tr>\n",
       "      <th>28</th>\n",
       "      <td>0.918455</td>\n",
       "    </tr>\n",
       "    <tr>\n",
       "      <th>29</th>\n",
       "      <td>0.915810</td>\n",
       "    </tr>\n",
       "    <tr>\n",
       "      <th>30</th>\n",
       "      <td>0.913184</td>\n",
       "    </tr>\n",
       "    <tr>\n",
       "      <th>31</th>\n",
       "      <td>0.910603</td>\n",
       "    </tr>\n",
       "    <tr>\n",
       "      <th>32</th>\n",
       "      <td>0.907795</td>\n",
       "    </tr>\n",
       "    <tr>\n",
       "      <th>33</th>\n",
       "      <td>0.905256</td>\n",
       "    </tr>\n",
       "    <tr>\n",
       "      <th>34</th>\n",
       "      <td>0.902641</td>\n",
       "    </tr>\n",
       "    <tr>\n",
       "      <th>35</th>\n",
       "      <td>0.900072</td>\n",
       "    </tr>\n",
       "    <tr>\n",
       "      <th>36</th>\n",
       "      <td>0.897393</td>\n",
       "    </tr>\n",
       "    <tr>\n",
       "      <th>37</th>\n",
       "      <td>0.895035</td>\n",
       "    </tr>\n",
       "    <tr>\n",
       "      <th>38</th>\n",
       "      <td>0.892390</td>\n",
       "    </tr>\n",
       "    <tr>\n",
       "      <th>39</th>\n",
       "      <td>0.889746</td>\n",
       "    </tr>\n",
       "    <tr>\n",
       "      <th>40</th>\n",
       "      <td>0.887037</td>\n",
       "    </tr>\n",
       "    <tr>\n",
       "      <th>41</th>\n",
       "      <td>0.884445</td>\n",
       "    </tr>\n",
       "    <tr>\n",
       "      <th>42</th>\n",
       "      <td>0.881853</td>\n",
       "    </tr>\n",
       "  </tbody>\n",
       "</table>\n",
       "</div>"
      ],
      "text/plain": [
       "           0\n",
       "0   0.998873\n",
       "1   0.995960\n",
       "2   0.992744\n",
       "3   0.989557\n",
       "4   0.986387\n",
       "5   0.983357\n",
       "6   0.979983\n",
       "7   0.977070\n",
       "8   0.974099\n",
       "9   0.971349\n",
       "10  0.968465\n",
       "11  0.965535\n",
       "12  0.962511\n",
       "13  0.959721\n",
       "14  0.956802\n",
       "15  0.953924\n",
       "16  0.951116\n",
       "17  0.948396\n",
       "18  0.945705\n",
       "19  0.942984\n",
       "20  0.940165\n",
       "21  0.937351\n",
       "22  0.934567\n",
       "23  0.932056\n",
       "24  0.929360\n",
       "25  0.926628\n",
       "26  0.923855\n",
       "27  0.921234\n",
       "28  0.918455\n",
       "29  0.915810\n",
       "30  0.913184\n",
       "31  0.910603\n",
       "32  0.907795\n",
       "33  0.905256\n",
       "34  0.902641\n",
       "35  0.900072\n",
       "36  0.897393\n",
       "37  0.895035\n",
       "38  0.892390\n",
       "39  0.889746\n",
       "40  0.887037\n",
       "41  0.884445\n",
       "42  0.881853"
      ]
     },
     "execution_count": 29,
     "metadata": {},
     "output_type": "execute_result"
    }
   ],
   "source": [
    "\n",
    "        \n",
    "df = pd.DataFrame(eff_list)\n",
    "df      "
   ]
  },
  {
   "cell_type": "code",
   "execution_count": 30,
   "id": "540d5126",
   "metadata": {},
   "outputs": [
    {
     "data": {
      "text/plain": [
       "(array([1., 0., 1., 0., 1., 0., 1., 0., 0., 1., 0., 1., 0., 1., 0., 1., 0.,\n",
       "        1., 0., 1., 0., 0., 1., 0., 1., 0., 1., 0., 0., 1., 0., 1., 0., 1.,\n",
       "        0., 1., 0., 0., 1., 0., 1., 0., 1., 0., 0., 1., 0., 1., 0., 1., 0.,\n",
       "        0., 1., 0., 1., 0., 1., 0., 0., 1., 0., 1., 0., 0., 1., 0., 1., 0.,\n",
       "        1., 0., 0., 1., 0., 0., 1., 0., 1., 0., 1., 0., 0., 1., 0., 1., 0.,\n",
       "        0., 1., 0., 0., 1., 0., 0., 1., 0., 1., 0., 0., 1., 0., 1.]),\n",
       " array([0.88185331, 0.88302351, 0.88419371, 0.88536391, 0.88653411,\n",
       "        0.88770432, 0.88887452, 0.89004472, 0.89121492, 0.89238512,\n",
       "        0.89355532, 0.89472552, 0.89589572, 0.89706592, 0.89823612,\n",
       "        0.89940632, 0.90057652, 0.90174672, 0.90291692, 0.90408712,\n",
       "        0.90525732, 0.90642752, 0.90759772, 0.90876792, 0.90993812,\n",
       "        0.91110832, 0.91227852, 0.91344872, 0.91461892, 0.91578912,\n",
       "        0.91695932, 0.91812952, 0.91929972, 0.92046992, 0.92164013,\n",
       "        0.92281033, 0.92398053, 0.92515073, 0.92632093, 0.92749113,\n",
       "        0.92866133, 0.92983153, 0.93100173, 0.93217193, 0.93334213,\n",
       "        0.93451233, 0.93568253, 0.93685273, 0.93802293, 0.93919313,\n",
       "        0.94036333, 0.94153353, 0.94270373, 0.94387393, 0.94504413,\n",
       "        0.94621433, 0.94738453, 0.94855473, 0.94972493, 0.95089513,\n",
       "        0.95206533, 0.95323553, 0.95440573, 0.95557594, 0.95674614,\n",
       "        0.95791634, 0.95908654, 0.96025674, 0.96142694, 0.96259714,\n",
       "        0.96376734, 0.96493754, 0.96610774, 0.96727794, 0.96844814,\n",
       "        0.96961834, 0.97078854, 0.97195874, 0.97312894, 0.97429914,\n",
       "        0.97546934, 0.97663954, 0.97780974, 0.97897994, 0.98015014,\n",
       "        0.98132034, 0.98249054, 0.98366074, 0.98483094, 0.98600114,\n",
       "        0.98717134, 0.98834154, 0.98951175, 0.99068195, 0.99185215,\n",
       "        0.99302235, 0.99419255, 0.99536275, 0.99653295, 0.99770315,\n",
       "        0.99887335]),\n",
       " [<matplotlib.patches.Polygon at 0x7f7efbb14eb0>])"
      ]
     },
     "execution_count": 30,
     "metadata": {},
     "output_type": "execute_result"
    },
    {
     "data": {
      "image/png": "[encoded data removed]",
      "text/plain": [
       "<Figure size 576x396 with 1 Axes>"
      ]
     },
     "metadata": {},
     "output_type": "display_data"
    }
   ],
   "source": [
    "plt.hist(df, label=r'$E_{\\gamma_{roe}}>50\\mathrm{MeV}$',bins=100,histtype='step')\n"
   ]
  },
  {
   "cell_type": "code",
   "execution_count": null,
   "id": "33e86901",
   "metadata": {},
   "outputs": [],
   "source": []
  },
  {
   "cell_type": "code",
   "execution_count": 29,
   "id": "d5600aaa",
   "metadata": {},
   "outputs": [
    {
     "data": {
      "text/plain": [
       "<matplotlib.legend.Legend at 0x7f62b06bc250>"
      ]
     },
     "execution_count": 29,
     "metadata": {},
     "output_type": "execute_result"
    },
    {
     "data": {
      "image/png": "[encoded data removed]",
      "text/plain": [
       "<Figure size 576x396 with 1 Axes>"
      ]
     },
     "metadata": {},
     "output_type": "display_data"
    }
   ],
   "source": [
    "#plt.hist(pd_df[(pd_df['ROE_Pi0_InvM_50MeV']<0.16) & (pd_df['ROE_Pi0_InvM_50MeV']>0.1) ].ROE_Pi0_InvM_50MeV, label=r'$E_{\\gamma_{roe}}>50\\mathrm{MeV}$',bins=100,histtype='step')\n",
    "plt.hist(pd_df[(pd_df['ROE_Pi0_InvM_50MeV']<0.12) | (pd_df['ROE_Pi0_InvM_50MeV']>0.137)].ROE_Pi0_InvM_50MeV, label=r'$E_{\\gamma_{roe}}>50\\mathrm{MeV}$',bins=100,histtype='step')\n",
    "\n",
    "\n",
    "xlabel = r'$M(\\gamma_h \\gamma_{roe}) \\; [\\mathrm{GeV}]$'\n",
    "ax = plt.gca()\n",
    "#ax.set_xlim(0.10,0.16)\n",
    "ax.set_xlabel(xlabel)\n",
    "#plt.title(plot_title)\n",
    "\n",
    "plt.legend(loc='upper left')"
   ]
  },
  {
   "cell_type": "code",
   "execution_count": null,
   "id": "3b1f9ccb",
   "metadata": {},
   "outputs": [],
   "source": [
    "plt.hist(pd_df[(pd_df['ROE_Pi0_InvM_50MeV']<0.16) & (pd_df['ROE_Pi0_InvM_50MeV']>0.1) ].ROE_Pi0_InvM_50MeV, label=r'$E_{\\gamma_{roe}}>50\\mathrm{MeV}$',bins=100,histtype='step')\n",
    "xlabel = r'$M(\\gamma_h \\gamma_{roe}) \\; [\\mathrm{GeV}]$'\n",
    "ax = plt.gca()\n",
    "ax.set_xlim(0.10,0.16)\n",
    "ax.set_xlabel(xlabel)\n",
    "#plt.title(plot_title)\n",
    "\n",
    "plt.legend(loc='upper left')"
   ]
  }
 ],
 "metadata": {
  "kernelspec": {
   "display_name": "Python 3 (ipykernel)",
   "language": "python",
   "name": "python3"
  },
  "language_info": {
   "codemirror_mode": {
    "name": "ipython",
    "version": 3
   },
   "file_extension": ".py",
   "mimetype": "text/x-python",
   "name": "python",
   "nbconvert_exporter": "python",
   "pygments_lexer": "ipython3",
   "version": "3.10.5"
  }
 },
 "nbformat": 4,
 "nbformat_minor": 5
}
