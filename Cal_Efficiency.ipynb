{
 "cells": [
  {
   "cell_type": "code",
   "execution_count": 1,
   "id": "bf100af6",
   "metadata": {},
   "outputs": [
    {
     "name": "stdout",
     "output_type": "stream",
     "text": [
      "Welcome to JupyROOT 6.26/04\n"
     ]
    }
   ],
   "source": [
    "%matplotlib inline\n",
    "%load_ext autoreload\n",
    "%autoreload 2\n",
    "import seaborn as sns\n",
    "import matplotlib.pyplot as plt\n",
    "import ROOT\n",
    "try:\n",
    "    #plt.style.use('belle2')\n",
    "    #plt.style.use('belle2_serif')\n",
    "    plt.style.use('belle2_modern')\n",
    "except OSError:\n",
    "    print(\"Please install belle2 matplotlib style\")   \n",
    "\n",
    "px = 1/plt.rcParams['figure.dpi']"
   ]
  },
  {
   "cell_type": "code",
   "execution_count": 2,
   "id": "29fe8c14",
   "metadata": {},
   "outputs": [
    {
     "name": "stdout",
     "output_type": "stream",
     "text": [
      "For optimal usage set `plt.style.use('belle2')`\n",
      "['Solarize_Light2', '_classic_test_patch', '_mpl-gallery', '_mpl-gallery-nogrid', 'belle2', 'belle2_modern', 'belle2_serif', 'belle2_wg1', 'bmh', 'classic', 'dark_background', 'fast', 'fivethirtyeight', 'ggplot', 'grayscale', 'seaborn', 'seaborn-bright', 'seaborn-colorblind', 'seaborn-dark', 'seaborn-dark-palette', 'seaborn-darkgrid', 'seaborn-deep', 'seaborn-muted', 'seaborn-notebook', 'seaborn-paper', 'seaborn-pastel', 'seaborn-poster', 'seaborn-talk', 'seaborn-ticks', 'seaborn-white', 'seaborn-whitegrid', 'tableau-colorblind10']\n",
      "/home/jykim/workspace/DRAW/read_yaml_to_dict.py\n",
      "/home/jykim/workspace/DRAW\n",
      "{'Vegetables': ['Pepper', 'Tomato', 'Garlic']}\n",
      "/home/jykim/workspace/DRAW\n"
     ]
    }
   ],
   "source": [
    "import os\n",
    "import pandas as pd\n",
    "import numpy as np\n",
    "from pandas import HDFStore\n",
    "from os import path\n",
    "from yaml import safe_load\n",
    "\n",
    "from hist.get_data import get_data\n",
    "from hist.bkg_stack import generic_ntuple, get_data_in_module\n",
    "from read_yaml_to_dict import read_yaml_to_dict\n",
    "from src.sample_name import sample_name\n",
    "from src.combine_cuts import combine_cuts\n",
    "print(os.getcwd())"
   ]
  },
  {
   "cell_type": "code",
   "execution_count": 3,
   "id": "3194e4cd",
   "metadata": {},
   "outputs": [],
   "source": [
    "def get_data(file='file', figname='name', tree='tree', base_filter=None,variables=None):\n",
    "    \n",
    "    tree=tree\n",
    "    f = file\n",
    "    base_filter  = base_filter    \n",
    "    \n",
    "    ROOT_df_start = ROOT.RDataFrame(tree, f)  \n",
    "    \n",
    "    col_dict  = ROOT_df_start.AsNumpy(variables)\n",
    "    \n",
    "    if base_filter !=None:\n",
    "        ROOT_df_filtered  = ROOT_df_start.Filter(base_filter)                            \n",
    "        col_dict  = ROOT_df_filtered.AsNumpy(variables)\n",
    "    \n",
    "    pd_df  = pd.DataFrame(col_dict)\n",
    "    \n",
    "    return pd_df"
   ]
  },
  {
   "cell_type": "code",
   "execution_count": 126,
   "id": "7bca9fbd",
   "metadata": {},
   "outputs": [],
   "source": [
    "file='/media/jykim/ssd_T5/storage/01_recon/antiKstar/massveto_signalMC_recon_mdst_antiKstar.root'\n",
    "bkg_file = '/media/jykim/ssd_T5/storage/hdf_files/massveto_antiKstar.h5'"
   ]
  },
  {
   "cell_type": "code",
   "execution_count": 127,
   "id": "7600fb6d",
   "metadata": {},
   "outputs": [],
   "source": [
    "base_filter = 'Dstarp_isSignal==1'\n",
    "\n",
    "tree = 'antiKstar'\n",
    "\n",
    "variables=['ROE_Pi0_InvM','ROE_Pi0_InvM_50MeV','ROE_Pi0_InvM_75MeV','ROE_Pi0_InvM_100MeV','ROE_Pi0_InvM_125MeV','ROE_Pi0_InvM_150MeV']\n",
    "variables+= ['ROE_Eta_InvM','ROE_Eta_InvM_50MeV','ROE_Eta_InvM_75MeV','ROE_Eta_InvM_100MeV','ROE_Eta_InvM_125MeV','ROE_Eta_InvM_150MeV','ROE_Eta_InvM_175MeV','ROE_Eta_InvM_200MeV']\n",
    "\n",
    "#pd_df = get_data(file=file, tree=tree,variables=variables ,base_filter=base_filter)"
   ]
  },
  {
   "cell_type": "code",
   "execution_count": 128,
   "id": "d2600837",
   "metadata": {},
   "outputs": [],
   "source": [
    "pd_df_signal = get_data(file=file, tree=tree,variables=variables ,base_filter=base_filter)\n",
    "\n",
    "pd_df_bkg = pd.read_hdf(bkg_file, key='jykim')\n",
    "cols = ['Pi0_soft_genMotherPDG_50MeV','Pi0_soft_genMotherPDG_75MeV','gamma_genMotherPDG','Pi0_soft_genMotherID_50MeV','gamma_genMotherID']\n",
    "pd_df_bkg[cols]=pd_df_bkg[cols].fillna(0.0).astype(int)\n",
    "Pi0_bkg_cuts = 'gamma_genMotherPDG==111'\n",
    "#Pi0_bkg_cuts = 'gamma_E>0.1'\n",
    "Pi0_selected_pd_df_bkg = pd_df_bkg.query(Pi0_bkg_cuts)\n"
   ]
  },
  {
   "cell_type": "code",
   "execution_count": 129,
   "id": "0f7f869d",
   "metadata": {},
   "outputs": [],
   "source": [
    "def eff(Total_row_num=None, Reduced_row_num=None):\n",
    "    eff = Reduced_row_num/Total_row_num\n",
    "    return eff\n",
    "\n",
    "def Bkg_rej(Total_row_num=None, Reduced_row_num=None):\n",
    "    rejection = (Total_row_num - Reduced_row_num)/Total_row_num\n",
    "\n",
    "    return rejection"
   ]
  },
  {
   "cell_type": "code",
   "execution_count": 147,
   "id": "65ff5b6c",
   "metadata": {},
   "outputs": [],
   "source": [
    "nominal_pi0_mass = 0.1325\n",
    "#nominal_pi0_mass = 0.13498"
   ]
  },
  {
   "cell_type": "code",
   "execution_count": 148,
   "id": "f85468d3",
   "metadata": {},
   "outputs": [
    {
     "name": "stdout",
     "output_type": "stream",
     "text": [
      "{'sig_eff': [], 'bkg_rej': []}\n"
     ]
    }
   ],
   "source": [
    "step = 0.0005\n",
    "sig_Total_row_num = pd_df.shape[0]\n",
    "Pi0_bkg_Total_row_num = Pi0_selected_pd_df_bkg.shape[0]\n",
    "width_mass = 0.0\n",
    "\n",
    "data_dict = dict.fromkeys(['sig_eff', 'bkg_rej'])\n",
    "data_dict['sig_eff']=list()\n",
    "data_dict['bkg_rej']=list()\n",
    "print(data_dict)\n",
    "# sig_eff_list = list()\n",
    "# bkg_rej_list = list()\n",
    "for i in range(100):\n",
    "    if width_mass < 0.021:\n",
    "        width_mass     = 0 + i * step\n",
    "        min_mass_bound = nominal_pi0_mass - width_mass  \n",
    "        max_mass_bound = nominal_pi0_mass + width_mass\n",
    "        #print(width_mass)\n",
    "        sig_Reduced_row_num = pd_df_signal[(pd_df_signal['ROE_Pi0_InvM_50MeV']<min_mass_bound) | (pd_df_signal['ROE_Pi0_InvM_50MeV']>max_mass_bound)].shape[0]\n",
    "        data_dict['sig_eff'].append(eff(sig_Total_row_num, sig_Reduced_row_num ))\n",
    "        #sig_eff_list.append(eff(sig_Total_row_num, sig_Reduced_row_num ))\n",
    "        \n",
    "        Pi0_bkg_Reduced_row_num = Pi0_selected_pd_df_bkg[(Pi0_selected_pd_df_bkg['ROE_Pi0_InvM_50MeV']<min_mass_bound) | (Pi0_selected_pd_df_bkg['ROE_Pi0_InvM_50MeV']>max_mass_bound)].shape[0]\n",
    "        data_dict['bkg_rej'].append(Bkg_rej(Pi0_bkg_Total_row_num, Pi0_bkg_Reduced_row_num))\n",
    "        \n",
    "        #bkg_rej_list.append(Bkg_rej(Pi0_bkg_Total_row_num, Pi0_bkg_Reduced_row_num))        \n",
    "        \n",
    "        \n"
   ]
  },
  {
   "cell_type": "code",
   "execution_count": 149,
   "id": "d917ec67",
   "metadata": {},
   "outputs": [],
   "source": [
    "df_50MeV = pd.DataFrame(data_dict)"
   ]
  },
  {
   "cell_type": "code",
   "execution_count": 150,
   "id": "b2342f3b",
   "metadata": {},
   "outputs": [
    {
     "name": "stdout",
     "output_type": "stream",
     "text": [
      "{'sig_eff': [], 'bkg_rej': []}\n"
     ]
    }
   ],
   "source": [
    "step = 0.0005\n",
    "sig_Total_row_num = pd_df.shape[0]\n",
    "Pi0_bkg_Total_row_num = Pi0_selected_pd_df_bkg.shape[0]\n",
    "width_mass = 0.0\n",
    "\n",
    "data_dict = dict.fromkeys(['sig_eff', 'bkg_rej'])\n",
    "data_dict['sig_eff']=list()\n",
    "data_dict['bkg_rej']=list()\n",
    "print(data_dict)\n",
    "# sig_eff_list = list()\n",
    "# bkg_rej_list = list()\n",
    "for i in range(100):\n",
    "    if width_mass < 0.033:\n",
    "        width_mass     = 0 + i * step\n",
    "        min_mass_bound = nominal_pi0_mass - width_mass  \n",
    "        max_mass_bound = nominal_pi0_mass + width_mass\n",
    "        #print(width_mass)\n",
    "        sig_Reduced_row_num = pd_df_signal[(pd_df_signal['ROE_Pi0_InvM_75MeV']<min_mass_bound) | (pd_df_signal['ROE_Pi0_InvM_75MeV']>max_mass_bound)].shape[0]\n",
    "        data_dict['sig_eff'].append(eff(sig_Total_row_num, sig_Reduced_row_num ))\n",
    "        #sig_eff_list.append(eff(sig_Total_row_num, sig_Reduced_row_num ))\n",
    "        \n",
    "        Pi0_bkg_Reduced_row_num = Pi0_selected_pd_df_bkg[(Pi0_selected_pd_df_bkg['ROE_Pi0_InvM_75MeV']<min_mass_bound) | (Pi0_selected_pd_df_bkg['ROE_Pi0_InvM_75MeV']>max_mass_bound)].shape[0]\n",
    "        data_dict['bkg_rej'].append(Bkg_rej(Pi0_bkg_Total_row_num, Pi0_bkg_Reduced_row_num))\n",
    "        \n",
    "        #bkg_rej_list.append(Bkg_rej(Pi0_bkg_Total_row_num, Pi0_bkg_Reduced_row_num))   "
   ]
  },
  {
   "cell_type": "code",
   "execution_count": 151,
   "id": "2ed3145d",
   "metadata": {},
   "outputs": [],
   "source": [
    "df_75MeV = pd.DataFrame(data_dict)\n",
    "#Y = pd.DataFrame(bkg_rej_list)\n",
    "\n"
   ]
  },
  {
   "cell_type": "code",
   "execution_count": 152,
   "id": "0a488509",
   "metadata": {},
   "outputs": [
    {
     "name": "stdout",
     "output_type": "stream",
     "text": [
      "{'sig_eff': [], 'bkg_rej': []}\n"
     ]
    }
   ],
   "source": [
    "step = 0.0010\n",
    "sig_Total_row_num = pd_df.shape[0]\n",
    "Pi0_bkg_Total_row_num = Pi0_selected_pd_df_bkg.shape[0]\n",
    "width_mass = 0.0\n",
    "\n",
    "data_dict = dict.fromkeys(['sig_eff', 'bkg_rej'])\n",
    "data_dict['sig_eff']=list()\n",
    "data_dict['bkg_rej']=list()\n",
    "print(data_dict)\n",
    "# sig_eff_list = list()\n",
    "# bkg_rej_list = list()\n",
    "for i in range(100):\n",
    "    if width_mass < 0.065:\n",
    "        width_mass     = 0 + i * step\n",
    "        min_mass_bound = nominal_pi0_mass - width_mass  \n",
    "        max_mass_bound = nominal_pi0_mass + width_mass\n",
    "        #print(width_mass)\n",
    "        sig_Reduced_row_num = pd_df_signal[(pd_df_signal['ROE_Pi0_InvM_125MeV']<min_mass_bound) | (pd_df_signal['ROE_Pi0_InvM_125MeV']>max_mass_bound)].shape[0]\n",
    "        data_dict['sig_eff'].append(eff(sig_Total_row_num, sig_Reduced_row_num ))\n",
    "        #sig_eff_list.append(eff(sig_Total_row_num, sig_Reduced_row_num ))\n",
    "        \n",
    "        Pi0_bkg_Reduced_row_num = Pi0_selected_pd_df_bkg[(Pi0_selected_pd_df_bkg['ROE_Pi0_InvM_125MeV']<min_mass_bound) | (Pi0_selected_pd_df_bkg['ROE_Pi0_InvM_125MeV']>max_mass_bound)].shape[0]\n",
    "        data_dict['bkg_rej'].append(Bkg_rej(Pi0_bkg_Total_row_num, Pi0_bkg_Reduced_row_num))\n",
    "        \n",
    "        #bkg_rej_list.append(Bkg_rej(Pi0_bkg_Total_row_num, Pi0_bkg_Reduced_row_num))   "
   ]
  },
  {
   "cell_type": "code",
   "execution_count": 153,
   "id": "51c402c7",
   "metadata": {},
   "outputs": [],
   "source": [
    "df_125MeV = pd.DataFrame(data_dict)"
   ]
  },
  {
   "cell_type": "code",
   "execution_count": 154,
   "id": "5170e83d",
   "metadata": {},
   "outputs": [
    {
     "data": {
      "text/plain": [
       "(0.0, 1.0)"
      ]
     },
     "execution_count": 154,
     "metadata": {},
     "output_type": "execute_result"
    },
    {
     "data": {
      "image/png": "[encoded data removed]",
      "text/plain": [
       "<Figure size 576x396 with 1 Axes>"
      ]
     },
     "metadata": {},
     "output_type": "display_data"
    }
   ],
   "source": [
    "plt.scatter(df_50MeV.sig_eff, df_50MeV.bkg_rej)\n",
    "plt.scatter(df_75MeV.sig_eff, df_75MeV.bkg_rej)\n",
    "plt.scatter(df_125MeV.sig_eff, df_125MeV.bkg_rej)\n",
    "\n",
    "ax = plt.gca()\n",
    "ax.set_xlim(0.88,1)   \n",
    "ax.set_ylim(0,1)"
   ]
  },
  {
   "cell_type": "code",
   "execution_count": 155,
   "id": "a2541def",
   "metadata": {},
   "outputs": [],
   "source": [
    "# plt.scatter(df_50MeV.sig_eff, df_50MeV.bkg_rej)\n",
    "# plt.scatter(df_75MeV.sig_eff, df_75MeV.bkg_rej)\n",
    "# plt.scatter(df_125MeV.sig_eff, df_125MeV.bkg_rej)\n",
    "\n",
    "# ax = plt.gca()\n",
    "# ax.set_xlim(0.88,1)   \n",
    "# ax.set_ylim(0,1)"
   ]
  },
  {
   "cell_type": "code",
   "execution_count": 90,
   "id": "fc369680",
   "metadata": {},
   "outputs": [],
   "source": [
    "        \n",
    "# df = pd.DataFrame(data_dict)\n",
    "# #Y = pd.DataFrame(bkg_rej_list)\n",
    "for i in range(100):\n",
    "    if width_mass < 0.033:\n",
    "        width_mass     = 0 + i * step\n",
    "        min_mass_bound = nominal_pi0_mass - width_mass  \n",
    "        max_mass_bound = nominal_pi0_mass + width_mass\n",
    "        #print(width_mass)\n",
    "        sig_Reduced_row_num = pd_df_signal[(pd_df_signal['ROE_Pi0_InvM_75MeV']<min_mass_bound) | (pd_df_signal['ROE_Pi0_InvM_75MeV']>max_mass_bound)].shape[0]\n",
    "        data_dict['sig_eff'].append(eff(sig_Total_row_num, sig_Reduced_row_num ))\n",
    "        #sig_eff_list.append(eff(sig_Total_row_num, sig_Reduced_row_num ))\n",
    "        \n",
    "        Pi0_bkg_Reduced_row_num = Pi0_selected_pd_df_bkg[(Pi0_selected_pd_df_bkg['ROE_Pi0_InvM_75MeV']<min_mass_bound) | (Pi0_selected_pd_df_bkg['ROE_Pi0_InvM_75MeV']>max_mass_bound)].shape[0]\n",
    "        data_dict['bkg_rej'].append(Bkg_rej(Pi0_bkg_Total_row_num, Pi0_bkg_Reduced_row_num))\n",
    "# plt.scatter(df.sig_eff, df.bkg_rej)"
   ]
  },
  {
   "cell_type": "code",
   "execution_count": 159,
   "id": "f35f7171",
   "metadata": {},
   "outputs": [],
   "source": [
    "file = '/media/jykim/ssd_T5/storage/01_recon/merge_generic_bkg/ccbar/train_v1_1_no_signal_ccbar_recon_output_0*.root'\n",
    "tree = 'antiKstar'\n",
    "variables=['Pi0_Prob','D0_M','Eta_Prob']\n",
    "\n",
    "base_filter = 'gamma_genMotherPDG==111'\n",
    "\n",
    "ccbar_df = get_data(file=file, tree=tree,variables=variables ,base_filter=base_filter)\n",
    "\n",
    "file = file.replace('ccbar','mixed')\n",
    "mixed_df = get_data(file=file, tree=tree,variables=variables ,base_filter=base_filter)\n",
    "\n",
    "file = file.replace('mixed','ddbar')\n",
    "ddbar_df = get_data(file=file, tree=tree,variables=variables ,base_filter=base_filter)\n",
    "\n",
    "file = file.replace('ddbar','ssbar')\n",
    "ssbar_df = get_data(file=file, tree=tree,variables=variables ,base_filter=base_filter)\n",
    "\n",
    "file = file.replace('ssbar','taupair')\n",
    "taupair_df = get_data(file=file, tree=tree,variables=variables ,base_filter=base_filter)\n",
    "\n",
    "file = file.replace('taupair','uubar')\n",
    "uubar_df = get_data(file=file, tree=tree,variables=variables ,base_filter=base_filter)\n",
    "\n",
    "file = file.replace('uubar','charged')\n",
    "charged_df = get_data(file=file, tree=tree,variables=variables, base_filter=base_filter)\n"
   ]
  },
  {
   "cell_type": "code",
   "execution_count": 160,
   "id": "0e152e27",
   "metadata": {},
   "outputs": [],
   "source": [
    "merged_pd_df = pd.concat([ccbar_df, mixed_df, ddbar_df, ssbar_df, taupair_df, uubar_df, charged_df], ignore_index=True)\n",
    "#base_filter = '(D0_M>1.665 && D0_M<2.065) && (gamma_E>0.55)  && ( abs(Rho_M- 0.77526) < 0.150 ) &&  Dstarp_CMS_p>2.72 && abs(Dstarp_Q-0.00593)<0.0006'\n",
    "\n",
    "\n"
   ]
  },
  {
   "cell_type": "code",
   "execution_count": 161,
   "id": "ba70bf65",
   "metadata": {},
   "outputs": [
    {
     "data": {
      "text/html": [
       "<div>\n",
       "<style scoped>\n",
       "    .dataframe tbody tr th:only-of-type {\n",
       "        vertical-align: middle;\n",
       "    }\n",
       "\n",
       "    .dataframe tbody tr th {\n",
       "        vertical-align: top;\n",
       "    }\n",
       "\n",
       "    .dataframe thead th {\n",
       "        text-align: right;\n",
       "    }\n",
       "</style>\n",
       "<table border=\"1\" class=\"dataframe\">\n",
       "  <thead>\n",
       "    <tr style=\"text-align: right;\">\n",
       "      <th></th>\n",
       "      <th>Pi0_Prob</th>\n",
       "      <th>D0_M</th>\n",
       "      <th>Eta_Prob</th>\n",
       "    </tr>\n",
       "  </thead>\n",
       "  <tbody>\n",
       "    <tr>\n",
       "      <th>count</th>\n",
       "      <td>4.055501e+06</td>\n",
       "      <td>4.055508e+06</td>\n",
       "      <td>4.055362e+06</td>\n",
       "    </tr>\n",
       "    <tr>\n",
       "      <th>mean</th>\n",
       "      <td>8.720001e-01</td>\n",
       "      <td>1.818877e+00</td>\n",
       "      <td>6.078935e-01</td>\n",
       "    </tr>\n",
       "    <tr>\n",
       "      <th>std</th>\n",
       "      <td>2.453555e-01</td>\n",
       "      <td>1.064102e-01</td>\n",
       "      <td>3.068324e-01</td>\n",
       "    </tr>\n",
       "    <tr>\n",
       "      <th>min</th>\n",
       "      <td>7.430211e-05</td>\n",
       "      <td>9.644316e-01</td>\n",
       "      <td>1.302069e-04</td>\n",
       "    </tr>\n",
       "    <tr>\n",
       "      <th>25%</th>\n",
       "      <td>9.155878e-01</td>\n",
       "      <td>1.732852e+00</td>\n",
       "      <td>3.464978e-01</td>\n",
       "    </tr>\n",
       "    <tr>\n",
       "      <th>50%</th>\n",
       "      <td>9.790983e-01</td>\n",
       "      <td>1.799872e+00</td>\n",
       "      <td>6.655193e-01</td>\n",
       "    </tr>\n",
       "    <tr>\n",
       "      <th>75%</th>\n",
       "      <td>9.931806e-01</td>\n",
       "      <td>1.887329e+00</td>\n",
       "      <td>8.969604e-01</td>\n",
       "    </tr>\n",
       "    <tr>\n",
       "      <th>max</th>\n",
       "      <td>9.993101e-01</td>\n",
       "      <td>3.812553e+00</td>\n",
       "      <td>9.998796e-01</td>\n",
       "    </tr>\n",
       "  </tbody>\n",
       "</table>\n",
       "</div>"
      ],
      "text/plain": [
       "           Pi0_Prob          D0_M      Eta_Prob\n",
       "count  4.055501e+06  4.055508e+06  4.055362e+06\n",
       "mean   8.720001e-01  1.818877e+00  6.078935e-01\n",
       "std    2.453555e-01  1.064102e-01  3.068324e-01\n",
       "min    7.430211e-05  9.644316e-01  1.302069e-04\n",
       "25%    9.155878e-01  1.732852e+00  3.464978e-01\n",
       "50%    9.790983e-01  1.799872e+00  6.655193e-01\n",
       "75%    9.931806e-01  1.887329e+00  8.969604e-01\n",
       "max    9.993101e-01  3.812553e+00  9.998796e-01"
      ]
     },
     "execution_count": 161,
     "metadata": {},
     "output_type": "execute_result"
    }
   ],
   "source": [
    "merged_pd_df.describe()"
   ]
  },
  {
   "cell_type": "code",
   "execution_count": 204,
   "id": "887c0c87",
   "metadata": {},
   "outputs": [],
   "source": [
    "step = 0.02\n",
    "sig_Total_row_num = pd_df.shape[0]\n",
    "Pi0_bkg_Total_row_num = merged_pd_df.shape[0]\n",
    "\n",
    "\n",
    "# data_dict = dict.fromkeys(['sig_eff', 'bkg_rej','Pi0_Prob_cut'])\n",
    "# data_dict['sig_eff']=list()\n",
    "\n",
    "\n",
    "data_dict = dict.fromkeys(['bkg_rej','Pi0_Prob_cut'])\n",
    "#data_dict['sig_eff']=list()\n",
    "data_dict['bkg_rej']=list()\n",
    "data_dict['Pi0_Prob_cut']=list()\n",
    "\n",
    "for i in range(50):\n",
    "    Pi0_prob_cut     = 0 + i * step\n",
    "\n",
    "#     sig_Reduced_row_num = pd_df_signal[(pd_df_signal['ROE_Pi0_InvM_75MeV']<min_mass_bound) | (pd_df_signal['ROE_Pi0_InvM_75MeV']>max_mass_bound)].shape[0]\n",
    "#     data_dict['sig_eff'].append(eff(sig_Total_row_num, sig_Reduced_row_num ))\n",
    "\n",
    "\n",
    "    Pi0_bkg_Reduced_row_num = merged_pd_df[merged_pd_df['Pi0_Prob']<Pi0_prob_cut].shape[0]\n",
    "    data_dict['bkg_rej'].append(Bkg_rej(Pi0_bkg_Total_row_num, Pi0_bkg_Reduced_row_num))\n",
    "    data_dict['Pi0_Prob_cut'].append(Pi0_prob_cut)"
   ]
  },
  {
   "cell_type": "code",
   "execution_count": 205,
   "id": "a349b16a",
   "metadata": {},
   "outputs": [
    {
     "name": "stdout",
     "output_type": "stream",
     "text": [
      "{'bkg_rej': [1.0, 0.9815103311348418, 0.9754770549090275, 0.9708712200789642, 0.9666335265520374, 0.962427641617277, 0.9588044210491016, 0.955471916218634, 0.9522908104237496, 0.9492026646230263, 0.946145341101534, 0.9432625949696067, 0.9403574102183992, 0.9376586114489233, 0.9348814008010834, 0.9321828486098412, 0.9293267329271697, 0.926529549442388, 0.9236221454870759, 0.9202681883502634, 0.9173159071563908, 0.9144368596979713, 0.9111137248403899, 0.9080287845567065, 0.904709348372633, 0.901114730879584, 0.8976643616533366, 0.8941077172083004, 0.8904117560611395, 0.8863082010934266, 0.8823005650586807, 0.8780599125929477, 0.8738582194881628, 0.8692570696445426, 0.8644894794930746, 0.8594230365221817, 0.8540523160107193, 0.8481985487391469, 0.8420368052534972, 0.8355998804588722, 0.8281813277152948, 0.8200738353863437, 0.8103169812511775, 0.7986910641034366, 0.7847470649792825, 0.7670550767006254, 0.7441486985107661, 0.7095508133629622, 0.6473904132355306, 0.4874730859857754], 'Pi0_Prob_cut': [0.0, 0.02, 0.04, 0.06, 0.08, 0.1, 0.12, 0.14, 0.16, 0.18, 0.2, 0.22, 0.24, 0.26, 0.28, 0.3, 0.32, 0.34, 0.36, 0.38, 0.4, 0.42, 0.44, 0.46, 0.48, 0.5, 0.52, 0.54, 0.56, 0.58, 0.6, 0.62, 0.64, 0.66, 0.68, 0.7000000000000001, 0.72, 0.74, 0.76, 0.78, 0.8, 0.8200000000000001, 0.84, 0.86, 0.88, 0.9, 0.92, 0.9400000000000001, 0.96, 0.98]}\n"
     ]
    }
   ],
   "source": [
    "print(data_dict)"
   ]
  },
  {
   "cell_type": "code",
   "execution_count": 206,
   "id": "dccfc814",
   "metadata": {},
   "outputs": [
    {
     "data": {
      "text/plain": [
       "<matplotlib.collections.PathCollection at 0x7f7ecb9ebd00>"
      ]
     },
     "execution_count": 206,
     "metadata": {},
     "output_type": "execute_result"
    },
    {
     "data": {
      "image/png": "[encoded data removed]",
      "text/plain": [
       "<Figure size 576x396 with 1 Axes>"
      ]
     },
     "metadata": {},
     "output_type": "display_data"
    }
   ],
   "source": [
    "df = pd.DataFrame(data_dict)\n",
    "plt.scatter(df.Pi0_Prob_cut, df.bkg_rej)"
   ]
  },
  {
   "cell_type": "code",
   "execution_count": 174,
   "id": "b12146b6",
   "metadata": {},
   "outputs": [
    {
     "data": {
      "text/html": [
       "<div>\n",
       "<style scoped>\n",
       "    .dataframe tbody tr th:only-of-type {\n",
       "        vertical-align: middle;\n",
       "    }\n",
       "\n",
       "    .dataframe tbody tr th {\n",
       "        vertical-align: top;\n",
       "    }\n",
       "\n",
       "    .dataframe thead th {\n",
       "        text-align: right;\n",
       "    }\n",
       "</style>\n",
       "<table border=\"1\" class=\"dataframe\">\n",
       "  <thead>\n",
       "    <tr style=\"text-align: right;\">\n",
       "      <th></th>\n",
       "      <th>0</th>\n",
       "    </tr>\n",
       "  </thead>\n",
       "  <tbody>\n",
       "    <tr>\n",
       "      <th>0</th>\n",
       "      <td>1.000000</td>\n",
       "    </tr>\n",
       "    <tr>\n",
       "      <th>1</th>\n",
       "      <td>0.985973</td>\n",
       "    </tr>\n",
       "    <tr>\n",
       "      <th>2</th>\n",
       "      <td>0.981510</td>\n",
       "    </tr>\n",
       "    <tr>\n",
       "      <th>3</th>\n",
       "      <td>0.978184</td>\n",
       "    </tr>\n",
       "    <tr>\n",
       "      <th>4</th>\n",
       "      <td>0.975477</td>\n",
       "    </tr>\n",
       "    <tr>\n",
       "      <th>...</th>\n",
       "      <td>...</td>\n",
       "    </tr>\n",
       "    <tr>\n",
       "      <th>95</th>\n",
       "      <td>0.683811</td>\n",
       "    </tr>\n",
       "    <tr>\n",
       "      <th>96</th>\n",
       "      <td>0.647390</td>\n",
       "    </tr>\n",
       "    <tr>\n",
       "      <th>97</th>\n",
       "      <td>0.586625</td>\n",
       "    </tr>\n",
       "    <tr>\n",
       "      <th>98</th>\n",
       "      <td>0.487473</td>\n",
       "    </tr>\n",
       "    <tr>\n",
       "      <th>99</th>\n",
       "      <td>0.328359</td>\n",
       "    </tr>\n",
       "  </tbody>\n",
       "</table>\n",
       "<p>100 rows × 1 columns</p>\n",
       "</div>"
      ],
      "text/plain": [
       "           0\n",
       "0   1.000000\n",
       "1   0.985973\n",
       "2   0.981510\n",
       "3   0.978184\n",
       "4   0.975477\n",
       "..       ...\n",
       "95  0.683811\n",
       "96  0.647390\n",
       "97  0.586625\n",
       "98  0.487473\n",
       "99  0.328359\n",
       "\n",
       "[100 rows x 1 columns]"
      ]
     },
     "execution_count": 174,
     "metadata": {},
     "output_type": "execute_result"
    }
   ],
   "source": [
    "df"
   ]
  },
  {
   "cell_type": "code",
   "execution_count": null,
   "id": "ccd97164",
   "metadata": {},
   "outputs": [],
   "source": []
  },
  {
   "cell_type": "code",
   "execution_count": null,
   "id": "ea1d96a1",
   "metadata": {},
   "outputs": [],
   "source": []
  },
  {
   "cell_type": "code",
   "execution_count": null,
   "id": "6a284f85",
   "metadata": {},
   "outputs": [],
   "source": []
  },
  {
   "cell_type": "code",
   "execution_count": null,
   "id": "c9f3e383",
   "metadata": {},
   "outputs": [],
   "source": []
  },
  {
   "cell_type": "code",
   "execution_count": 8,
   "id": "ac3f82e5",
   "metadata": {},
   "outputs": [],
   "source": [
    "Total_row_num = pd_df.shape[0]\n",
    "Reduced_row_num = pd_df[(pd_df['ROE_Pi0_InvM_50MeV']<0.12) | (pd_df['ROE_Pi0_InvM_50MeV']>0.145)].shape[0]\n",
    "\n"
   ]
  },
  {
   "cell_type": "code",
   "execution_count": 9,
   "id": "24d182b1",
   "metadata": {},
   "outputs": [
    {
     "name": "stdout",
     "output_type": "stream",
     "text": [
      "171304\n",
      "158735\n"
     ]
    }
   ],
   "source": [
    "print(Total_row_num)\n",
    "print(Reduced_row_num)"
   ]
  },
  {
   "cell_type": "code",
   "execution_count": 10,
   "id": "486e02b5",
   "metadata": {},
   "outputs": [
    {
     "name": "stdout",
     "output_type": "stream",
     "text": [
      "0.9266275159949563\n"
     ]
    }
   ],
   "source": [
    "Signal_eff = Reduced_row_num/Total_row_num\n",
    "print(Signal_eff)"
   ]
  },
  {
   "cell_type": "code",
   "execution_count": 11,
   "id": "78e1f718",
   "metadata": {},
   "outputs": [],
   "source": []
  },
  {
   "cell_type": "code",
   "execution_count": 19,
   "id": "b170b3ca",
   "metadata": {},
   "outputs": [],
   "source": []
  },
  {
   "cell_type": "code",
   "execution_count": 29,
   "id": "d915eee6",
   "metadata": {},
   "outputs": [
    {
     "name": "stdout",
     "output_type": "stream",
     "text": [
      "0.9988733479661888\n",
      "0.9959603978891328\n",
      "0.9927438938962313\n",
      "0.9895565777798534\n",
      "0.9863867743893896\n",
      "0.9833570728062392\n",
      "0.9799829542801102\n",
      "0.9770700042030542\n",
      "0.974098678372951\n",
      "0.9713491804044272\n",
      "0.9684654182038949\n",
      "0.9655349554009247\n",
      "0.962511091393079\n",
      "0.9597207303974221\n",
      "0.9568019427450614\n",
      "0.9539240181198337\n",
      "0.9511161443982628\n",
      "0.9483958343062625\n",
      "0.945704712090786\n",
      "0.9429844019987857\n",
      "0.9401648531266054\n",
      "0.9373511418297296\n",
      "0.9345666184093775\n",
      "0.9320564610283473\n",
      "0.9293595012375659\n",
      "0.9266275159949563\n",
      "0.9238546677252136\n",
      "0.9212335964133938\n",
      "0.9184549105683464\n",
      "0.9158104889553075\n",
      "0.9131835800681829\n",
      "0.910603371783496\n",
      "0.9077954980619249\n",
      "0.9052561528043712\n",
      "0.9026409190678559\n",
      "0.9000723859337786\n",
      "0.8973929388689114\n",
      "0.8950345584458039\n",
      "0.8923901368327651\n",
      "0.8897457152197263\n",
      "0.8870370802783356\n",
      "0.8844451968430392\n",
      "0.881853313407743\n"
     ]
    },
    {
     "data": {
      "text/html": [
       "<div>\n",
       "<style scoped>\n",
       "    .dataframe tbody tr th:only-of-type {\n",
       "        vertical-align: middle;\n",
       "    }\n",
       "\n",
       "    .dataframe tbody tr th {\n",
       "        vertical-align: top;\n",
       "    }\n",
       "\n",
       "    .dataframe thead th {\n",
       "        text-align: right;\n",
       "    }\n",
       "</style>\n",
       "<table border=\"1\" class=\"dataframe\">\n",
       "  <thead>\n",
       "    <tr style=\"text-align: right;\">\n",
       "      <th></th>\n",
       "      <th>0</th>\n",
       "    </tr>\n",
       "  </thead>\n",
       "  <tbody>\n",
       "    <tr>\n",
       "      <th>0</th>\n",
       "      <td>0.998873</td>\n",
       "    </tr>\n",
       "    <tr>\n",
       "      <th>1</th>\n",
       "      <td>0.995960</td>\n",
       "    </tr>\n",
       "    <tr>\n",
       "      <th>2</th>\n",
       "      <td>0.992744</td>\n",
       "    </tr>\n",
       "    <tr>\n",
       "      <th>3</th>\n",
       "      <td>0.989557</td>\n",
       "    </tr>\n",
       "    <tr>\n",
       "      <th>4</th>\n",
       "      <td>0.986387</td>\n",
       "    </tr>\n",
       "    <tr>\n",
       "      <th>5</th>\n",
       "      <td>0.983357</td>\n",
       "    </tr>\n",
       "    <tr>\n",
       "      <th>6</th>\n",
       "      <td>0.979983</td>\n",
       "    </tr>\n",
       "    <tr>\n",
       "      <th>7</th>\n",
       "      <td>0.977070</td>\n",
       "    </tr>\n",
       "    <tr>\n",
       "      <th>8</th>\n",
       "      <td>0.974099</td>\n",
       "    </tr>\n",
       "    <tr>\n",
       "      <th>9</th>\n",
       "      <td>0.971349</td>\n",
       "    </tr>\n",
       "    <tr>\n",
       "      <th>10</th>\n",
       "      <td>0.968465</td>\n",
       "    </tr>\n",
       "    <tr>\n",
       "      <th>11</th>\n",
       "      <td>0.965535</td>\n",
       "    </tr>\n",
       "    <tr>\n",
       "      <th>12</th>\n",
       "      <td>0.962511</td>\n",
       "    </tr>\n",
       "    <tr>\n",
       "      <th>13</th>\n",
       "      <td>0.959721</td>\n",
       "    </tr>\n",
       "    <tr>\n",
       "      <th>14</th>\n",
       "      <td>0.956802</td>\n",
       "    </tr>\n",
       "    <tr>\n",
       "      <th>15</th>\n",
       "      <td>0.953924</td>\n",
       "    </tr>\n",
       "    <tr>\n",
       "      <th>16</th>\n",
       "      <td>0.951116</td>\n",
       "    </tr>\n",
       "    <tr>\n",
       "      <th>17</th>\n",
       "      <td>0.948396</td>\n",
       "    </tr>\n",
       "    <tr>\n",
       "      <th>18</th>\n",
       "      <td>0.945705</td>\n",
       "    </tr>\n",
       "    <tr>\n",
       "      <th>19</th>\n",
       "      <td>0.942984</td>\n",
       "    </tr>\n",
       "    <tr>\n",
       "      <th>20</th>\n",
       "      <td>0.940165</td>\n",
       "    </tr>\n",
       "    <tr>\n",
       "      <th>21</th>\n",
       "      <td>0.937351</td>\n",
       "    </tr>\n",
       "    <tr>\n",
       "      <th>22</th>\n",
       "      <td>0.934567</td>\n",
       "    </tr>\n",
       "    <tr>\n",
       "      <th>23</th>\n",
       "      <td>0.932056</td>\n",
       "    </tr>\n",
       "    <tr>\n",
       "      <th>24</th>\n",
       "      <td>0.929360</td>\n",
       "    </tr>\n",
       "    <tr>\n",
       "      <th>25</th>\n",
       "      <td>0.926628</td>\n",
       "    </tr>\n",
       "    <tr>\n",
       "      <th>26</th>\n",
       "      <td>0.923855</td>\n",
       "    </tr>\n",
       "    <tr>\n",
       "      <th>27</th>\n",
       "      <td>0.921234</td>\n",
       "    </tr>\n",
       "    <tr>\n",
       "      <th>28</th>\n",
       "      <td>0.918455</td>\n",
       "    </tr>\n",
       "    <tr>\n",
       "      <th>29</th>\n",
       "      <td>0.915810</td>\n",
       "    </tr>\n",
       "    <tr>\n",
       "      <th>30</th>\n",
       "      <td>0.913184</td>\n",
       "    </tr>\n",
       "    <tr>\n",
       "      <th>31</th>\n",
       "      <td>0.910603</td>\n",
       "    </tr>\n",
       "    <tr>\n",
       "      <th>32</th>\n",
       "      <td>0.907795</td>\n",
       "    </tr>\n",
       "    <tr>\n",
       "      <th>33</th>\n",
       "      <td>0.905256</td>\n",
       "    </tr>\n",
       "    <tr>\n",
       "      <th>34</th>\n",
       "      <td>0.902641</td>\n",
       "    </tr>\n",
       "    <tr>\n",
       "      <th>35</th>\n",
       "      <td>0.900072</td>\n",
       "    </tr>\n",
       "    <tr>\n",
       "      <th>36</th>\n",
       "      <td>0.897393</td>\n",
       "    </tr>\n",
       "    <tr>\n",
       "      <th>37</th>\n",
       "      <td>0.895035</td>\n",
       "    </tr>\n",
       "    <tr>\n",
       "      <th>38</th>\n",
       "      <td>0.892390</td>\n",
       "    </tr>\n",
       "    <tr>\n",
       "      <th>39</th>\n",
       "      <td>0.889746</td>\n",
       "    </tr>\n",
       "    <tr>\n",
       "      <th>40</th>\n",
       "      <td>0.887037</td>\n",
       "    </tr>\n",
       "    <tr>\n",
       "      <th>41</th>\n",
       "      <td>0.884445</td>\n",
       "    </tr>\n",
       "    <tr>\n",
       "      <th>42</th>\n",
       "      <td>0.881853</td>\n",
       "    </tr>\n",
       "  </tbody>\n",
       "</table>\n",
       "</div>"
      ],
      "text/plain": [
       "           0\n",
       "0   0.998873\n",
       "1   0.995960\n",
       "2   0.992744\n",
       "3   0.989557\n",
       "4   0.986387\n",
       "5   0.983357\n",
       "6   0.979983\n",
       "7   0.977070\n",
       "8   0.974099\n",
       "9   0.971349\n",
       "10  0.968465\n",
       "11  0.965535\n",
       "12  0.962511\n",
       "13  0.959721\n",
       "14  0.956802\n",
       "15  0.953924\n",
       "16  0.951116\n",
       "17  0.948396\n",
       "18  0.945705\n",
       "19  0.942984\n",
       "20  0.940165\n",
       "21  0.937351\n",
       "22  0.934567\n",
       "23  0.932056\n",
       "24  0.929360\n",
       "25  0.926628\n",
       "26  0.923855\n",
       "27  0.921234\n",
       "28  0.918455\n",
       "29  0.915810\n",
       "30  0.913184\n",
       "31  0.910603\n",
       "32  0.907795\n",
       "33  0.905256\n",
       "34  0.902641\n",
       "35  0.900072\n",
       "36  0.897393\n",
       "37  0.895035\n",
       "38  0.892390\n",
       "39  0.889746\n",
       "40  0.887037\n",
       "41  0.884445\n",
       "42  0.881853"
      ]
     },
     "execution_count": 29,
     "metadata": {},
     "output_type": "execute_result"
    }
   ],
   "source": [
    "\n",
    "        \n",
    "df = pd.DataFrame(eff_list)\n",
    "df      "
   ]
  },
  {
   "cell_type": "code",
   "execution_count": 30,
   "id": "540d5126",
   "metadata": {},
   "outputs": [
    {
     "data": {
      "text/plain": [
       "(array([1., 0., 1., 0., 1., 0., 1., 0., 0., 1., 0., 1., 0., 1., 0., 1., 0.,\n",
       "        1., 0., 1., 0., 0., 1., 0., 1., 0., 1., 0., 0., 1., 0., 1., 0., 1.,\n",
       "        0., 1., 0., 0., 1., 0., 1., 0., 1., 0., 0., 1., 0., 1., 0., 1., 0.,\n",
       "        0., 1., 0., 1., 0., 1., 0., 0., 1., 0., 1., 0., 0., 1., 0., 1., 0.,\n",
       "        1., 0., 0., 1., 0., 0., 1., 0., 1., 0., 1., 0., 0., 1., 0., 1., 0.,\n",
       "        0., 1., 0., 0., 1., 0., 0., 1., 0., 1., 0., 0., 1., 0., 1.]),\n",
       " array([0.88185331, 0.88302351, 0.88419371, 0.88536391, 0.88653411,\n",
       "        0.88770432, 0.88887452, 0.89004472, 0.89121492, 0.89238512,\n",
       "        0.89355532, 0.89472552, 0.89589572, 0.89706592, 0.89823612,\n",
       "        0.89940632, 0.90057652, 0.90174672, 0.90291692, 0.90408712,\n",
       "        0.90525732, 0.90642752, 0.90759772, 0.90876792, 0.90993812,\n",
       "        0.91110832, 0.91227852, 0.91344872, 0.91461892, 0.91578912,\n",
       "        0.91695932, 0.91812952, 0.91929972, 0.92046992, 0.92164013,\n",
       "        0.92281033, 0.92398053, 0.92515073, 0.92632093, 0.92749113,\n",
       "        0.92866133, 0.92983153, 0.93100173, 0.93217193, 0.93334213,\n",
       "        0.93451233, 0.93568253, 0.93685273, 0.93802293, 0.93919313,\n",
       "        0.94036333, 0.94153353, 0.94270373, 0.94387393, 0.94504413,\n",
       "        0.94621433, 0.94738453, 0.94855473, 0.94972493, 0.95089513,\n",
       "        0.95206533, 0.95323553, 0.95440573, 0.95557594, 0.95674614,\n",
       "        0.95791634, 0.95908654, 0.96025674, 0.96142694, 0.96259714,\n",
       "        0.96376734, 0.96493754, 0.96610774, 0.96727794, 0.96844814,\n",
       "        0.96961834, 0.97078854, 0.97195874, 0.97312894, 0.97429914,\n",
       "        0.97546934, 0.97663954, 0.97780974, 0.97897994, 0.98015014,\n",
       "        0.98132034, 0.98249054, 0.98366074, 0.98483094, 0.98600114,\n",
       "        0.98717134, 0.98834154, 0.98951175, 0.99068195, 0.99185215,\n",
       "        0.99302235, 0.99419255, 0.99536275, 0.99653295, 0.99770315,\n",
       "        0.99887335]),\n",
       " [<matplotlib.patches.Polygon at 0x7f7efbb14eb0>])"
      ]
     },
     "execution_count": 30,
     "metadata": {},
     "output_type": "execute_result"
    },
    {
     "data": {
      "image/png": "[encoded data removed]",
      "text/plain": [
       "<Figure size 576x396 with 1 Axes>"
      ]
     },
     "metadata": {},
     "output_type": "display_data"
    }
   ],
   "source": [
    "plt.hist(df, label=r'$E_{\\gamma_{roe}}>50\\mathrm{MeV}$',bins=100,histtype='step')\n"
   ]
  },
  {
   "cell_type": "code",
   "execution_count": null,
   "id": "33e86901",
   "metadata": {},
   "outputs": [],
   "source": []
  },
  {
   "cell_type": "code",
   "execution_count": 29,
   "id": "d5600aaa",
   "metadata": {},
   "outputs": [
    {
     "data": {
      "text/plain": [
       "<matplotlib.legend.Legend at 0x7f62b06bc250>"
      ]
     },
     "execution_count": 29,
     "metadata": {},
     "output_type": "execute_result"
    },
    {
     "data": {
      "image/png": "[encoded data removed]",
      "text/plain": [
       "<Figure size 576x396 with 1 Axes>"
      ]
     },
     "metadata": {},
     "output_type": "display_data"
    }
   ],
   "source": [
    "#plt.hist(pd_df[(pd_df['ROE_Pi0_InvM_50MeV']<0.16) & (pd_df['ROE_Pi0_InvM_50MeV']>0.1) ].ROE_Pi0_InvM_50MeV, label=r'$E_{\\gamma_{roe}}>50\\mathrm{MeV}$',bins=100,histtype='step')\n",
    "plt.hist(pd_df[(pd_df['ROE_Pi0_InvM_50MeV']<0.12) | (pd_df['ROE_Pi0_InvM_50MeV']>0.137)].ROE_Pi0_InvM_50MeV, label=r'$E_{\\gamma_{roe}}>50\\mathrm{MeV}$',bins=100,histtype='step')\n",
    "\n",
    "\n",
    "xlabel = r'$M(\\gamma_h \\gamma_{roe}) \\; [\\mathrm{GeV}]$'\n",
    "ax = plt.gca()\n",
    "#ax.set_xlim(0.10,0.16)\n",
    "ax.set_xlabel(xlabel)\n",
    "#plt.title(plot_title)\n",
    "\n",
    "plt.legend(loc='upper left')"
   ]
  },
  {
   "cell_type": "code",
   "execution_count": null,
   "id": "3b1f9ccb",
   "metadata": {},
   "outputs": [],
   "source": [
    "plt.hist(pd_df[(pd_df['ROE_Pi0_InvM_50MeV']<0.16) & (pd_df['ROE_Pi0_InvM_50MeV']>0.1) ].ROE_Pi0_InvM_50MeV, label=r'$E_{\\gamma_{roe}}>50\\mathrm{MeV}$',bins=100,histtype='step')\n",
    "xlabel = r'$M(\\gamma_h \\gamma_{roe}) \\; [\\mathrm{GeV}]$'\n",
    "ax = plt.gca()\n",
    "ax.set_xlim(0.10,0.16)\n",
    "ax.set_xlabel(xlabel)\n",
    "#plt.title(plot_title)\n",
    "\n",
    "plt.legend(loc='upper left')"
   ]
  }
 ],
 "metadata": {
  "kernelspec": {
   "display_name": "Python 3 (ipykernel)",
   "language": "python",
   "name": "python3"
  },
  "language_info": {
   "codemirror_mode": {
    "name": "ipython",
    "version": 3
   },
   "file_extension": ".py",
   "mimetype": "text/x-python",
   "name": "python",
   "nbconvert_exporter": "python",
   "pygments_lexer": "ipython3",
   "version": "3.10.5"
  }
 },
 "nbformat": 4,
 "nbformat_minor": 5
}
