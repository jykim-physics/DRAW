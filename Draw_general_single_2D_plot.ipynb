{
 "cells": [
  {
   "cell_type": "code",
   "execution_count": 22,
   "id": "d134a125",
   "metadata": {
    "ExecuteTime": {
     "end_time": "2022-07-12T09:27:39.105727Z",
     "start_time": "2022-07-12T09:27:38.991015Z"
    }
   },
   "outputs": [
    {
     "name": "stdout",
     "output_type": "stream",
     "text": [
      "['Solarize_Light2', '_classic_test_patch', '_mpl-gallery', '_mpl-gallery-nogrid', 'belle2', 'belle2_serif', 'bmh', 'classic', 'dark_background', 'fast', 'fivethirtyeight', 'ggplot', 'grayscale', 'seaborn', 'seaborn-bright', 'seaborn-colorblind', 'seaborn-dark', 'seaborn-dark-palette', 'seaborn-darkgrid', 'seaborn-deep', 'seaborn-muted', 'seaborn-notebook', 'seaborn-paper', 'seaborn-pastel', 'seaborn-poster', 'seaborn-talk', 'seaborn-ticks', 'seaborn-white', 'seaborn-whitegrid', 'tableau-colorblind10']\n"
     ]
    }
   ],
   "source": [
    "import matplotlib.pyplot as plt\n",
    "import pandas as pd\n",
    "import numpy as np\n",
    "import math#\n",
    "#import uproot\n",
    "#from b2plot import hist\n",
    "import b2plot as bp\n",
    "import ROOT\n",
    "#from root_pandas import read_root\n",
    "\n",
    "import seaborn as sns\n",
    "try:\n",
    "    #plt.style.use('belle2')\n",
    "    plt.style.use('belle2_serif')\n",
    "    #plt.style.use('belle2_modern')\n",
    "except OSError:\n",
    "    print(\"Please install belle2 matplotlib style\")   \n",
    "    \n",
    "print(plt.style.available)\n",
    "px = 1/plt.rcParams['figure.dpi']"
   ]
  },
  {
   "cell_type": "code",
   "execution_count": 24,
   "id": "9a2b368b",
   "metadata": {
    "ExecuteTime": {
     "end_time": "2022-07-12T09:27:39.361007Z",
     "start_time": "2022-07-12T09:27:39.239543Z"
    }
   },
   "outputs": [
    {
     "ename": "IndentationError",
     "evalue": "unindent does not match any outer indentation level (<tokenize>, line 122)",
     "output_type": "error",
     "traceback": [
      "\u001b[0;36m  File \u001b[0;32m\"<tokenize>\"\u001b[0;36m, line \u001b[0;32m122\u001b[0m\n\u001b[0;31m    def get_data(file='file', figname='name', tree='tree', base_filter=None,variables=None):\u001b[0m\n\u001b[0m    ^\u001b[0m\n\u001b[0;31mIndentationError\u001b[0m\u001b[0;31m:\u001b[0m unindent does not match any outer indentation level\n"
     ]
    }
   ],
   "source": [
    "def Draw(option=None,loc=None,var_name=None, var_unit=None,file='file', tree='tree', figname='name',base_filter=None, true_filter=None, false_filter=None, add_t_filter=None, add_f_filter=None, bins=None):\n",
    "    tree=tree\n",
    "    #base_filter = '(D0_M>1.665 && D0_M<2.065) && (gamma_E>0.55) ' \n",
    "    var_name=var_name\n",
    "    #var_name[\"D0_M\"]=\"M(D^0)\"\n",
    "\n",
    "    var_unit=var_unit\n",
    "    #var_unit[\"D0_M\"]=\"GeV/c^2\"\n",
    "\n",
    "    var=list(var_name.keys())\n",
    "    print(var)\n",
    "     \n",
    "    if loc=='home':\n",
    "        file = \"/home/jykim/storage/nas\" + file[27:]\n",
    "    elif loc=='lab':\n",
    "        file = \"/home/jykim/nas\" + file[27:]        \n",
    "    else:\n",
    "        file = file\n",
    "        \n",
    "        \n",
    "    base_filter = base_filter\n",
    "    true_filter = base_filter + true_filter\n",
    "    false_filter = base_filter + false_filter\n",
    "    \n",
    "    if add_t_filter != None:\n",
    "        true_filter = true_filter + add_t_filter\n",
    "    elif add_f_filter != None:\n",
    "        false_filter = false_filter + add_f_filter\n",
    "    else:\n",
    "        pass\n",
    "        \n",
    "        \n",
    "    '''\n",
    "    if vector == 'omega':\n",
    "        base_filter += ' && ( abs(Omega_M- 0.78265) < 0.015 )'\n",
    "    elif vector == 'phi':\n",
    "        base_filter += ' && ( abs(Phi_M- 1.0195) < 0.011 )'\n",
    "    elif vector == 'rho':\n",
    "        base_filter += ' && ( abs(Rho_M- 0.77526) < 0.150 )'\n",
    "    elif vector == 'antiKstar':\n",
    "        base_filter += ' && ( abs(antiKstar_M- 0.89555) < 0.06 )'\n",
    "    '''\n",
    "\n",
    "    '''\n",
    "    if vector == 'omega':\n",
    "        plot_title = r\"$\\omega$ mode\"\n",
    "    elif vector == 'phi':\n",
    "        plot_title = r\"$\\phi$ mode\"\n",
    "    elif vector == 'rho':\n",
    "        plot_title = r\"$\\rho^0$ mode\"\n",
    "    elif vector == 'antiKstar':\n",
    "        plot_title = r\"$\\bar{K}^{*0}$ mode\"\n",
    "    '''\n",
    "\n",
    "\n",
    "    ROOT_df_start = ROOT.RDataFrame(tree, file)\n",
    "    # Compute new variable\n",
    "\n",
    "        \n",
    "\n",
    "    \n",
    "    ROOT_df       = ROOT_df_start.Filter(base_filter)\n",
    "    ROOT_df_true  = ROOT_df_start.Filter(true_filter)                        \n",
    "    ROOT_df_false = ROOT_df_start.Filter(false_filter)\n",
    "\n",
    "    col_dict       = ROOT_df.AsNumpy(var)    \n",
    "    col_dict_true  = ROOT_df_true.AsNumpy(var)\n",
    "    col_dict_false = ROOT_df_false.AsNumpy(var)\n",
    "\n",
    "    pd_df       = pd.DataFrame(col_dict)\n",
    "    pd_df_true  = pd.DataFrame(col_dict_true)\n",
    "    pd_df_false = pd.DataFrame(col_dict_false)  \n",
    "\n",
    "    pd_df['class'] = 'all'\n",
    "    pd_df_true['class'] = 'true'\n",
    "    pd_df_false['class'] = 'false' \n",
    "    \n",
    "    print('# of false is ' + str(pd_df_false.shape[0]) )\n",
    "\n",
    "    px = 1/plt.rcParams['figure.dpi']\n",
    "    plt.figure(figsize=(576*px, 396*px))\n",
    "    \n",
    "    for i in var:\n",
    "        \n",
    "\n",
    "        #plt.hist(pd_df[i], label=r'all',bins=bins,  histtype='step') \n",
    "        #plt.hist(pd_df_true[i], label=r'true',bins=bins,  histtype='step') \n",
    "        plt.hist(pd_df_false[i], label=r'bkg',bins=bins,  histtype='step') \n",
    "        \n",
    "\n",
    "        #bp.hist(pd_df[i], label=r'all',bins=bins) \n",
    "        #bp.hist(pd_df_true[i], label=r'true',bins=bins) \n",
    "        #bp.hist(pd_df_false[i], label=r'false',bins=bins) \n",
    "        \n",
    "        ax = plt.gca()\n",
    "        ax.set_xlim(pd_df[i].min(), pd_df[i].max())\n",
    "        \n",
    "        if i in var:\n",
    "            if var_unit[i]==\"\":\n",
    "                xlabel = \"$\" + var_name[i] + \"$\"\n",
    "            else:    \n",
    "                xlabel = \"$\" + var_name[i] + \"$ $[\" + var_unit[i] + \"]$\"\n",
    "            ax.set_xlabel(xlabel)            \n",
    "            x_axis = ax.get_xbound()\n",
    "            width = (x_axis[1] - x_axis[0])/bins  \n",
    "            print(\"one bin's size is \" + str(width))\n",
    "            ax.set_ylabel('Entries'+' /' + '$(' + ' '  + \"{0:.3f}\".format(width).rstrip('0').rstrip('.') + var_unit[i] + ' )$')                                      \n",
    "        else:\n",
    "            xlabel = i\n",
    "            ax.set_xlabel(xlabel)            \n",
    "            x_axis = ax.get_xbound()\n",
    "            width = (x_axis[1] - x_axis[0])/bins\n",
    "            ax.set_ylabel('Entries'+' /' + '$(' + ' '  + \"{0:.4f}\".format(width).rstrip('0').rstrip('.') + ' )$')\n",
    "            #ax.set_ylabel('Entries')                \n",
    "        \n",
    "        #bp.stacked(pd_merge_df, col=i, by='class', bins=100, color = sns.cubehelix_palette(8, start=1.5, rot=1.5, dark=0.3, light=.8, reverse=True))\n",
    "        plt.legend()\n",
    "        plt.title(plot_title)\n",
    "        #plt.legend(bbox_to_anchor=(1,1))\n",
    "        #bp.labels(i, \"Entries\")\n",
    "\n",
    "      def get_data(file='file', figname='name', tree='tree', base_filter=None,variables=None):\n",
    "    \n",
    "    tree=tree\n",
    "    f = file\n",
    "    base_filter  = base_filter    \n",
    "    \n",
    "    ROOT_df_start = ROOT.RDataFrame(tree, f)  \n",
    "    col_dict  = ROOT_df_start.AsNumpy(variables)\n",
    "    \n",
    "    if base_filter !=None:\n",
    "        ROOT_df_filtered  = ROOT_df_start.Filter(base_filter)                            \n",
    "        col_dict  = ROOT_df_filtered.AsNumpy(variables)\n",
    "    \n",
    "    pd_df  = pd.DataFrame(col_dict)\n",
    "    \n",
    "    \n",
    "    return pd_df\n",
    "        #ax2 = ax1.twinx()\n",
    "        \n",
    "        #ax2.hist(cc_pd_df_true[i], label=r'signal', bins=bins, color='tab:blue', histtype='step')\n",
    "\n",
    "        #ax2.tick_params(axis='y', labelcolor='tab:blue')\n",
    "        #bp.hist(pd_merge_df_false[i], label=r'others', bins=bins)  \n",
    "        \n",
    "        #bp.stacked(pd_df, col=i,by='label', bins=140)        \n",
    "        #bp.stacked(df_bkg_real_pi0,col='D0_M', label=r'from real_pi0', bins=140, color=\"b\")\n",
    "        #bp.stacked(df_bkg_fake_pi0[i], label=r'from fake_pi0', bins=140, color=\"g\")\n",
    "        \n",
    "        \n",
    "        \n",
    "\n",
    "        #save_dir = \"/home/belle2/jaeyoung/plots/\" + vector  + \"/Dstarp/\" + figname + i + \".png\"\n",
    "        #bp.save(save_dir)\n",
    "        plt.show()\n",
    "        plt.clf() \n",
    "\n",
    "    \n",
    "    '''\n",
    "    if vector == 'omega':\n",
    "    \n",
    "        corr_D0M_dalitz = lambda g: g['D0_M'].corr(g['cos_dalitz_pip'])\n",
    "        grouped = pd_df.groupby('Dstarp_isSignal')\n",
    "    \n",
    "        print(pd.DataFrame(grouped.apply(corr_D0M_dalitz)))\n",
    "        \n",
    "        corr_D0M_dalitz = lambda g: g['D0_M'].corr(g['cos_dalitz_pip'])\n",
    "        grouped = pd_df.groupby('D0_isSignal')\n",
    "    \n",
    "        print(pd.DataFrame(grouped.apply(corr_D0M_dalitz)))      \n",
    "    '''"
   ]
  },
  {
   "cell_type": "code",
   "execution_count": 25,
   "id": "b08b9dc1",
   "metadata": {
    "ExecuteTime": {
     "end_time": "2022-07-12T09:27:40.062723Z",
     "start_time": "2022-07-12T09:27:39.949085Z"
    }
   },
   "outputs": [],
   "source": [
    "def get_data(file='file', figname='name', tree='tree', base_filter=None,variables=None):\n",
    "    \n",
    "    tree=tree\n",
    "    f = file\n",
    "    base_filter  = base_filter    \n",
    "    \n",
    "    ROOT_df_start = ROOT.RDataFrame(tree, f)  \n",
    "    col_dict  = ROOT_df_start.AsNumpy(variables)\n",
    "    \n",
    "    if base_filter !=None:\n",
    "        ROOT_df_filtered  = ROOT_df_start.Filter(base_filter)                            \n",
    "        col_dict  = ROOT_df_filtered.AsNumpy(variables)\n",
    "    \n",
    "    pd_df  = pd.DataFrame(col_dict)\n",
    "    \n",
    "    \n",
    "    return pd_df"
   ]
  },
  {
   "cell_type": "code",
   "execution_count": 39,
   "id": "50ab432b",
   "metadata": {
    "ExecuteTime": {
     "end_time": "2022-07-12T09:41:47.650272Z",
     "start_time": "2022-07-12T09:41:40.551661Z"
    }
   },
   "outputs": [],
   "source": [
    "file = '/home/belle2/jaeyoung/workspace/04_gen/bkg_not_exist/done/D2pippimpi0/ntuple/recon_mdst_e6_gen.root'\n",
    "tree = 'Dstar'\n",
    "base_filter = '()'\n",
    "variables=['pip_E','pim_E','pip_px','pim_px','pip_py','pim_py','pip_pz','pim_pz','D0_mpippim2','D0_mpippi02','D0_mpimpi02']\n",
    "\n",
    "pd_df = get_data(file=file, tree=tree,variables=variables )"
   ]
  },
  {
   "cell_type": "code",
   "execution_count": 40,
   "id": "b364061a",
   "metadata": {
    "ExecuteTime": {
     "end_time": "2022-07-12T09:41:47.904572Z",
     "start_time": "2022-07-12T09:41:47.792696Z"
    }
   },
   "outputs": [
    {
     "data": {
      "text/plain": [
       "0         0.823111\n",
       "1         2.625024\n",
       "2         2.431183\n",
       "3         0.153496\n",
       "4         0.305604\n",
       "            ...   \n",
       "990876    0.733301\n",
       "990877    0.518051\n",
       "990878    2.654202\n",
       "990879    0.902748\n",
       "990880    2.101098\n",
       "Name: D0_mpippim2, Length: 990881, dtype: float64"
      ]
     },
     "execution_count": 40,
     "metadata": {},
     "output_type": "execute_result"
    }
   ],
   "source": [
    "pd_df[\"D0_mpippim2\"]"
   ]
  },
  {
   "cell_type": "code",
   "execution_count": 41,
   "id": "816c23cb",
   "metadata": {
    "ExecuteTime": {
     "end_time": "2022-07-12T09:41:48.610261Z",
     "start_time": "2022-07-12T09:41:48.041915Z"
    }
   },
   "outputs": [
    {
     "data": {
      "image/png": "[encoded data removed]",
      "text/plain": [
       "<Figure size 576x396 with 2 Axes>"
      ]
     },
     "metadata": {},
     "output_type": "display_data"
    }
   ],
   "source": [
    "x=pd_df['D0_mpippim2']\n",
    "y=pd_df['D0_mpippi02']\n",
    "\n",
    "\n",
    "px = 1/plt.rcParams['figure.dpi']\n",
    "plt.figure(figsize=(576*px, 396*px))\n",
    "plt.hist2d(x, y, bins=(50, 50), cmap=plt.cm.jet)\n",
    "\n",
    "#plt.hist2d(x, y, bins=(50, 50), cmap=plt.cm.BuPu)\n",
    "\n",
    "#plt.hist2d(x, y, bins=(50, 50), cmap=plt.cm.Greys)\n",
    "\n",
    "plot_title=r\"$D^0 \\rightarrow \\pi^+ \\pi^- \\pi^0$\"\n",
    "plt.title(plot_title)\n",
    "ax = plt.gca()\n",
    "xlabel = r\"$M(\\pi^+\\pi^-)^2$\"\n",
    "ylabel = r\"$M(\\pi^+\\pi^0)^2$\"\n",
    "ax.set_xlabel(xlabel)\n",
    "ax.set_ylabel(ylabel)\n",
    "\n",
    "plt.colorbar()\n",
    "plt.show()"
   ]
  },
  {
   "cell_type": "code",
   "execution_count": 43,
   "id": "8acb6985",
   "metadata": {
    "ExecuteTime": {
     "end_time": "2022-07-12T09:43:46.967183Z",
     "start_time": "2022-07-12T09:43:44.109996Z"
    }
   },
   "outputs": [],
   "source": [
    "file = '/home/belle2/jaeyoung/workspace/04_gen/bkg_not_exist/D2kmpippi0/ntuple/recon_mdst_e6_gen.root'\n",
    "tree = 'Dstar'\n",
    "base_filter = '()'\n",
    "variables=['D0_mpippim2','D0_mpippi02','D0_mpimpi02']\n",
    "\n",
    "pd_df = get_data(file=file, tree=tree,variables=variables )"
   ]
  },
  {
   "cell_type": "code",
   "execution_count": 46,
   "id": "7d3ca362",
   "metadata": {
    "ExecuteTime": {
     "end_time": "2022-07-12T09:45:51.941203Z",
     "start_time": "2022-07-12T09:45:51.323487Z"
    }
   },
   "outputs": [
    {
     "data": {
      "image/png": "[encoded data removed]",
      "text/plain": [
       "<Figure size 576x396 with 2 Axes>"
      ]
     },
     "metadata": {},
     "output_type": "display_data"
    }
   ],
   "source": [
    "x=pd_df['D0_mpippim2']\n",
    "y=pd_df['D0_mpimpi02']\n",
    "\n",
    "\n",
    "px = 1/plt.rcParams['figure.dpi']\n",
    "plt.figure(figsize=(576*px, 396*px))\n",
    "plt.hist2d(x, y, bins=(50, 50), cmap=plt.cm.jet)\n",
    "\n",
    "#plt.hist2d(x, y, bins=(50, 50), cmap=plt.cm.BuPu)\n",
    "\n",
    "#plt.hist2d(x, y, bins=(50, 50), cmap=plt.cm.Greys)\n",
    "\n",
    "plot_title=r\"$D^0 \\rightarrow K^- \\pi^+ \\pi^0$\"\n",
    "plt.title(plot_title)\n",
    "ax = plt.gca()\n",
    "xlabel = r\"$M(K^-\\pi^+)^2$\"\n",
    "ylabel = r\"$M(\\pi^0\\pi^+)^2$\"\n",
    "ax.set_xlabel(xlabel)\n",
    "ax.set_ylabel(ylabel)\n",
    "\n",
    "#ax.set_xlim(x.min(), x.max())\n",
    "#ax.set_ylim(y.min(), y.max())\n",
    "\n",
    "plt.colorbar()\n",
    "plt.show()"
   ]
  },
  {
   "cell_type": "code",
   "execution_count": null,
   "id": "dd0cbebd",
   "metadata": {},
   "outputs": [],
   "source": []
  },
  {
   "cell_type": "code",
   "execution_count": null,
   "id": "e7f6f174",
   "metadata": {},
   "outputs": [],
   "source": []
  },
  {
   "cell_type": "markdown",
   "id": "36f0b697",
   "metadata": {},
   "source": [
    "# D to Pip Pim Pi0"
   ]
  },
  {
   "cell_type": "markdown",
   "id": "b644db6a",
   "metadata": {},
   "source": [
    "# D to Pip Pim 2 Pi0"
   ]
  },
  {
   "cell_type": "code",
   "execution_count": null,
   "id": "5021db42",
   "metadata": {},
   "outputs": [],
   "source": []
  },
  {
   "cell_type": "code",
   "execution_count": null,
   "id": "4b5877c9",
   "metadata": {},
   "outputs": [],
   "source": []
  },
  {
   "cell_type": "markdown",
   "id": "2311c133",
   "metadata": {},
   "source": [
    "# D to omega Pi0"
   ]
  },
  {
   "cell_type": "code",
   "execution_count": null,
   "id": "75f850c0",
   "metadata": {},
   "outputs": [],
   "source": []
  },
  {
   "cell_type": "code",
   "execution_count": null,
   "id": "2fbdb472",
   "metadata": {},
   "outputs": [],
   "source": []
  },
  {
   "cell_type": "markdown",
   "id": "3268df14",
   "metadata": {},
   "source": [
    "# D to omega eta"
   ]
  },
  {
   "cell_type": "code",
   "execution_count": null,
   "id": "4f6f461a",
   "metadata": {},
   "outputs": [],
   "source": []
  },
  {
   "cell_type": "code",
   "execution_count": null,
   "id": "ac3956cf",
   "metadata": {},
   "outputs": [],
   "source": []
  },
  {
   "cell_type": "markdown",
   "id": "4c2ef826",
   "metadata": {},
   "source": [
    "# D to Pip Pim Pi0 eta"
   ]
  },
  {
   "cell_type": "code",
   "execution_count": null,
   "id": "3d1d77ae",
   "metadata": {},
   "outputs": [],
   "source": []
  },
  {
   "cell_type": "code",
   "execution_count": null,
   "id": "1740dd85",
   "metadata": {},
   "outputs": [],
   "source": []
  },
  {
   "cell_type": "markdown",
   "id": "f88315d9",
   "metadata": {},
   "source": [
    "# ETC"
   ]
  },
  {
   "cell_type": "code",
   "execution_count": 15,
   "id": "7bee5253",
   "metadata": {
    "ExecuteTime": {
     "end_time": "2022-07-11T06:25:48.455995Z",
     "start_time": "2022-07-11T06:25:48.344506Z"
    }
   },
   "outputs": [],
   "source": [
    "def get_data(file='file', figname='name', tree='tree', base_filter=None,variables=None):\n",
    "    \n",
    "    tree=tree\n",
    "    f = file\n",
    "    base_filter  = base_filter    \n",
    "    \n",
    "    ROOT_df_start = ROOT.RDataFrame(tree, f)  \n",
    "    col_dict  = ROOT_df_start.AsNumpy(variables)\n",
    "    \n",
    "    if base_filter !=None:\n",
    "        ROOT_df_filtered  = ROOT_df_start.Filter(base_filter)                            \n",
    "        col_dict  = ROOT_df_filtered.AsNumpy(variables)\n",
    "    ddd\n",
    "    pd_df  = pd.DataFrame(col_dict)\n",
    "    \n",
    "    \n",
    "    return pd_df"
   ]
  },
  {
   "cell_type": "code",
   "execution_count": 31,
   "id": "627f4c88",
   "metadata": {
    "ExecuteTime": {
     "end_time": "2022-07-11T06:38:24.942556Z",
     "start_time": "2022-07-11T06:38:24.831670Z"
    }
   },
   "outputs": [],
   "source": [
    "def compute(row):\n",
    "    \n",
    "    E = row['pip_E'] + row['pim_E']\n",
    "    px = row['pip_px'] + row['pim_px']\n",
    "    py = row['pip_py'] + row['pim_py']\n",
    "    pz = row['pip_pz'] + row['pim_pz']\n",
    "    \n",
    "    InvM = math.sqrt(E*E - (px*px + py*py + pz*pz))\n",
    "    \n",
    "    return InvM"
   ]
  },
  {
   "cell_type": "code",
   "execution_count": 32,
   "id": "c1a1150a",
   "metadata": {
    "ExecuteTime": {
     "end_time": "2022-07-11T06:38:56.419913Z",
     "start_time": "2022-07-11T06:38:25.073619Z"
    },
    "scrolled": false
   },
   "outputs": [],
   "source": [
    "file = '/home/belle2/jaeyoung/workspace/04_gen/bkg_not_exist/done/D2pippimpi0/ntuple/recon_mdst_e6_gen.root'\n",
    "tree = 'Dstar'\n",
    "base_filter = '()'\n",
    "variables=['pip_E','pim_E','pip_px','pim_px','pip_py','pim_py','pip_pz','pim_pz']\n",
    "\n",
    "pd_df = get_data(file=file, tree=tree,variables=variables )\n",
    "\n",
    "pd_df['pippim'] = pd_df.apply(lambda row: compute(row), axis=1)\n",
    "\n"
   ]
  },
  {
   "cell_type": "code",
   "execution_count": 33,
   "id": "7fb402ae",
   "metadata": {
    "ExecuteTime": {
     "end_time": "2022-07-11T06:38:56.929516Z",
     "start_time": "2022-07-11T06:38:56.553660Z"
    }
   },
   "outputs": [
    {
     "data": {
      "text/plain": [
       "<matplotlib.lines.Line2D at 0x7f0f4f956fd0>"
      ]
     },
     "execution_count": 33,
     "metadata": {},
     "output_type": "execute_result"
    },
    {
     "data": {
      "image/png": "[encoded data removed]",
      "text/plain": [
       "<Figure size 576x396 with 1 Axes>"
      ]
     },
     "metadata": {},
     "output_type": "display_data"
    }
   ],
   "source": [
    "plt.hist(pd_df['pippim'], label=r'bkg',bins=100,  histtype='step') \n",
    "\n",
    "plot_title=r\"$D^0 \\rightarrow \\pi^+ \\pi^- \\pi^0$\"\n",
    "plt.title(plot_title)\n",
    "ax = plt.gca()\n",
    "xlabel = r\"$M(\\pi^+\\pi^-)$\"\n",
    "ax.set_xlabel(xlabel)\n",
    "ax.set_ylabel('Entries')\n",
    "\n",
    "plt.axvline(x=0.92526,  color='red', linestyle='dotted')\n",
    "plt.axvline(x=0.62526,  color='red', linestyle='dotted')"
   ]
  },
  {
   "cell_type": "code",
   "execution_count": 34,
   "id": "e7d619c0",
   "metadata": {
    "ExecuteTime": {
     "end_time": "2022-07-11T06:39:15.912252Z",
     "start_time": "2022-07-11T06:39:15.800282Z"
    }
   },
   "outputs": [],
   "source": [
    "def compute_2(row):\n",
    "    \n",
    "    E = row['pip_E'] + row['pi0_E']\n",
    "    px = row['pip_px'] + row['pi0_px']\n",
    "    py = row['pip_py'] + row['pi0_py']\n",
    "    pz = row['pip_pz'] + row['pi0_pz']\n",
    "    \n",
    "    InvM = math.sqrt(E*E - (px*px + py*py + pz*pz))\n",
    "    \n",
    "    return InvM\n",
    "\n",
    "\n"
   ]
  },
  {
   "cell_type": "code",
   "execution_count": 35,
   "id": "90cdb6ab",
   "metadata": {
    "ExecuteTime": {
     "end_time": "2022-07-11T06:39:48.036277Z",
     "start_time": "2022-07-11T06:39:16.042223Z"
    }
   },
   "outputs": [],
   "source": [
    "file = '/home/belle2/jaeyoung/workspace/04_gen/bkg_not_exist/done/D2pippimpi0/ntuple/recon_mdst_e6_gen.root'\n",
    "tree = 'Dstar'\n",
    "base_filter = '()'\n",
    "variables=['pip_E','pim_E','pi0_E','pip_px','pim_px','pi0_px','pip_py','pim_py','pi0_py','pip_pz','pim_pz','pi0_pz']\n",
    "\n",
    "pd_df = get_data(file=file, tree=tree,variables=variables )\n",
    "\n",
    "pd_df['pippi0'] = pd_df.apply(lambda row: compute_2(row), axis=1)"
   ]
  },
  {
   "cell_type": "code",
   "execution_count": 36,
   "id": "e0fc134b",
   "metadata": {
    "ExecuteTime": {
     "end_time": "2022-07-11T06:39:48.569833Z",
     "start_time": "2022-07-11T06:39:48.170706Z"
    }
   },
   "outputs": [
    {
     "data": {
      "text/plain": [
       "Text(0, 0.5, 'Entries')"
      ]
     },
     "execution_count": 36,
     "metadata": {},
     "output_type": "execute_result"
    },
    {
     "data": {
      "image/png": "[encoded data removed]",
      "text/plain": [
       "<Figure size 576x396 with 1 Axes>"
      ]
     },
     "metadata": {},
     "output_type": "display_data"
    }
   ],
   "source": [
    "plt.hist(pd_df['pippi0'], label=r'bkg',bins=100,  histtype='step') \n",
    "\n",
    "plot_title=r\"$D^0 \\rightarrow \\pi^+ \\pi^- \\pi^0$\"\n",
    "plt.title(plot_title)\n",
    "ax = plt.gca()\n",
    "xlabel = r\"$M(\\pi^+\\pi^0)$\"\n",
    "ax.set_xlabel(xlabel)\n",
    "ax.set_ylabel('Entries')"
   ]
  },
  {
   "cell_type": "code",
   "execution_count": 40,
   "id": "3e250149",
   "metadata": {
    "ExecuteTime": {
     "end_time": "2022-07-11T07:08:51.224528Z",
     "start_time": "2022-07-11T07:08:51.116373Z"
    }
   },
   "outputs": [],
   "source": [
    "def compute_3(row):\n",
    "    \n",
    "    E = row['pim_E'] + row['pi0_E']\n",
    "    px = row['pim_px'] + row['pi0_px']\n",
    "    py = row['pim_py'] + row['pi0_py']\n",
    "    pz = row['pim_pz'] + row['pi0_pz']\n",
    "    \n",
    "    InvM = math.sqrt(E*E - (px*px + py*py + pz*pz))\n",
    "    \n",
    "    return InvM\n"
   ]
  },
  {
   "cell_type": "code",
   "execution_count": 41,
   "id": "10454a08",
   "metadata": {
    "ExecuteTime": {
     "end_time": "2022-07-11T07:09:22.545373Z",
     "start_time": "2022-07-11T07:08:51.357755Z"
    }
   },
   "outputs": [],
   "source": [
    "file = '/home/belle2/jaeyoung/workspace/04_gen/bkg_not_exist/done/D2pippimpi0/ntuple/recon_mdst_e6_gen.root'\n",
    "tree = 'Dstar'\n",
    "base_filter = '()'\n",
    "variables=['pip_E','pim_E','pi0_E','pip_px','pim_px','pi0_px','pip_py','pim_py','pi0_py','pip_pz','pim_pz','pi0_pz']\n",
    "\n",
    "pd_df = get_data(file=file, tree=tree,variables=variables )\n",
    "\n",
    "pd_df['pimpi0'] = pd_df.apply(lambda row: compute_3(row), axis=1)"
   ]
  },
  {
   "cell_type": "code",
   "execution_count": 42,
   "id": "3d9f7a21",
   "metadata": {
    "ExecuteTime": {
     "end_time": "2022-07-11T07:09:23.183299Z",
     "start_time": "2022-07-11T07:09:22.685932Z"
    }
   },
   "outputs": [
    {
     "data": {
      "text/plain": [
       "Text(0, 0.5, 'Entries')"
      ]
     },
     "execution_count": 42,
     "metadata": {},
     "output_type": "execute_result"
    },
    {
     "data": {
      "image/png": "[encoded data removed]",
      "text/plain": [
       "<Figure size 576x396 with 1 Axes>"
      ]
     },
     "metadata": {},
     "output_type": "display_data"
    }
   ],
   "source": [
    "file = '/home/belle2/jaeyoung/workspace/04_gen/bkg_not_exist/done/D2pippimpi0/ntuple/recon_mdst_e6_gen.root'\n",
    "tree = 'Dstar'\n",
    "base_filter = '()'\n",
    "variables=['pip_E','pim_E','pi0_E','pip_px','pim_px','pi0_px','pip_py','pim_py','pi0_py','pip_pz','pim_pz','pi0_pz']\n",
    "\n",
    "pd_df = get_data(file=file, tree=tree,variables=variables )\n",
    "\n",
    "pd_df['pippi0'] = pd_df.apply(lambda row: compute_3(row), axis=1)"
   ]
  },
  {
   "cell_type": "code",
   "execution_count": null,
   "id": "dad3e626",
   "metadata": {},
   "outputs": [],
   "source": [
    "plt.hist(pd_df['pimpi0'], label=r'bkg',bins=100,  histtype='step') \n",
    "\n",
    "plot_title=r\"$D^0 \\rightarrow \\pi^+ \\pi^- \\pi^0$\"\n",
    "plt.title(plot_title)\n",
    "ax = plt.gca()\n",
    "xlabel = r\"$M(\\pi^-\\pi^0)$\"\n",
    "ax.set_xlabel(xlabel)\n",
    "ax.set_ylabel('Entries')"
   ]
  },
  {
   "cell_type": "code",
   "execution_count": 46,
   "id": "ac195b69",
   "metadata": {
    "ExecuteTime": {
     "end_time": "2022-07-11T07:27:12.049519Z",
     "start_time": "2022-07-11T07:27:11.937923Z"
    }
   },
   "outputs": [],
   "source": [
    "def compute_4(row):\n",
    "    \n",
    "    E = row['km_E'] + row['pip_E']\n",
    "    px = row['km_px'] + row['pip_px']\n",
    "    py = row['km_py'] + row['pip_py']\n",
    "    pz = row['km_pz'] + row['pip_pz']\n",
    "    \n",
    "    InvM = math.sqrt(E*E - (px*px + py*py + pz*pz))\n",
    "    \n",
    "    return InvM"
   ]
  },
  {
   "cell_type": "code",
   "execution_count": 48,
   "id": "7930c603",
   "metadata": {
    "ExecuteTime": {
     "end_time": "2022-07-11T07:28:02.381702Z",
     "start_time": "2022-07-11T07:27:25.193649Z"
    }
   },
   "outputs": [],
   "source": [
    "file = '/home/belle2/jaeyoung/workspace/04_gen/bkg_not_exist/D2kmpippi0/ntuple/recon_mdst_e6_gen.root'\n",
    "tree = 'Dstar'\n",
    "base_filter = '()'\n",
    "variables=['km_E','pip_E','pi0_E','km_px','pip_px','pi0_px','km_py','pip_py','pi0_py','km_pz','pip_pz','pi0_pz']\n",
    "\n",
    "pd_df = get_data(file=file, tree=tree,variables=variables )\n",
    "\n",
    "pd_df['kmpip'] = pd_df.apply(lambda row: compute_4(row), axis=1)"
   ]
  },
  {
   "cell_type": "code",
   "execution_count": 57,
   "id": "02deaf48",
   "metadata": {
    "ExecuteTime": {
     "end_time": "2022-07-11T07:46:54.085091Z",
     "start_time": "2022-07-11T07:46:53.705594Z"
    }
   },
   "outputs": [
    {
     "data": {
      "text/plain": [
       "<matplotlib.lines.Line2D at 0x7f0f4cf90280>"
      ]
     },
     "execution_count": 57,
     "metadata": {},
     "output_type": "execute_result"
    },
    {
     "data": {
      "image/png": "[encoded data removed]",
      "text/plain": [
       "<Figure size 576x396 with 1 Axes>"
      ]
     },
     "metadata": {},
     "output_type": "display_data"
    }
   ],
   "source": [
    "plt.hist(pd_df['kmpip'], label=r'bkg',bins=100,  histtype='step') \n",
    "\n",
    "plot_title=r\"$D^0 \\rightarrow K^- \\pi^+ \\pi^0$\"\n",
    "plt.title(plot_title)\n",
    "ax = plt.gca()\n",
    "xlabel = r\"$M(K^-\\pi^+)$\"\n",
    "ax.set_xlabel(xlabel)\n",
    "ax.set_ylabel('Entries')\n",
    "\n",
    "plt.axvline(x=0.95555,  color='red', linestyle='dotted')\n",
    "plt.axvline(x=0.83555,  color='red', linestyle='dotted')"
   ]
  },
  {
   "cell_type": "code",
   "execution_count": null,
   "id": "27f62b2f",
   "metadata": {},
   "outputs": [],
   "source": []
  },
  {
   "cell_type": "code",
   "execution_count": null,
   "id": "bcfdf2bd",
   "metadata": {},
   "outputs": [],
   "source": []
  }
 ],
 "metadata": {
  "kernelspec": {
   "display_name": "Python 3 (ipykernel)",
   "language": "python",
   "name": "python3"
  },
  "language_info": {
   "codemirror_mode": {
    "name": "ipython",
    "version": 3
   },
   "file_extension": ".py",
   "mimetype": "text/x-python",
   "name": "python",
   "nbconvert_exporter": "python",
   "pygments_lexer": "ipython3",
   "version": "3.10.5"
  },
  "toc": {
   "base_numbering": 1,
   "nav_menu": {},
   "number_sections": true,
   "sideBar": true,
   "skip_h1_title": false,
   "title_cell": "Table of Contents",
   "title_sidebar": "Contents",
   "toc_cell": false,
   "toc_position": {},
   "toc_section_display": true,
   "toc_window_display": false
  },
  "varInspector": {
   "cols": {
    "lenName": 16,
    "lenType": 16,
    "lenVar": 40
   },
   "kernels_config": {
    "python": {
     "delete_cmd_postfix": "",
     "delete_cmd_prefix": "del ",
     "library": "var_list.py",
     "varRefreshCmd": "print(var_dic_list())"
    },
    "r": {
     "delete_cmd_postfix": ") ",
     "delete_cmd_prefix": "rm(",
     "library": "var_list.r",
     "varRefreshCmd": "cat(var_dic_list()) "
    }
   },
   "types_to_exclude": [
    "module",
    "function",
    "builtin_function_or_method",
    "instance",
    "_Feature"
   ],
   "window_display": false
  }
 },
 "nbformat": 4,
 "nbformat_minor": 5
}
