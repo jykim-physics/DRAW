{
 "cells": [
  {
   "cell_type": "code",
   "execution_count": 1,
   "id": "c5de9f4a",
   "metadata": {},
   "outputs": [],
   "source": [
    "%matplotlib inline\n",
    "%load_ext autoreload\n",
    "%autoreload 2\n",
    "import seaborn as sns\n",
    "import matplotlib.pyplot as plt\n",
    "try:\n",
    "    #plt.style.use('belle2')\n",
    "    plt.style.use('belle2_serif')\n",
    "    #plt.style.use('belle2_modern')\n",
    "except OSError:\n",
    "    print(\"Please install belle2 matplotlib style\")   \n",
    "\n",
    "px = 1/plt.rcParams['figure.dpi']"
   ]
  },
  {
   "cell_type": "code",
   "execution_count": 2,
   "id": "69fd2053",
   "metadata": {},
   "outputs": [],
   "source": [
    "import os\n",
    "from os import path\n",
    "from yaml import safe_load\n"
   ]
  },
  {
   "cell_type": "code",
   "execution_count": 3,
   "id": "5dac6e88",
   "metadata": {},
   "outputs": [
    {
     "name": "stdout",
     "output_type": "stream",
     "text": [
      "Welcome to JupyROOT 6.26/00\n",
      "For optimal usage set `plt.style.use('belle2')`\n",
      "['Solarize_Light2', '_classic_test_patch', '_mpl-gallery', '_mpl-gallery-nogrid', 'belle2', 'belle2_modern', 'belle2_serif', 'belle2_wg1', 'bmh', 'classic', 'dark_background', 'fast', 'fivethirtyeight', 'ggplot', 'grayscale', 'seaborn', 'seaborn-bright', 'seaborn-colorblind', 'seaborn-dark', 'seaborn-dark-palette', 'seaborn-darkgrid', 'seaborn-deep', 'seaborn-muted', 'seaborn-notebook', 'seaborn-paper', 'seaborn-pastel', 'seaborn-poster', 'seaborn-talk', 'seaborn-ticks', 'seaborn-white', 'seaborn-whitegrid', 'tableau-colorblind10']\n",
      "/home/jykim/workspace/DRAW/read_yaml_to_dict.py\n",
      "/home/jykim/workspace/DRAW\n",
      "{'Vegetables': ['Pepper', 'Tomato', 'Garlic']}\n"
     ]
    }
   ],
   "source": [
    "from hist.get_data import get_data\n",
    "from hist.bkg_stack import generic_ntuple, get_data_in_module\n",
    "from read_yaml_to_dict import read_yaml_to_dict\n"
   ]
  },
  {
   "cell_type": "code",
   "execution_count": 4,
   "id": "8c3c34e7",
   "metadata": {},
   "outputs": [
    {
     "name": "stdout",
     "output_type": "stream",
     "text": [
      "{'vars': ['D0_M', 'Dstarp_Q', 'D0_cosHel_0', 'Dstarp_CMS_p', 'gamma_E', 'gamma_clusterSecondMoment', '__ncandidates__', '__experiment__', '__run__', '__event__', 'Dstarp_isSignal', 'D0_isSignal'], 'units': {'D0_M': 'M(D^0)', 'Dstarp_Q': 'D^{*+}_Q', 'D0_cosHel_0': '\\\\mathrm{cos}Hel_0', 'gamma_E': 'E_{\\\\gamma}', 'gamma_clusterSecondMoment': 'clusterSecondmoment(\\\\gamma)', '__ncandidates__': 'ncandidiates', '__experiment__': 'experiment', '__run__': 'run', '__event__': 'event', 'Dstarp_isSignal': 'True Dstar', 'D0_isSignal': 'True D0'}}\n"
     ]
    }
   ],
   "source": [
    "plot_variables = read_yaml_to_dict(\"plot_variables\")\n",
    "print(plot_variables)"
   ]
  },
  {
   "cell_type": "code",
   "execution_count": 5,
   "id": "f4335087",
   "metadata": {},
   "outputs": [
    {
     "name": "stdout",
     "output_type": "stream",
     "text": [
      "/home/jykim/workspace/DRAW\n"
     ]
    }
   ],
   "source": [
    "print(os.getcwd())"
   ]
  },
  {
   "cell_type": "code",
   "execution_count": 6,
   "id": "37c0f15e",
   "metadata": {},
   "outputs": [],
   "source": [
    "location='lab'\n",
    "#locatoin='kekcc'\n",
    "location='laptop'"
   ]
  },
  {
   "cell_type": "code",
   "execution_count": 7,
   "id": "e086268b",
   "metadata": {},
   "outputs": [
    {
     "name": "stdout",
     "output_type": "stream",
     "text": [
      "{'pid_0_5': {'ccbar': '/ccbar/pid_0_5_ccbar_recon_output_0*.root', 'charged': '/charged/pid_0_5_charged_recon_output_0*.root', 'mixed': '/mixed/pid_0_5_mixed_recon_output_0*.root', 'uubar': '/uubar/pid_0_5_uubar_recon_output_0*.root', 'ddbar': '/ddbar/pid_0_5_ddbar_recon_output_0*.root', 'ssbar': '/ssbar/pid_0_5_ssbar_recon_output_0*.root', 'taupair': '/taupair/pid_0_5_taupair_recon_output_0*.root'}, 'location': {'kekcc': '/group/belle/users/jaeyoung/storage/01_recon/merge_generic_bkg', 'lab': '/home/jykim/nas/storage/01_recon/merge_generic_bkg', 'home': '', 'laptop': '/media/jykim/ssd_T5/storage/01_recon/merge_generic_bkg'}}\n"
     ]
    }
   ],
   "source": [
    "sample_info = read_yaml_to_dict(\"samples\")\n",
    "print(sample_info)"
   ]
  },
  {
   "cell_type": "code",
   "execution_count": 8,
   "id": "1e1cbc09",
   "metadata": {},
   "outputs": [
    {
     "name": "stdout",
     "output_type": "stream",
     "text": [
      "{'ccbar': '/media/jykim/ssd_T5/storage/01_recon/merge_generic_bkg/ccbar/pid_0_5_ccbar_recon_output_0*.root', 'charged': '/media/jykim/ssd_T5/storage/01_recon/merge_generic_bkg/charged/pid_0_5_charged_recon_output_0*.root', 'mixed': '/media/jykim/ssd_T5/storage/01_recon/merge_generic_bkg/mixed/pid_0_5_mixed_recon_output_0*.root', 'uubar': '/media/jykim/ssd_T5/storage/01_recon/merge_generic_bkg/uubar/pid_0_5_uubar_recon_output_0*.root', 'ddbar': '/media/jykim/ssd_T5/storage/01_recon/merge_generic_bkg/ddbar/pid_0_5_ddbar_recon_output_0*.root', 'ssbar': '/media/jykim/ssd_T5/storage/01_recon/merge_generic_bkg/ssbar/pid_0_5_ssbar_recon_output_0*.root', 'taupair': '/media/jykim/ssd_T5/storage/01_recon/merge_generic_bkg/taupair/pid_0_5_taupair_recon_output_0*.root'}\n"
     ]
    }
   ],
   "source": [
    "for i in sample_info['location']:\n",
    "    if i == location:\n",
    "        ccbar_sample = sample_info['location'][location] + sample_info['pid_0_5']['ccbar']\n",
    "        charged_sample = sample_info['location'][location] + sample_info['pid_0_5']['charged']\n",
    "        mixed_sample = sample_info['location'][location] + sample_info['pid_0_5']['mixed']\n",
    "        uubar_sample = sample_info['location'][location] + sample_info['pid_0_5']['uubar']\n",
    "        ddbar_sample = sample_info['location'][location] + sample_info['pid_0_5']['ddbar']\n",
    "        ssbar_sample = sample_info['location'][location] + sample_info['pid_0_5']['ssbar']\n",
    "        taupair_sample = sample_info['location'][location] + sample_info['pid_0_5']['taupair']\n",
    "        \n",
    "        sample_location={}\n",
    "        sample_location[\"ccbar\"]=ccbar_sample\n",
    "        sample_location[\"charged\"]=charged_sample\n",
    "        sample_location[\"mixed\"]=mixed_sample\n",
    "        sample_location[\"uubar\"]=uubar_sample\n",
    "        sample_location[\"ddbar\"]=ddbar_sample\n",
    "        sample_location[\"ssbar\"]=ssbar_sample\n",
    "        sample_location[\"taupair\"]=taupair_sample\n",
    "        \n",
    "print(sample_location)"
   ]
  },
  {
   "cell_type": "code",
   "execution_count": 10,
   "id": "82dab481",
   "metadata": {},
   "outputs": [
    {
     "name": "stdout",
     "output_type": "stream",
     "text": [
      "['Solarize_Light2', '_classic_test_patch', '_mpl-gallery', '_mpl-gallery-nogrid', 'belle2', 'belle2_modern', 'belle2_serif', 'belle2_wg1', 'bmh', 'classic', 'dark_background', 'fast', 'fivethirtyeight', 'ggplot', 'grayscale', 'seaborn', 'seaborn-bright', 'seaborn-colorblind', 'seaborn-dark', 'seaborn-dark-palette', 'seaborn-darkgrid', 'seaborn-deep', 'seaborn-muted', 'seaborn-notebook', 'seaborn-paper', 'seaborn-pastel', 'seaborn-poster', 'seaborn-talk', 'seaborn-ticks', 'seaborn-white', 'seaborn-whitegrid', 'tableau-colorblind10']\n",
      "['D0_M', 'Dstarp_Q', 'D0_cosHel_0', 'Dstarp_CMS_p', 'gamma_E', 'gamma_clusterSecondMoment', '__ncandidates__', '__experiment__', '__run__', '__event__', 'Dstarp_isSignal', 'D0_isSignal', 'Phi_InvM', 'D0_cosHel_0', 'Phi_InvM', 'D0_cosHel_0']\n"
     ]
    },
    {
     "ename": "runtime_error",
     "evalue": "string ROOT::RDF::RInterface<ROOT::Detail::RDF::RLoopManager,void>::GetColumnType(basic_string_view<char,char_traits<char> > column) =>\n    runtime_error: Column \"D0_M\" is not in a dataset and is not a custom column been defined.",
     "output_type": "error",
     "traceback": [
      "\u001b[0;31m---------------------------------------------------------------------------\u001b[0m",
      "\u001b[0;31mruntime_error\u001b[0m                             Traceback (most recent call last)",
      "Input \u001b[0;32mIn [10]\u001b[0m, in \u001b[0;36m<cell line: 1>\u001b[0;34m()\u001b[0m\n\u001b[0;32m----> 1\u001b[0m pd_df \u001b[38;5;241m=\u001b[39m \u001b[43mgeneric_ntuple\u001b[49m\u001b[43m(\u001b[49m\u001b[43mvector\u001b[49m\u001b[38;5;241;43m=\u001b[39;49m\u001b[38;5;124;43m'\u001b[39;49m\u001b[38;5;124;43mphi\u001b[39;49m\u001b[38;5;124;43m'\u001b[39;49m\u001b[43m,\u001b[49m\u001b[43m \u001b[49m\u001b[43mvariables_dict\u001b[49m\u001b[38;5;241;43m=\u001b[39;49m\u001b[43mplot_variables\u001b[49m\u001b[43m,\u001b[49m\u001b[43msample_location\u001b[49m\u001b[38;5;241;43m=\u001b[39;49m\u001b[43msample_location\u001b[49m\u001b[43m)\u001b[49m\n",
      "File \u001b[0;32m~/workspace/DRAW/hist/bkg_stack.py:142\u001b[0m, in \u001b[0;36mgeneric_ntuple\u001b[0;34m(loc, all_stack, file, vector, figname, option, add_base_filter, add_t_filter, add_f_filter, bins, variables_dict, sample_location)\u001b[0m\n\u001b[1;32m    140\u001b[0m \u001b[38;5;28;01melif\u001b[39;00m f_type\u001b[38;5;241m==\u001b[39m\u001b[38;5;124m'\u001b[39m\u001b[38;5;124muubar\u001b[39m\u001b[38;5;124m'\u001b[39m:\n\u001b[1;32m    141\u001b[0m     file \u001b[38;5;241m=\u001b[39m sample_location[f_type]\n\u001b[0;32m--> 142\u001b[0m     uubar_pd_df \u001b[38;5;241m=\u001b[39m \u001b[43mget_data_in_module\u001b[49m\u001b[43m(\u001b[49m\u001b[43mfile\u001b[49m\u001b[38;5;241;43m=\u001b[39;49m\u001b[43mfile\u001b[49m\u001b[43m,\u001b[49m\u001b[43m \u001b[49m\u001b[43msample\u001b[49m\u001b[38;5;241;43m=\u001b[39;49m\u001b[43mf_type\u001b[49m\u001b[43m,\u001b[49m\u001b[43m \u001b[49m\u001b[43mtree\u001b[49m\u001b[38;5;241;43m=\u001b[39;49m\u001b[43mtree\u001b[49m\u001b[43m,\u001b[49m\u001b[43mvariables\u001b[49m\u001b[38;5;241;43m=\u001b[39;49m\u001b[43mvariables\u001b[49m\u001b[43m)\u001b[49m        \n\u001b[1;32m    143\u001b[0m \u001b[38;5;28;01melif\u001b[39;00m f_type\u001b[38;5;241m==\u001b[39m\u001b[38;5;124m'\u001b[39m\u001b[38;5;124mddbar\u001b[39m\u001b[38;5;124m'\u001b[39m:\n\u001b[1;32m    144\u001b[0m     file \u001b[38;5;241m=\u001b[39m sample_location[f_type]\n",
      "File \u001b[0;32m~/workspace/DRAW/hist/bkg_stack.py:57\u001b[0m, in \u001b[0;36mget_data_in_module\u001b[0;34m(file, sample, tree, base_filter, variables)\u001b[0m\n\u001b[1;32m     55\u001b[0m     col_dict  \u001b[38;5;241m=\u001b[39m ROOT_df_filtered\u001b[38;5;241m.\u001b[39mAsNumpy(variables)\n\u001b[1;32m     56\u001b[0m \u001b[38;5;28;01melse\u001b[39;00m:\n\u001b[0;32m---> 57\u001b[0m     col_dict  \u001b[38;5;241m=\u001b[39m \u001b[43mROOT_df_start\u001b[49m\u001b[38;5;241;43m.\u001b[39;49m\u001b[43mAsNumpy\u001b[49m\u001b[43m(\u001b[49m\u001b[43mvariables\u001b[49m\u001b[43m)\u001b[49m\n\u001b[1;32m     59\u001b[0m pd_df  \u001b[38;5;241m=\u001b[39m pd\u001b[38;5;241m.\u001b[39mDataFrame(col_dict)\n\u001b[1;32m     60\u001b[0m pd_df[\u001b[38;5;124m'\u001b[39m\u001b[38;5;124mclass\u001b[39m\u001b[38;5;124m'\u001b[39m] \u001b[38;5;241m=\u001b[39m sample\n",
      "File \u001b[0;32m~/anaconda3/envs/draw/lib/python3.10/site-packages/ROOT/_pythonization/_rdataframe.py:79\u001b[0m, in \u001b[0;36mRDataFrameAsNumpy\u001b[0;34m(df, columns, exclude, lazy)\u001b[0m\n\u001b[1;32m     77\u001b[0m result_ptrs \u001b[38;5;241m=\u001b[39m {}\n\u001b[1;32m     78\u001b[0m \u001b[38;5;28;01mfor\u001b[39;00m column \u001b[38;5;129;01min\u001b[39;00m columns:\n\u001b[0;32m---> 79\u001b[0m     column_type \u001b[38;5;241m=\u001b[39m \u001b[43mdf\u001b[49m\u001b[38;5;241;43m.\u001b[39;49m\u001b[43mGetColumnType\u001b[49m\u001b[43m(\u001b[49m\u001b[43mcolumn\u001b[49m\u001b[43m)\u001b[49m\n\u001b[1;32m     80\u001b[0m     result_ptrs[column] \u001b[38;5;241m=\u001b[39m df\u001b[38;5;241m.\u001b[39mTake[column_type](column)\n\u001b[1;32m     82\u001b[0m result \u001b[38;5;241m=\u001b[39m AsNumpyResult(result_ptrs, columns)\n",
      "\u001b[0;31mruntime_error\u001b[0m: string ROOT::RDF::RInterface<ROOT::Detail::RDF::RLoopManager,void>::GetColumnType(basic_string_view<char,char_traits<char> > column) =>\n    runtime_error: Column \"D0_M\" is not in a dataset and is not a custom column been defined."
     ]
    }
   ],
   "source": [
    "pd_df = generic_ntuple(vector='phi', variables_dict=plot_variables,sample_location=sample_location)"
   ]
  },
  {
   "cell_type": "code",
   "execution_count": 49,
   "id": "bb56b1de",
   "metadata": {},
   "outputs": [
    {
     "data": {
      "text/plain": [
       "(array([ 85., 113.,  88.,  86.,  83.,  93.,  93.,  95., 107., 104.,  81.,\n",
       "         97.,  75.,  77.,  99.,  79.,  82.,  76.,  92.,  90.,  83.,  79.,\n",
       "         80.,  68.,  80.,  74.,  79.,  85.,  76.,  68.,  76.,  70.,  85.,\n",
       "         77.,  77.,  73.,  71.,  67.,  62.,  85.,  69.,  70.,  69.,  64.,\n",
       "         78.,  59.,  72.,  60.,  69.,  72.,  70.,  68.,  66.,  53.,  67.,\n",
       "         62.,  61.,  66.,  52.,  60.,  66.,  43.,  49.,  51.,  46.,  48.,\n",
       "         49.,  53.,  42.,  50.,  45.,  54.,  60.,  35.,  50.,  52.,  45.,\n",
       "         43.,  37.,  37.,  40.,  40.,  23.,  52.,  44.,  45.,  39.,  45.,\n",
       "         34.,  45.,  40.,  46.,  39.,  33.,  43.,  34.,  33.,  33.,  31.,\n",
       "         35.]),\n",
       " array([1.66504574, 1.66904329, 1.67304084, 1.6770384 , 1.68103595,\n",
       "        1.6850335 , 1.68903105, 1.6930286 , 1.69702616, 1.70102371,\n",
       "        1.70502126, 1.70901881, 1.71301637, 1.71701392, 1.72101147,\n",
       "        1.72500902, 1.72900658, 1.73300413, 1.73700168, 1.74099923,\n",
       "        1.74499679, 1.74899434, 1.75299189, 1.75698944, 1.760987  ,\n",
       "        1.76498455, 1.7689821 , 1.77297965, 1.77697721, 1.78097476,\n",
       "        1.78497231, 1.78896986, 1.79296741, 1.79696497, 1.80096252,\n",
       "        1.80496007, 1.80895762, 1.81295518, 1.81695273, 1.82095028,\n",
       "        1.82494783, 1.82894539, 1.83294294, 1.83694049, 1.84093804,\n",
       "        1.8449356 , 1.84893315, 1.8529307 , 1.85692825, 1.86092581,\n",
       "        1.86492336, 1.86892091, 1.87291846, 1.87691602, 1.88091357,\n",
       "        1.88491112, 1.88890867, 1.89290622, 1.89690378, 1.90090133,\n",
       "        1.90489888, 1.90889643, 1.91289399, 1.91689154, 1.92088909,\n",
       "        1.92488664, 1.9288842 , 1.93288175, 1.9368793 , 1.94087685,\n",
       "        1.94487441, 1.94887196, 1.95286951, 1.95686706, 1.96086462,\n",
       "        1.96486217, 1.96885972, 1.97285727, 1.97685483, 1.98085238,\n",
       "        1.98484993, 1.98884748, 1.99284503, 1.99684259, 2.00084014,\n",
       "        2.00483769, 2.00883524, 2.0128328 , 2.01683035, 2.0208279 ,\n",
       "        2.02482545, 2.02882301, 2.03282056, 2.03681811, 2.04081566,\n",
       "        2.04481322, 2.04881077, 2.05280832, 2.05680587, 2.06080343,\n",
       "        2.06480098]),\n",
       " [<matplotlib.patches.Polygon at 0x7f71993963e0>])"
      ]
     },
     "execution_count": 49,
     "metadata": {},
     "output_type": "execute_result"
    },
    {
     "data": {
      "image/png": "[encoded data removed]",
      "text/plain": [
       "<Figure size 576x396 with 1 Axes>"
      ]
     },
     "metadata": {},
     "output_type": "display_data"
    }
   ],
   "source": [
    "plt.hist(pd_df.D0_M , label=r'$\\rho^0$ bkg',bins=100,  histtype='step') "
   ]
  },
  {
   "cell_type": "code",
   "execution_count": 21,
   "id": "dcfe53b6",
   "metadata": {},
   "outputs": [
    {
     "name": "stdout",
     "output_type": "stream",
     "text": [
      "             D0_M\n",
      "count  494.000000\n",
      "mean     1.843708\n",
      "std      0.114045\n",
      "min      1.665349\n",
      "25%      1.743349\n",
      "50%      1.837982\n",
      "75%      1.933589\n",
      "max      2.064288\n"
     ]
    }
   ],
   "source": [
    "#file = '/group/belle/users/jaeyoung/storage/01_recon/train/recon_output.root'\n",
    "# file = '/home/jykim/nas/storage/01_recon/merge_generic_bkg/ccbar/train_v1_yes_signal_ccbar_recon_output_0*.root'\n",
    "file = charged_sample\n",
    "#file = '/group/belle/users/jaeyoung/storage/01_recon/merge_generic_bkg/charged/train_v1_yes_signal_charged_recon_output_01.root'\n",
    "tree = 'rho'\n",
    "base_filter = '(D0_M>1.665 && D0_M<2.065) && (gamma_E>0.55)  && ( abs(Rho_M- 0.77526) < 0.150 ) &&  Dstarp_CMS_p>2.72 && abs(Dstarp_Q-0.00593)<0.0006'\n",
    "#variables=['pip_E','pim_E','pi0_E','pip_px','pim_px','pi0_px','pip_py','pim_py','pi0_py','pip_pz','pim_pz','pi0_pz']\n",
    "variables=['D0_M']\n",
    "\n",
    "pd_df = get_data(file=file, tree=tree,variables=variables ,base_filter=base_filter)\n",
    "print(pd_df.describe())\n"
   ]
  },
  {
   "cell_type": "code",
   "execution_count": 22,
   "id": "60e666f7",
   "metadata": {},
   "outputs": [
    {
     "data": {
      "text/plain": [
       "<matplotlib.legend.Legend at 0x7fb3ef741120>"
      ]
     },
     "execution_count": 22,
     "metadata": {},
     "output_type": "execute_result"
    },
    {
     "data": {
      "image/png": "[encoded data removed]",
      "text/plain": [
       "<Figure size 576x396 with 1 Axes>"
      ]
     },
     "metadata": {},
     "output_type": "display_data"
    }
   ],
   "source": [
    "plt.hist(pd_df['D0_M'], label=r'$\\rho^0$ bkg',bins=100,  histtype='step') \n",
    "ax = plt.gca()\n",
    "ax.set_xlim(1.665, 2.065)   \n",
    "xlabel = r'$M(D^0)$ $[\\mathrm{GeV}/c^2]$ '\n",
    "plot_title =  '0.7$ab^{-1}$ ccbar'\n",
    "\n",
    "ax.set_xlabel(xlabel)\n",
    "plt.title(plot_title)\n",
    "plt.legend()"
   ]
  },
  {
   "cell_type": "code",
   "execution_count": null,
   "id": "d94f3422",
   "metadata": {},
   "outputs": [],
   "source": []
  },
  {
   "cell_type": "code",
   "execution_count": null,
   "id": "88efde0b",
   "metadata": {},
   "outputs": [],
   "source": []
  }
 ],
 "metadata": {
  "kernelspec": {
   "display_name": "Python 3 (ipykernel)",
   "language": "python",
   "name": "python3"
  },
  "language_info": {
   "codemirror_mode": {
    "name": "ipython",
    "version": 3
   },
   "file_extension": ".py",
   "mimetype": "text/x-python",
   "name": "python",
   "nbconvert_exporter": "python",
   "pygments_lexer": "ipython3",
   "version": "3.10.4"
  }
 },
 "nbformat": 4,
 "nbformat_minor": 5
}
