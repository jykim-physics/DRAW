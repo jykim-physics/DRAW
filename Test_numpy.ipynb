{
 "cells": [
  {
   "cell_type": "code",
   "execution_count": 9,
   "id": "a91e537e",
   "metadata": {},
   "outputs": [],
   "source": [
    "import matplotlib.pyplot as plt\n",
    "import numpy as np\n",
    "import ROOT"
   ]
  },
  {
   "cell_type": "code",
   "execution_count": 10,
   "id": "46ccbece",
   "metadata": {},
   "outputs": [],
   "source": [
    "import b2plot as bp\n",
    "plt.style.use('belle2_modern')"
   ]
  },
  {
   "cell_type": "code",
   "execution_count": 11,
   "id": "99af4528",
   "metadata": {},
   "outputs": [],
   "source": [
    "f='/media/jykim/ssd_T5/storage/01_recon/phi/v2_all_signalMC_recon_mdst_phi.root'\n",
    "tree='phi'"
   ]
  },
  {
   "cell_type": "code",
   "execution_count": 12,
   "id": "f923b1f8",
   "metadata": {},
   "outputs": [],
   "source": [
    "variables = ['D0_M']"
   ]
  },
  {
   "cell_type": "code",
   "execution_count": 13,
   "id": "1e45ca24",
   "metadata": {},
   "outputs": [],
   "source": [
    "ROOT_df_rdataframe = ROOT.RDataFrame(tree, f)"
   ]
  },
  {
   "cell_type": "code",
   "execution_count": 14,
   "id": "4c890d9c",
   "metadata": {},
   "outputs": [],
   "source": [
    "df_np_array  = ROOT_df_rdataframe.AsNumpy(variables)"
   ]
  },
  {
   "cell_type": "code",
   "execution_count": 15,
   "id": "adf292de",
   "metadata": {},
   "outputs": [
    {
     "data": {
      "text/plain": [
       "ndarray([1.88540602, 1.86162031, 1.83184099, ..., 1.8513068 , 1.86122262,\n",
       "         1.86981761])"
      ]
     },
     "execution_count": 15,
     "metadata": {},
     "output_type": "execute_result"
    }
   ],
   "source": [
    "df_np_array['D0_M']"
   ]
  },
  {
   "cell_type": "code",
   "execution_count": 16,
   "id": "1c1f53a5",
   "metadata": {},
   "outputs": [
    {
     "data": {
      "image/png": "[encoded data removed]",
      "text/plain": [
       "<Figure size 800x550 with 1 Axes>"
      ]
     },
     "metadata": {},
     "output_type": "display_data"
    }
   ],
   "source": [
    "plt.hist(df_np_array['D0_M']);"
   ]
  },
  {
   "cell_type": "code",
   "execution_count": null,
   "id": "cc030f03",
   "metadata": {},
   "outputs": [],
   "source": []
  }
 ],
 "metadata": {
  "kernelspec": {
   "display_name": "Python 3 (ipykernel)",
   "language": "python",
   "name": "python3"
  },
  "language_info": {
   "codemirror_mode": {
    "name": "ipython",
    "version": 3
   },
   "file_extension": ".py",
   "mimetype": "text/x-python",
   "name": "python",
   "nbconvert_exporter": "python",
   "pygments_lexer": "ipython3",
   "version": "3.10.5"
  },
  "toc": {
   "base_numbering": 1,
   "nav_menu": {},
   "number_sections": true,
   "sideBar": true,
   "skip_h1_title": false,
   "title_cell": "Table of Contents",
   "title_sidebar": "Contents",
   "toc_cell": false,
   "toc_position": {},
   "toc_section_display": true,
   "toc_window_display": false
  }
 },
 "nbformat": 4,
 "nbformat_minor": 5
}
