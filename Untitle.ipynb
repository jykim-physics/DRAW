{
 "cells": [
  {
   "cell_type": "code",
   "execution_count": 1,
   "id": "c5de9f4a",
   "metadata": {},
   "outputs": [],
   "source": [
    "%matplotlib inline\n",
    "%load_ext autoreload\n",
    "%autoreload 2\n",
    "import seaborn as sns\n",
    "import matplotlib.pyplot as plt\n",
    "try:\n",
    "    #plt.style.use('belle2')\n",
    "    plt.style.use('belle2_serif'\n",
    "                 )\n",
    "    #plt.style.use('belle2_modern')\n",
    "except OSError:\n",
    "    print(\"Please install belle2 matplotlib style\")   \n",
    "\n",
    "px = 1/plt.rcParams['figure.dpi']"
   ]
  },
  {
   "cell_type": "code",
   "execution_count": 2,
   "id": "69fd2053",
   "metadata": {},
   "outputs": [
    {
     "name": "stdout",
     "output_type": "stream",
     "text": [
      "Welcome to JupyROOT 6.26/04\n",
      "For optimal usage set `plt.style.use('belle2')`\n",
      "['Solarize_Light2', '_classic_test_patch', '_mpl-gallery', '_mpl-gallery-nogrid', 'belle2', 'belle2_modern', 'belle2_serif', 'belle2_wg1', 'bmh', 'classic', 'dark_background', 'fast', 'fivethirtyeight', 'ggplot', 'grayscale', 'seaborn', 'seaborn-bright', 'seaborn-colorblind', 'seaborn-dark', 'seaborn-dark-palette', 'seaborn-darkgrid', 'seaborn-deep', 'seaborn-muted', 'seaborn-notebook', 'seaborn-paper', 'seaborn-pastel', 'seaborn-poster', 'seaborn-talk', 'seaborn-ticks', 'seaborn-white', 'seaborn-whitegrid', 'tableau-colorblind10']\n",
      "/home/jykim/workspace/DRAW/read_yaml_to_dict.py\n",
      "/home/jykim/workspace/DRAW\n",
      "{'Vegetables': ['Pepper', 'Tomato', 'Garlic']}\n",
      "/home/jykim/workspace/DRAW\n"
     ]
    }
   ],
   "source": [
    "import os\n",
    "import pandas as pd\n",
    "from pandas import HDFStore\n",
    "from os import path\n",
    "from yaml import safe_load\n",
    "\n",
    "from hist.get_data import get_data\n",
    "from hist.bkg_stack import generic_ntuple, get_data_in_module\n",
    "from read_yaml_to_dict import read_yaml_to_dict\n",
    "from src.sample_name import sample_name\n",
    "\n",
    "print(os.getcwd())"
   ]
  },
  {
   "cell_type": "code",
   "execution_count": 3,
   "id": "b8fcbcc3",
   "metadata": {},
   "outputs": [
    {
     "name": "stdout",
     "output_type": "stream",
     "text": [
      "{'vars': ['D0_M', 'Dstarp_Q', 'D0_cosHel_0', 'Dstarp_CMS_p', 'gamma_E', 'gamma_clusterSecondMoment', '__ncandidates__', '__experiment__', '__run__', '__event__', 'Dstarp_isSignal', 'D0_isSignal'], 'units': {'D0_M': 'M(D^0)', 'Dstarp_Q': 'D^{*+}_Q', 'D0_cosHel_0': '\\\\mathrm{cos}Hel_0', 'gamma_E': 'E_{\\\\gamma}', 'gamma_clusterSecondMoment': 'clusterSecondmoment(\\\\gamma)', '__ncandidates__': 'ncandidiates', '__experiment__': 'experiment', '__run__': 'run', '__event__': 'event', 'Dstarp_isSignal': 'True Dstar', 'D0_isSignal': 'True D0'}}\n"
     ]
    }
   ],
   "source": [
    "plot_variables = read_yaml_to_dict(\"plot_variables\")\n",
    "print(plot_variables)"
   ]
  },
  {
   "cell_type": "code",
   "execution_count": 4,
   "id": "86900e31",
   "metadata": {},
   "outputs": [],
   "source": [
    "location='lab_local'\n",
    "#locatoin='kekcc'\n",
    "#location='laptop'"
   ]
  },
  {
   "cell_type": "code",
   "execution_count": 5,
   "id": "0736233e",
   "metadata": {},
   "outputs": [
    {
     "name": "stdout",
     "output_type": "stream",
     "text": [
      "{'pid_0_5': {'ccbar': '/ccbar/pid_0_5_ccbar_recon_output_0*.root', 'charged': '/charged/pid_0_5_charged_recon_output_0*.root', 'mixed': '/mixed/pid_0_5_mixed_recon_output_0*.root', 'uubar': '/uubar/pid_0_5_uubar_recon_output_0*.root', 'ddbar': '/ddbar/pid_0_5_ddbar_recon_output_0*.root', 'ssbar': '/ssbar/pid_0_5_ssbar_recon_output_0*.root', 'taupair': '/taupair/pid_0_5_taupair_recon_output_0*.root'}, 'pid_0_5_no_signal': {'ccbar': '/ccbar/pid_0_5_no_signal_ccbar_recon_output_0*.root', 'charged': '/charged/pid_0_5_charged_recon_output_0*.root', 'mixed': '/mixed/pid_0_5_mixed_recon_output_0*.root', 'uubar': '/uubar/pid_0_5_uubar_recon_output_0*.root', 'ddbar': '/ddbar/pid_0_5_ddbar_recon_output_0*.root', 'ssbar': '/ssbar/pid_0_5_ssbar_recon_output_0*.root', 'taupair': '/taupair/pid_0_5_taupair_recon_output_0*.root'}, 'location': {'kekcc': '/group/belle/users/jaeyoung/storage/01_recon/merge_generic_bkg', 'lab_nas': '/home/jykim/nas/storage/01_recon/merge_generic_bkg', 'lab_local': '/home/jykim/Downloads/pid_0_5', 'home': '', 'laptop': '/media/jykim/ssd_T5/storage/01_recon/merge_generic_bkg'}}\n"
     ]
    }
   ],
   "source": [
    "sample_info = read_yaml_to_dict(\"samples\")\n",
    "print(sample_info)"
   ]
  },
  {
   "cell_type": "code",
   "execution_count": 17,
   "id": "9015fb99",
   "metadata": {},
   "outputs": [],
   "source": [
    "option = 'pid_0_5'\n",
    "option = 'pid_0_5_no_signal'\n",
    "\n",
    "sample_loc=sample_name(option=option, location=location, sample_info=sample_info) \n",
    "#sample_loc=sample_name(option='pid_0_5_no_signal', location=location) \n",
    "#print(sample_loc )"
   ]
  },
  {
   "cell_type": "code",
   "execution_count": 18,
   "id": "9186db52",
   "metadata": {},
   "outputs": [],
   "source": [
    "List = ['phi', 'antiKstar', 'rho', 'omega']"
   ]
  },
  {
   "cell_type": "code",
   "execution_count": 19,
   "id": "80261153",
   "metadata": {},
   "outputs": [
    {
     "name": "stdout",
     "output_type": "stream",
     "text": [
      "['D0_M', 'Dstarp_Q', 'D0_cosHel_0', 'Dstarp_CMS_p', 'gamma_E', 'gamma_clusterSecondMoment', '__ncandidates__', '__experiment__', '__run__', '__event__', 'Dstarp_isSignal', 'D0_isSignal', 'Phi_InvM', 'D0_cosHel_0']\n",
      "['D0_M', 'Dstarp_Q', 'D0_cosHel_0', 'Dstarp_CMS_p', 'gamma_E', 'gamma_clusterSecondMoment', '__ncandidates__', '__experiment__', '__run__', '__event__', 'Dstarp_isSignal', 'D0_isSignal', 'antiKstar_InvM', 'D0_cosHel_0']\n",
      "['D0_M', 'Dstarp_Q', 'D0_cosHel_0', 'Dstarp_CMS_p', 'gamma_E', 'gamma_clusterSecondMoment', '__ncandidates__', '__experiment__', '__run__', '__event__', 'Dstarp_isSignal', 'D0_isSignal', 'Rho_InvM', 'D0_cosHel_0']\n",
      "['D0_M', 'Dstarp_Q', 'D0_cosHel_0', 'Dstarp_CMS_p', 'gamma_E', 'gamma_clusterSecondMoment', '__ncandidates__', '__experiment__', '__run__', '__event__', 'Dstarp_isSignal', 'D0_isSignal', 'D0_cosHel_2', 'Omega_InvM']\n"
     ]
    }
   ],
   "source": [
    "for mode in List:\n",
    "    if mode == 'phi':\n",
    "        plot_variables = read_yaml_to_dict(\"plot_variables\")\n",
    "        pd_phi = generic_ntuple(vector=mode, variables_dict=plot_variables,sample_location=sample_loc)\n",
    "    elif mode == 'antiKstar':\n",
    "        plot_variables = read_yaml_to_dict(\"plot_variables\")\n",
    "        pd_antiKstar = generic_ntuple(vector=mode, variables_dict=plot_variables,sample_location=sample_loc)\n",
    "    elif mode == 'rho':\n",
    "        plot_variables = read_yaml_to_dict(\"plot_variables\")\n",
    "        pd_rho = generic_ntuple(vector=mode, variables_dict=plot_variables,sample_location=sample_loc)\n",
    "    elif mode == 'omega':\n",
    "        plot_variables = read_yaml_to_dict(\"plot_variables\")\n",
    "        pd_omega = generic_ntuple(vector=mode, variables_dict=plot_variables,sample_location=sample_loc)\n",
    "        "
   ]
  },
  {
   "cell_type": "code",
   "execution_count": 20,
   "id": "0255d5ed",
   "metadata": {},
   "outputs": [],
   "source": [
    "for mode in List:\n",
    "    if mode == 'phi':\n",
    "        pd_phi.to_hdf(option + \"_\" + mode + \".h5\",key='jykim', mode='w') \n",
    "    elif mode == 'antiKstar':\n",
    "        pd_antiKstar.to_hdf(option + \"_\" + mode + \".h5\",key='jykim', mode='w') \n",
    "    elif mode == 'rho':\n",
    "        pd_rho.to_hdf(option + \"_\" + mode + \".h5\",key='jykim', mode='w') \n",
    "    elif mode =='omega':  \n",
    "        pd_omega.to_hdf(option + \"_\" + mode + \".h5\",key='jykim', mode='w') \n",
    "\n"
   ]
  },
  {
   "cell_type": "code",
   "execution_count": null,
   "id": "8d8b8ee0",
   "metadata": {},
   "outputs": [],
   "source": []
  },
  {
   "cell_type": "code",
   "execution_count": null,
   "id": "3e070f28",
   "metadata": {},
   "outputs": [],
   "source": []
  },
  {
   "cell_type": "code",
   "execution_count": null,
   "id": "971cec6d",
   "metadata": {},
   "outputs": [],
   "source": []
  }
 ],
 "metadata": {
  "kernelspec": {
   "display_name": "Python 3 (ipykernel)",
   "language": "python",
   "name": "python3"
  },
  "language_info": {
   "codemirror_mode": {
    "name": "ipython",
    "version": 3
   },
   "file_extension": ".py",
   "mimetype": "text/x-python",
   "name": "python",
   "nbconvert_exporter": "python",
   "pygments_lexer": "ipython3",
   "version": "3.10.5"
  }
 },
 "nbformat": 4,
 "nbformat_minor": 5
}
