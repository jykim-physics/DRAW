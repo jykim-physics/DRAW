{
 "cells": [
  {
   "cell_type": "code",
   "execution_count": 1,
   "id": "c5de9f4a",
   "metadata": {},
   "outputs": [],
   "source": [
    "%matplotlib inline\n",
    "%load_ext autoreload\n",
    "%autoreload 2\n",
    "import seaborn as sns\n",
    "import matplotlib.pyplot as plt\n",
    "try:\n",
    "    #plt.style.use('belle2')\n",
    "    plt.style.use('belle2_serif')\n",
    "    #plt.style.use('belle2_modern')\n",
    "except OSError:\n",
    "    print(\"Please install belle2 matplotlib style\")   \n",
    "\n",
    "px = 1/plt.rcParams['figure.dpi']"
   ]
  },
  {
   "cell_type": "code",
   "execution_count": 2,
   "id": "69fd2053",
   "metadata": {},
   "outputs": [
    {
     "name": "stdout",
     "output_type": "stream",
     "text": [
      "Welcome to JupyROOT 6.26/00\n",
      "For optimal usage set `plt.style.use('belle2')`\n",
      "['Solarize_Light2', '_classic_test_patch', '_mpl-gallery', '_mpl-gallery-nogrid', 'belle2', 'belle2_modern', 'belle2_serif', 'belle2_wg1', 'bmh', 'classic', 'dark_background', 'fast', 'fivethirtyeight', 'ggplot', 'grayscale', 'seaborn', 'seaborn-bright', 'seaborn-colorblind', 'seaborn-dark', 'seaborn-dark-palette', 'seaborn-darkgrid', 'seaborn-deep', 'seaborn-muted', 'seaborn-notebook', 'seaborn-paper', 'seaborn-pastel', 'seaborn-poster', 'seaborn-talk', 'seaborn-ticks', 'seaborn-white', 'seaborn-whitegrid', 'tableau-colorblind10']\n",
      "/home/jykim/workspace/DRAW/read_yaml_to_dict.py\n",
      "/home/jykim/workspace/DRAW\n",
      "{'Vegetables': ['Pepper', 'Tomato', 'Garlic']}\n",
      "/home/jykim/workspace/DRAW\n"
     ]
    }
   ],
   "source": [
    "import os\n",
    "from os import path\n",
    "from yaml import safe_load\n",
    "\n",
    "from hist.get_data import get_data\n",
    "from hist.bkg_stack import generic_ntuple, get_data_in_module\n",
    "from read_yaml_to_dict import read_yaml_to_dict\n",
    "\n",
    "print(os.getcwd())"
   ]
  },
  {
   "cell_type": "code",
   "execution_count": 3,
   "id": "b8fcbcc3",
   "metadata": {},
   "outputs": [
    {
     "name": "stdout",
     "output_type": "stream",
     "text": [
      "{'vars': ['D0_M', 'Dstarp_Q', 'D0_cosHel_0', 'Dstarp_CMS_p', 'gamma_E', 'gamma_clusterSecondMoment', '__ncandidates__', '__experiment__', '__run__', '__event__', 'Dstarp_isSignal', 'D0_isSignal'], 'units': {'D0_M': 'M(D^0)', 'Dstarp_Q': 'D^{*+}_Q', 'D0_cosHel_0': '\\\\mathrm{cos}Hel_0', 'gamma_E': 'E_{\\\\gamma}', 'gamma_clusterSecondMoment': 'clusterSecondmoment(\\\\gamma)', '__ncandidates__': 'ncandidiates', '__experiment__': 'experiment', '__run__': 'run', '__event__': 'event', 'Dstarp_isSignal': 'True Dstar', 'D0_isSignal': 'True D0'}}\n"
     ]
    }
   ],
   "source": [
    "plot_variables = read_yaml_to_dict(\"plot_variables\")\n",
    "print(plot_variables)"
   ]
  },
  {
   "cell_type": "code",
   "execution_count": 4,
   "id": "86900e31",
   "metadata": {},
   "outputs": [],
   "source": [
    "location='lab'\n",
    "#locatoin='kekcc'\n",
    "location='laptop'"
   ]
  },
  {
   "cell_type": "code",
   "execution_count": 5,
   "id": "0736233e",
   "metadata": {},
   "outputs": [
    {
     "name": "stdout",
     "output_type": "stream",
     "text": [
      "{'pid_0_5': {'ccbar': '/ccbar/pid_0_5_ccbar_recon_output_0*.root', 'charged': '/charged/pid_0_5_charged_recon_output_0*.root', 'mixed': '/mixed/pid_0_5_mixed_recon_output_0*.root', 'uubar': '/uubar/pid_0_5_uubar_recon_output_0*.root', 'ddbar': '/ddbar/pid_0_5_ddbar_recon_output_0*.root', 'ssbar': '/ssbar/pid_0_5_ssbar_recon_output_0*.root', 'taupair': '/taupair/pid_0_5_taupair_recon_output_0*.root'}, 'location': {'kekcc': '/group/belle/users/jaeyoung/storage/01_recon/merge_generic_bkg', 'lab': '/home/jykim/nas/storage/01_recon/merge_generic_bkg', 'home': '', 'laptop': '/media/jykim/ssd_T5/storage/01_recon/merge_generic_bkg'}}\n"
     ]
    }
   ],
   "source": [
    "sample_info = read_yaml_to_dict(\"samples\")\n",
    "print(sample_info)"
   ]
  },
  {
   "cell_type": "code",
   "execution_count": 6,
   "id": "9015fb99",
   "metadata": {},
   "outputs": [
    {
     "name": "stdout",
     "output_type": "stream",
     "text": [
      "{'ccbar': '/media/jykim/ssd_T5/storage/01_recon/merge_generic_bkg/ccbar/pid_0_5_ccbar_recon_output_0*.root', 'charged': '/media/jykim/ssd_T5/storage/01_recon/merge_generic_bkg/charged/pid_0_5_charged_recon_output_0*.root', 'mixed': '/media/jykim/ssd_T5/storage/01_recon/merge_generic_bkg/mixed/pid_0_5_mixed_recon_output_0*.root', 'uubar': '/media/jykim/ssd_T5/storage/01_recon/merge_generic_bkg/uubar/pid_0_5_uubar_recon_output_0*.root', 'ddbar': '/media/jykim/ssd_T5/storage/01_recon/merge_generic_bkg/ddbar/pid_0_5_ddbar_recon_output_0*.root', 'ssbar': '/media/jykim/ssd_T5/storage/01_recon/merge_generic_bkg/ssbar/pid_0_5_ssbar_recon_output_0*.root', 'taupair': '/media/jykim/ssd_T5/storage/01_recon/merge_generic_bkg/taupair/pid_0_5_taupair_recon_output_0*.root'}\n"
     ]
    }
   ],
   "source": [
    "def sample_name(option=None, location=None ):\n",
    "\n",
    "    for i in sample_info['location']:\n",
    "        if i == location:\n",
    "            ccbar_sample = sample_info['location'][location] + sample_info[option]['ccbar']\n",
    "            charged_sample = sample_info['location'][location] + sample_info[option]['charged']\n",
    "            mixed_sample = sample_info['location'][location] + sample_info[option]['mixed']\n",
    "            uubar_sample = sample_info['location'][location] + sample_info[option]['uubar']\n",
    "            ddbar_sample = sample_info['location'][location] + sample_info[option]['ddbar']\n",
    "            ssbar_sample = sample_info['location'][location] + sample_info[option]['ssbar']\n",
    "            taupair_sample = sample_info['location'][location] + sample_info[option]['taupair']\n",
    "\n",
    "            sample_location={}\n",
    "            sample_location[\"ccbar\"]=ccbar_sample\n",
    "            sample_location[\"charged\"]=charged_sample\n",
    "            sample_location[\"mixed\"]=mixed_sample\n",
    "            sample_location[\"uubar\"]=uubar_sample\n",
    "            sample_location[\"ddbar\"]=ddbar_sample\n",
    "            sample_location[\"ssbar\"]=ssbar_sample\n",
    "            sample_location[\"taupair\"]=taupair_sample\n",
    "\n",
    "    return sample_location\n",
    "  \n",
    "sample_loc=sample_name(option='pid_0_5', location=location) \n",
    "print(sample_loc )\n",
    "\n"
   ]
  },
  {
   "cell_type": "code",
   "execution_count": 7,
   "id": "a22364af",
   "metadata": {},
   "outputs": [
    {
     "ename": "NameError",
     "evalue": "name 'sample_location' is not defined",
     "output_type": "error",
     "traceback": [
      "\u001b[0;31m---------------------------------------------------------------------------\u001b[0m",
      "\u001b[0;31mNameError\u001b[0m                                 Traceback (most recent call last)",
      "Input \u001b[0;32mIn [7]\u001b[0m, in \u001b[0;36m<cell line: 1>\u001b[0;34m()\u001b[0m\n\u001b[0;32m----> 1\u001b[0m pd_df \u001b[38;5;241m=\u001b[39m generic_ntuple(vector\u001b[38;5;241m=\u001b[39m\u001b[38;5;124m'\u001b[39m\u001b[38;5;124mphi\u001b[39m\u001b[38;5;124m'\u001b[39m, variables_dict\u001b[38;5;241m=\u001b[39mplot_variables,sample_location\u001b[38;5;241m=\u001b[39m\u001b[43msample_location\u001b[49m)\n",
      "\u001b[0;31mNameError\u001b[0m: name 'sample_location' is not defined"
     ]
    }
   ],
   "source": [
    "pd_df = generic_ntuple(vector='phi', variables_dict=plot_variables,sample_location=sample_loc)"
   ]
  },
  {
   "cell_type": "code",
   "execution_count": 19,
   "id": "6f25dc06",
   "metadata": {},
   "outputs": [
    {
     "ename": "NameError",
     "evalue": "name 'pd_df' is not defined",
     "output_type": "error",
     "traceback": [
      "\u001b[0;31m---------------------------------------------------------------------------\u001b[0m",
      "\u001b[0;31mNameError\u001b[0m                                 Traceback (most recent call last)",
      "Input \u001b[0;32mIn [19]\u001b[0m, in \u001b[0;36m<cell line: 1>\u001b[0;34m()\u001b[0m\n\u001b[0;32m----> 1\u001b[0m plt\u001b[38;5;241m.\u001b[39mhist(\u001b[43mpd_df\u001b[49m\u001b[38;5;241m.\u001b[39mD0_M , label\u001b[38;5;241m=\u001b[39m\u001b[38;5;124mr\u001b[39m\u001b[38;5;124m'\u001b[39m\u001b[38;5;124m$\u001b[39m\u001b[38;5;124m\\\u001b[39m\u001b[38;5;124mrho^0$ bkg\u001b[39m\u001b[38;5;124m'\u001b[39m,bins\u001b[38;5;241m=\u001b[39m\u001b[38;5;241m100\u001b[39m,  histtype\u001b[38;5;241m=\u001b[39m\u001b[38;5;124m'\u001b[39m\u001b[38;5;124mstep\u001b[39m\u001b[38;5;124m'\u001b[39m)\n",
      "\u001b[0;31mNameError\u001b[0m: name 'pd_df' is not defined"
     ]
    }
   ],
   "source": [
    "plt.hist(pd_df.D0_M , label=r'$\\rho^0$ bkg',bins=100,  histtype='step') "
   ]
  },
  {
   "cell_type": "code",
   "execution_count": 21,
   "id": "d46b1eb0",
   "metadata": {},
   "outputs": [
    {
     "name": "stdout",
     "output_type": "stream",
     "text": [
      "             D0_M\n",
      "count  494.000000\n",
      "mean     1.843708\n",
      "std      0.114045\n",
      "min      1.665349\n",
      "25%      1.743349\n",
      "50%      1.837982\n",
      "75%      1.933589\n",
      "max      2.064288\n"
     ]
    }
   ],
   "source": [
    "#file = '/group/belle/users/jaeyoung/storage/01_recon/train/recon_output.root'\n",
    "# file = '/home/jykim/nas/storage/01_recon/merge_generic_bkg/ccbar/train_v1_yes_signal_ccbar_recon_output_0*.root'\n",
    "file = charged_sample\n",
    "#file = '/group/belle/users/jaeyoung/storage/01_recon/merge_generic_bkg/charged/train_v1_yes_signal_charged_recon_output_01.root'\n",
    "tree = 'rho'\n",
    "base_filter = '(D0_M>1.665 && D0_M<2.065) && (gamma_E>0.55)  && ( abs(Rho_M- 0.77526) < 0.150 ) &&  Dstarp_CMS_p>2.72 && abs(Dstarp_Q-0.00593)<0.0006'\n",
    "#variables=['pip_E','pim_E','pi0_E','pip_px','pim_px','pi0_px','pip_py','pim_py','pi0_py','pip_pz','pim_pz','pi0_pz']\n",
    "variables=['D0_M']\n",
    "\n",
    "pd_df = get_data(file=file, tree=tree,variables=variables ,base_filter=base_filter)\n",
    "print(pd_df.describe())\n"
   ]
  },
  {
   "cell_type": "code",
   "execution_count": 22,
   "id": "7894e913",
   "metadata": {},
   "outputs": [
    {
     "data": {
      "text/plain": [
       "<matplotlib.legend.Legend at 0x7fb3ef741120>"
      ]
     },
     "execution_count": 22,
     "metadata": {},
     "output_type": "execute_result"
    },
    {
     "data": {
      "image/png": "[encoded data removed]",
      "text/plain": [
       "<Figure size 576x396 with 1 Axes>"
      ]
     },
     "metadata": {},
     "output_type": "display_data"
    }
   ],
   "source": [
    "plt.hist(pd_df['D0_M'], label=r'$\\rho^0$ bkg',bins=100,  histtype='step') \n",
    "ax = plt.gca()\n",
    "ax.set_xlim(1.665, 2.065)   \n",
    "xlabel = r'$M(D^0)$ $[\\mathrm{GeV}/c^2]$ '\n",
    "plot_title =  '0.7$ab^{-1}$ ccbar'\n",
    "\n",
    "ax.set_xlabel(xlabel)\n",
    "plt.title(plot_title)\n",
    "plt.legend()"
   ]
  },
  {
   "cell_type": "code",
   "execution_count": null,
   "id": "3e070f28",
   "metadata": {},
   "outputs": [],
   "source": []
  },
  {
   "cell_type": "code",
   "execution_count": null,
   "id": "971cec6d",
   "metadata": {},
   "outputs": [],
   "source": []
  }
 ],
 "metadata": {
  "kernelspec": {
   "display_name": "Python 3 (ipykernel)",
   "language": "python",
   "name": "python3"
  },
  "language_info": {
   "codemirror_mode": {
    "name": "ipython",
    "version": 3
   },
   "file_extension": ".py",
   "mimetype": "text/x-python",
   "name": "python",
   "nbconvert_exporter": "python",
   "pygments_lexer": "ipython3",
   "version": "3.10.4"
  }
 },
 "nbformat": 4,
 "nbformat_minor": 5
}
